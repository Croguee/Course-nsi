{
 "cells": [
  {
   "cell_type": "markdown",
   "metadata": {},
   "source": [
    "# Sommaire\n",
    "\n",
    "## 1 : Histoire de l'informatique\n",
    "## 2 : Représentation des données : types et valeurs de base\n",
    "\n",
    "- [Représentation d'un entier naturel](2_Representation_Donnees_Base/1_Representation_entiers_naturels.ipynb)\n",
    "- [Représentation d'un entier relatif](2_Representation_Donnees_Base/2_Representation_entiers_relatifs.ipynb)\n",
    "\n",
    "## 3 : Représentation des données : types construits\n",
    "## 4 : Traitement des données en tables\n",
    "## 5 : IHM sur le Web\n",
    "## 6 : Architectures materielles et systèmes d'exploitation\n",
    "- [Modèle d'architecture séquentielle](6_Architecture/1_modele_architecture.ipynb)\n",
    "## 7 : Langages et programmation\n",
    "## 8 : Algorithmique\n",
    "\n",
    "<div class=\"alert alert-error\">\n",
    "Don't try to type into a cell in command mode\n",
    "</div>\n",
    "\n"
   ]
  },
  {
   "cell_type": "code",
   "execution_count": null,
   "metadata": {},
   "outputs": [],
   "source": []
  }
 ],
 "metadata": {
  "kernelspec": {
   "display_name": "Python 3",
   "language": "python",
   "name": "python3"
  },
  "language_info": {
   "codemirror_mode": {
    "name": "ipython",
    "version": 3
   },
   "file_extension": ".py",
   "mimetype": "text/x-python",
   "name": "python",
   "nbconvert_exporter": "python",
   "pygments_lexer": "ipython3",
   "version": "3.7.5"
  }
 },
 "nbformat": 4,
 "nbformat_minor": 2
}
