{
 "cells": [
  {
   "cell_type": "markdown",
   "metadata": {},
   "source": [
    "# Sommaire\n",
    "\n",
    "## 1 : Histoire de l'informatique\n",
    "## 2 : Représentation des données : types et valeurs de base\n",
    "\n",
    "- 2.1 [Représentation d'un entier naturel](2_Representation_Donnees_Base/1_Representation_entiers_naturels.ipynb)\n",
    "- 2.2 [Représentation d'un entier relatif](2_Representation_Donnees_Base/2_Representation_entiers_relatifs.ipynb)\n",
    "- 2.3 [Représentation approximative d'un nombre réel](2_Representation_Donnees_Base/3_Representation_nombres_reels.ipynb)\n",
    "\n",
    "## 3 : Représentation des données : types construits\n",
    "\n",
    "## 4 : Traitement des données en tables\n",
    "- [TP csv](4_Traitement_Donnees_Tables/TP.ipynb)\n",
    "\n",
    "## 5 : IHM sur le Web\n",
    "## 6 : Architectures materielles et systèmes d'exploitation\n",
    "\n",
    "- [Modèle d'architecture séquentielle](6_Architecture/1_modele_architecture.ipynb)\n",
    "- [Système d'exploitation](6_Architecture/3_systeme_exploitation.ipynb)\n",
    "\n",
    "## 7 : Langages et programmation\n",
    "\n",
    "- [7.1 Constructions élémentaires](7_Langages/1_constructions_elementaires.ipynb)\n",
    "- [7.2 Diversité et unité des langages de programmation](7_Langages/2_diversite_unite.ipynb)\n",
    "- [7.3 Spécification](7_Langages/3_specifications.ipynb)\n",
    "- [7.4 Mise au point de programme](7_Langages/4_mise_au_point_programmes.ipynb)\n",
    "- [7.5 Utilisation de bibliothèques](7_Langages/5_utilisations_bibliotheques.ipynb)\n",
    "\n",
    "## 8 : Algorithmique\n"
   ]
  },
  {
   "cell_type": "code",
   "execution_count": null,
   "metadata": {},
   "outputs": [],
   "source": []
  }
 ],
 "metadata": {
  "kernelspec": {
   "display_name": "Python 3",
   "language": "python",
   "name": "python3"
  },
  "language_info": {
   "codemirror_mode": {
    "name": "ipython",
    "version": 3
   },
   "file_extension": ".py",
   "mimetype": "text/x-python",
   "name": "python",
   "nbconvert_exporter": "python",
   "pygments_lexer": "ipython3",
   "version": "3.7.4"
  }
 },
 "nbformat": 4,
 "nbformat_minor": 4
}
