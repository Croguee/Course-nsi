{
 "cells": [
  {
   "cell_type": "markdown",
   "metadata": {},
   "source": [
    "[Retour au sommaire](../../index.ipynb)"
   ]
  },
  {
   "cell_type": "markdown",
   "metadata": {},
   "source": [
    "# 4.2 Gestion des processus par le système d'exploitation\n",
    "\n",
    "Pour étudier la gestion des processus par un système d'exploitation nous allons utiliser l'OS GNU/Linux.\n",
    "\n",
    "Mais avant tout qu'est ce qu'un processus?\n",
    "\n",
    "**Définitions**\n",
    "\n",
    "Un **processus** est un programme en **cours d'exécution**.\n",
    "Pour fonctionner un processus nécessite:\n",
    "- Un **ensemble d'instructions** à executer par le processeur. Ces instructions sont, la plupart du temps, transférées de la mémoire de masse (disque dur) vers la mémoire vive (RAM);\n",
    "- Un **espace d'adressage en mémoire vive** pour trouver les données de travail;\n",
    "- Des **ressources matérielles** permettant les entrées sorties des données ( Disque dur, carte réseau, carte graphique...)\n",
    "\n",
    "Un **fichier executable** est un programme (le plus souvent écrit dans un langage haut niveau : java, python, haskell, C, C++) et compilé pour l'écrire sous forme de langage machine pouvant être interprété par le processeur.\n",
    "\n",
    "Le code source d'un même programme peut être utilisé sous plusieurs architectures matérielles grace au complilateur, par exemple gcc sous GNU/Linux.\n",
    "\n",
    "Il ne faut pas confondre le fichier executable (.exe sous Windows) et le, ou les, processus que ce fichier va générer :\n",
    " - Un executable est un programme sous forme de fichier;\n",
    " - Un processus est une instance de ce programme associée aux ressources nécessaires à son fonctionnement.\n",
    "\n",
    "\n"
   ]
  },
  {
   "cell_type": "markdown",
   "metadata": {},
   "source": [
    "## Le rôle du système d'exploitation\n",
    "\n",
    "Les systèmes d'exploitation modernes (GNU/Linux, iOS, Symbian, Android...) sont appelés multi-tâches. Ils permettent de donner l'impression à l'utilisateur que plusieurs processus peuvent être executés en même temps. En réalité les processus sont exécutés chacun leur tour grace à un **système d'états**.\n",
    "\n",
    "**Remarque**:\n",
    "Si il y a plusieurs processeurs, l'exécution des processus est distribuée entre eux.\n",
    "\n",
    "Le rôle du système d'exploitation est de créer, ordonnancer, et executer les multiples processus."
   ]
  },
  {
   "cell_type": "markdown",
   "metadata": {},
   "source": [
    "## création d'un processus\n",
    "\n",
    "Un processus est créé :\n",
    "- au démarrage de l'OS\n",
    "- par l'appel d'un autre processus\n",
    "- par une action extérieure (utilisateur, réseau...)\n",
    "\n",
    "sous GNU/Linux, la création d'un processus clone se fait par l'appel de **fork()** par un autre processus.\n",
    "Si un processus A crée un processus B  et C par l'appel d'un fork alors\n",
    "\n",
    "- A est le père de B\n",
    "- A est le père de C\n",
    "- B et C sont les fils de A\n",
    "\n",
    "Après clonage, un processus peut remplacer son programme par un autre programme grace à l'appel système **exec()**.\n",
    "\n",
    "Les sous processus peuvent à leur tour créer des processus fils.\n",
    "On peut modéliser ces relations par un arbre.\n",
    "\n",
    "![process_tree](img/process_tree.jpg)\n",
    "\n",
    "Les processus sont identifiés par leur **PID** (Process ID). Le PID est envoyé au processus père afin qu'il puisse communiquer avec son fils, et chaque processus possède l'identifiant de son père le **PPID** (Parent Process ID).\n",
    "\n",
    "\n",
    "Mais qui est le premier processus ?\n",
    "\n",
    "Avant le lancement du système, le chargeur d'amorce ( MBR : Master Boot Record) démarre le noyau linux avec la fonction start_kernel().\n",
    "Cette fonction va créer le tout premier processus, le swapper (c'est le processus 0), il n'est le fils d'aucun processus.\n",
    "Ce processus, avant de s'endormir, crée à son tour:\n",
    "- le processus 1 (init ou systemd) qui va créer les premiers processus nécessaires au fonctionnement du système.\n",
    "- le processus 2 ( [kthreadd] ) qui va gérer la partie matérielle\n",
    "\n",
    "![2 premiers processus](img/graphe-hierarchie-up-p.jpg)\n",
    "\n",
    "\n",
    "**Remarque**\n",
    "\n",
    "les processus de PID 1 et 2 ont pour PPID 0.\n",
    "\n",
    "### les processus de l'espace utilisateur\n",
    "\n",
    "Les processus enfants issus de init concernent l'**espace utilisateur** du système.\n",
    "On y trouve, entre autres:\n",
    "- les processus bas niveaux\n",
    "- les processus des programmes\n",
    "- les processus des demons ( tâche qui tourne en tâche de fond, reconnaissable par un nom qui se termine par d)\n",
    "\n",
    "![processus espace utilisateur](img/graphe-hierarchie-user-p.jpg)\n",
    "\n",
    "### les processus du noyau\n",
    "\n",
    "Les processus enfants issus de kthreadd concernent l'**espace noyau**.\n",
    "Tous les processus de cet espace ont pour père kthreadd, ils ont tous comme PPID 2.\n",
    "Tous les noms des processus de cet espace sont entourés par des crochets.\n",
    "\n",
    "![processus espace noyau](img/graphe-hierarchie-noyau-p.jpg)\n",
    "\n",
    "### L'interface vers le noyau\n",
    "\n",
    "le dossier /proc est un pseudo-système de fichier qui sert d'interface avec le noyau.\n",
    "Ainsi il est possible de lire des informations sur un processus depuis ce système de fichier.\n",
    "\n",
    "Les informations disponibles sur un processus peuvent être lues depuis l'arborescence /proc/<PID du process>"
   ]
  },
  {
   "cell_type": "markdown",
   "metadata": {},
   "source": [
    "## Commandes utiles\n",
    "Plusieurs commandes linux utilisent cette interface vers le noyau afin de visualiser l'état des processus\n",
    "Parmis ces commandes on trouve:\n",
    "- ps\n",
    "- pstree\n",
    "- top"
   ]
  },
  {
   "cell_type": "markdown",
   "metadata": {},
   "source": [
    "## Les différents états d'un processus et leur ordonnancement\n",
    "\n",
    "Les états standards d'un processus sont:\n",
    "\n",
    "- Initialisation (new) : C'est le prier état d'un processus. Il attend que l'ordonnanceur le place dans l'état suivant (prêt)\n",
    "- Prêt (ready) : Dans cet état le processus est chargé en mémoire centrale et attend son execution par le processeur. Les processus sont rangés dans une file qui est gérée par l'ordonnanceur.\n",
    "- Elu (Running) : le processus est en cours d'exécution par le processeur\n",
    "- Endormi (waiting) : un processus élu peut passer dans cet état car le processeur doit attendre un événement ( lecture de disque dur, réponse réseau...)\n",
    "- Terminé (terminated) : le programme est terminé (le résultat est connu ou le programme a été forcé de s'arrêter)\n",
    "\n",
    "Voici le diagramme d'états-transitions d'un processus\n",
    "\n",
    "![diagramme états-transitions d'un processus](img/250px-Diagrammedétatdunprocessus_1.png)\n",
    "\n",
    "Un système simple coeur ne peut exécuteur qu'une instruction à la fois. Il ne peut y avoir qu'un seul processus qui se trouve dans l'état élu, les autres processus doivent attendre leur tour pour être exécutés. Les transitions entre les différents états est assuré ar l'**ordonnanceur** (scheduleur), un de ses rôles est de déterminer qui parmi les processus prêts va passer à l'état élu.\n",
    "\n",
    "L'ordonnanceur du systême d'exploitation est un élément critique car la réactivité du système va dépendre de lui. Sous GNU/Linux il est possible de dialogueur avec l'ordonnaceur en fixant des priorités différentes aux processus."
   ]
  },
  {
   "cell_type": "markdown",
   "metadata": {},
   "source": [
    "## Webographie\n",
    "- [Processus Wikipedia](https://fr.wikipedia.org/wiki/Processus_(informatique))\n",
    "- [lecluse.fr](https://www.lecluse.fr/nsi/NSI_T/archi/process/)\n",
    "- [nsi4noobs](http://nsi4noobs.fr/Les-processus-informatiques)\n",
    "- [it-connect.fr](https://www.it-connect.fr/les-processus-sous-linux/)"
   ]
  },
  {
   "cell_type": "markdown",
   "metadata": {},
   "source": [
    "[Retour au sommaire](../../index.ipynb)"
   ]
  }
 ],
 "metadata": {
  "kernelspec": {
   "display_name": "Python 3",
   "language": "python",
   "name": "python3"
  },
  "language_info": {
   "codemirror_mode": {
    "name": "ipython",
    "version": 3
   },
   "file_extension": ".py",
   "mimetype": "text/x-python",
   "name": "python",
   "nbconvert_exporter": "python",
   "pygments_lexer": "ipython3",
   "version": "3.7.4"
  }
 },
 "nbformat": 4,
 "nbformat_minor": 4
}
