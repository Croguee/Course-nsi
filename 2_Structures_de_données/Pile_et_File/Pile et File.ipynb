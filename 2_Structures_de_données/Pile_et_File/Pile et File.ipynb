{
 "cells": [
  {
   "cell_type": "markdown",
   "metadata": {},
   "source": [
    "# Structure de données : Pile et File\n",
    "\n",
    "Un des problèmes fondamentaux de l'informatique est le stockage des données. Pour les stocker et les manipuler de façon optimale il est nécessaire d'utiliser des structures de donnnées adaptées au problème pose.\n",
    "\n",
    "Nous allons découvrir dans ce cours deux types de structures simples:\n",
    "- Les piles\n",
    "- Les files\n",
    "Les piles et les files sont des structures linéaires.\n"
   ]
  },
  {
   "cell_type": "markdown",
   "metadata": {
    "heading_collapsed": true
   },
   "source": [
    "## Les piles\n",
    "\n",
    "Une pile (*stack* en anglais) est une structure de donnée fondée sur le principe \"Dernier arrivé, premier sorti\".\n",
    "\n",
    "En anglais on ce principe \"LIFO\" pour \"**L**ast **I**n **F**irst **O**ut\".\n",
    "\n",
    "<img src=\"../img/stack.jpeg\" />\n",
    "\n",
    "__Définition__ : On dit qu'un liste a une structure en pile si seule la dernière donnée ajoutée à la liste est accessible.\n",
    "\n",
    "### Utilisation\n",
    "\n",
    "On trouve souvent ce type de structure de données en informatique comme dans :\n",
    "\n",
    "- l'historique de navigation d'un navigateur web\n",
    "- la fonction undo d'un logiciel\n",
    "- l'interpréteur Python. La pile est visible lorsqu'une erreur se produit.\n",
    "- ...\n",
    "\n",
    "### Les primitives\n",
    "\n",
    "Pour implémenter une pile il est nécessaire qu'elle implémente les fonctions suivantes ( et uniquement celles-ci):\n",
    "- Créer une pile vide, retourne la pile\n",
    "- Vérifier que la pile est vide (isEmpty()) retourne Boolean\n",
    "- Empiler un élément dans la pile (push(element)), retourne la pile\n",
    "- Dépiler un élément de la pile (pop(element)), retourne l'élement dépilé\n",
    "- Connaitre l'élement du sommet de la pile sans dépiler (summit), retourne l'élement\n",
    "- Contaire la taille de la pile (size) retourne un entier\n",
    "\n",
    "### Implémentation en Python\n",
    "\n",
    "En python, il existe le type de données liste, qui permet d'implémenter facilement une pile.\n",
    "Lors de l'implémentation de notre pile nous allons utiliser un mode de développement que l'on appelle [test driven development](https://fr.wikipedia.org/wiki/Test_driven_development).\n",
    "\n"
   ]
  },
  {
   "cell_type": "markdown",
   "metadata": {},
   "source": [
    "## Bibliographie\n",
    "\n",
    "- [monlyceenumerique.fr](http://monlyceenumerique.fr/nsi_terminale/sd/sd1_interface.html)\n",
    "- [Wikipedia](https://fr.wikipedia.org/wiki/Pile_(informatique))"
   ]
  },
  {
   "cell_type": "code",
   "execution_count": null,
   "metadata": {},
   "outputs": [],
   "source": []
  }
 ],
 "metadata": {
  "kernelspec": {
   "display_name": "Python 3",
   "language": "python",
   "name": "python3"
  },
  "language_info": {
   "codemirror_mode": {
    "name": "ipython",
    "version": 3
   },
   "file_extension": ".py",
   "mimetype": "text/x-python",
   "name": "python",
   "nbconvert_exporter": "python",
   "pygments_lexer": "ipython3",
   "version": "3.7.4"
  }
 },
 "nbformat": 4,
 "nbformat_minor": 2
}
