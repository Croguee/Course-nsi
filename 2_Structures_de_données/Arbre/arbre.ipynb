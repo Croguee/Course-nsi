{
 "cells": [
  {
   "cell_type": "markdown",
   "metadata": {},
   "source": [
    "# Structure de données : les arbres\n",
    "\n",
    "En informatique les arbres sont des structures de données. Contrairement à la file et à la pile, cette structure n'est pas linéaire mais **hiérarchique**.\n",
    "Ces structures sont omniprésentes car elles permettent de représenter une organisation hiérarchique.\n",
    "\n",
    "## Quelques exemples\n",
    "\n",
    "- Le DOM (Document object Model) représente la structure hiérarchique d'une page html\n",
    "- Les systèmes de fichiers\n",
    "- Un arbre généalogique\n",
    "- Un tournoi\n",
    "- [L'évolution de la distribution Debian](https://upload.wikimedia.org/wikipedia/commons/1/1b/Linux_Distribution_Timeline.svg)\n",
    "- etc etc...\n",
    "\n",
    "## Composition d'un arbre\n",
    "\n",
    "Un arbre est constitué de noeuds (ou sommet) et d'arêtes (ou arcs) qui relient les noeuds entre-eux. Il faut cependant ajouter comme contrainte qu'**il ne peut y avoir de cycle dans un arbre**, sinon on obtient un graphe.\n",
    "\n",
    "Un arbre peut être conçu récursivement comme étant un **noeud** dont les **arêtes** sont reliées à zéro ou plusieurs **arbres**.\n",
    "\n",
    "![un arbre](img/tree.gv.svg)"
   ]
  },
  {
   "cell_type": "markdown",
   "metadata": {
    "toc-hr-collapsed": true,
    "toc-nb-collapsed": true
   },
   "source": [
    "## Vocabulaire\n",
    "\n",
    "- Chaque élément de l'arbre est appelé **noeud**. Dans l'exemple ci-dessus A, B, C, D..., G sont des **noeuds** de l'arbre.\n",
    "- Une **arête**, ou **arc**, relie deux noeuds.\n",
    "- Le noeud initial est appelé **racine**.\n",
    "- Le **chemin** d'un noeud est la suite de noeuds qu'il faut passer pour aller de la racine à ce noeud. Le chemin de E est (A, B, E).\n",
    "\n",
    "### Généalogie\n",
    "- Les noeuds B, C et D sont les **enfants**, ou **fils**, du noeud A, ou le noeud A est le **parent** de B, C et D.\n",
    "- Un noeud sans fils est un **noeud externe** ou **feuille**. Ici E, F, G et D sont des **feuilles** de l'arbre.\n",
    "- Un **noeud interne** est un noeud ayant au moins un enfant.\n",
    "- Des noeuds ayant le même parent sont des **frères**. B, C et D sont des frères.\n",
    "- Un **sous-arbre** est la partie de l'arbre contenant un noeud et tous ces descendants.\n",
    "\n",
    "![un sous-arbre](img/sub-tree.gv.svg)\n",
    "\n",
    "## Quelques mesures\n",
    "- La **taille d'un arbre** est le nombre de noeuds de l'arbre.\n",
    "- La **profondeur d'un noeud** est le nombre d'arêtes que l'on traverse depuis la racine à ce noeud.\n",
    "  - La profondeur du noeud G est 2\n",
    "  - La profondeur de la racine est 0\n",
    "- La **hauteur de l'arbre** est la profondeur maximale de l'ensemble des noeuds de l'arbre +1. (Le +1 est affaire de convention)\n",
    "- La **hauteur d'un noeud** est la hauteur de l'arbre - la profondeur du noeud.\n",
    "\n",
    "![hauteur profondeur](img/heigh_depth.gv.svg)\n",
    "\n",
    "- L'**arité** d'un noeud est le nombre d'enfants de ce noeud\n",
    "- L'**arité** d'un arbre est le maximum de l'arité des noeuds de l'arbre.\n",
    "\n"
   ]
  },
  {
   "cell_type": "markdown",
   "metadata": {},
   "source": [
    "# Les arbres binaires\n",
    "\n",
    "Un **arbre binaire** est un arbre dont les noeuds possèdent au maximum deux enfants.\n",
    "\n",
    "On distingue le **fils gauche** d'un noeud et le **fils droit** d'un noeud.\n",
    "\n",
    "## Quelques types particuliers d'arbres binaires\n",
    "Un arbre binaire **strict** est un arbre dont tous les noeuds possèdent 0 ou 2 fils.\n",
    "\n",
    "![arbre binaire strict](img/full_binary_tree.gv.svg)\n",
    "\n",
    "Un arbre binaire **parfait** est un arbre binaire dans lequel tous les nouveaux sont remplis. Autrement dit toutes les feuilles sont à la même profondeur.\n",
    "\n",
    "![arbre binaire parfait](img/perfect_binary_tree.gv.svg)\n",
    "\n",
    "Un arbre binaire **dégénéré** est un arbre binaire dans lequel chaque noeud parent a un seul enfant. Autrement dit l'arbre ne possède qu'une feuille.\n",
    "Un arbre dégénéré equivaut donc à une liste chaînée.\n",
    "\n",
    "![arbre binaire dégénéré](img/degenerated_binary_tree.gv.svg)"
   ]
  },
  {
   "cell_type": "markdown",
   "metadata": {},
   "source": [
    "## Quelques exemples d'arbre binaire\n",
    "\n",
    "- L'arbre généalogique de vos ascendants\n",
    "- Un tournoi de pétanque\n",
    "- Une expression mathématiques"
   ]
  },
  {
   "cell_type": "markdown",
   "metadata": {
    "toc-hr-collapsed": true,
    "toc-nb-collapsed": true
   },
   "source": [
    "# Exercices\n",
    "\n",
    "## Arbre de calcul\n",
    "\n",
    "Soit l'expression mathématique suivante : $A=(2+x)\\times3-4x+1$\n",
    "\n",
    "La construction de cet arbre est la suivante : on repère l'opération de **moins forte priorité** (celle qui sera faite en dernier) ce sera la racine.\n",
    "On réitère l'opération avec l'expression restante de gauche et l'expression restante de droite.\n",
    "Lorsqu'il n'y a plus d'opération, les opérandes représentent les feuilles de l'arbre et la construction s'arrête.\n",
    "\n",
    "On obtient donc l'arbre binaire suivant:\n",
    "\n",
    "![arbre binaire dégénéré](img/math_expression_tree.gv.svg)\n",
    "\n",
    "Questions:\n",
    "\n",
    "1. Quelle est la taille de cet arbre?\n",
    "2. Quelle est la hauteur de l'arbre?\n",
    "3. Quelle est la hauteur du noeud $-$ ? \n",
    "4. Quelle est sa profondeur du noeud $-$ ?\n",
    "5. Quel est le chemin du noeud $-$ ?\n",
    "6. Qui sont les ancêtres de 4?\n",
    "7. Quel est le type de cet arbre binaire?\n",
    "\n",
    "Construire l'arbre binaire de calcul de cette expression mathématique $B=3-2e^x+max(4;x)$\n",
    "\n",
    "## Un peu de réflexion\n",
    "\n",
    "- Combien d'arêtes comporte un arbre binaire de taille t ?\n",
    "- Combien de feuilles, au minimum, comporte un arbre de hauteur h? et au maximum ?"
   ]
  },
  {
   "cell_type": "markdown",
   "metadata": {},
   "source": [
    "# Parcours d'arbre\n",
    "\n",
    "## Parcours d'arbre en profondeur\n",
    "\n",
    "![parcours d'arbre](img/1024px-Sorted_binary_tree_ALL.svg.png)\n",
    "\n",
    "Nous allons découvrir 3 parcours en profondeur d'un arbre\n",
    "\n",
    "### Le parcours préfixe (Pre-order : NLR)\n",
    "Dans ce parcours chaque noeud est affiché puis chacun de ces fils (en rouge sur le schéma).\n",
    "\n",
    "Ce parcours permet d'obtenir une liste triée de façon topologique, en effet chaque parent apparait avant ses enfants.\n",
    "\n",
    "Ce parcours peut être utilisé pour la copie d'un arbre.\n",
    "\n",
    "### Le parcours postfixe (Post-order : LRN)\n",
    "Dans ce parcours chaque fils est affiché puis le noeud (en vert sur le schéma).\n",
    "\n",
    "Ce parcours peut être utilisé pour supprimer un arbre (on supprime les enfants avec le parent)\n",
    "\n",
    "### Le parcours infixe (In-order : LNR)\n",
    "Dans ce parcours le fils gauche est affiché puis le noeud puis le fils droit (en jaune sur le schéma).\n",
    "\n",
    "Ce parcours est utilisé dans les arbres binaires de recherche (Binary Search Tree : BST)\n",
    "\n",
    "### Exercices\n",
    "\n",
    "- "
   ]
  }
 ],
 "metadata": {
  "kernelspec": {
   "display_name": "Python 3",
   "language": "python",
   "name": "python3"
  },
  "language_info": {
   "codemirror_mode": {
    "name": "ipython",
    "version": 3
   },
   "file_extension": ".py",
   "mimetype": "text/x-python",
   "name": "python",
   "nbconvert_exporter": "python",
   "pygments_lexer": "ipython3",
   "version": "3.7.4"
  }
 },
 "nbformat": 4,
 "nbformat_minor": 4
}
