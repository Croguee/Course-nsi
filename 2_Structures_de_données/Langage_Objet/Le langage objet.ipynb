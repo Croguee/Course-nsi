{
 "cells": [
  {
   "cell_type": "markdown",
   "metadata": {},
   "source": [
    "# La programmation objet\n",
    "\n",
    "La programmation objet ( POO ) un nouveau paradigme de programmation.\n",
    "\n",
    "Pour l'instant vous avez étudié la programmation impérative qui peut se décrire comme une suite de séquences d'instructions qui permet de modifier l'état du programme.\n",
    "\n",
    "Nous allons maintenant découvrir comment \"réfléchir objet\".\n",
    "\n",
    "## Qu'est qu'un objet ?\n",
    "\n",
    "Un objet n'est ni une fonction, ni une variable, ni un programme c'est un **nouveau concept**.\n",
    "\n",
    "Le mot objet n'a pas été choisi au hasard, par sa définition très vaste il reflète ce que peut être un objet en informatique. C'est un objet qui a été modélisé sous forme de programme ( voiture, étudiant, souris... )\n",
    "\n",
    "Prenons le premier exemple : la voiture.\n",
    "\n",
    "Pour un simple utilisateur, une voiture peut avoir \n",
    "\n",
    "- des qualificatifs:\n",
    "  - couleur\n",
    "  - marque\n",
    "  - modèle\n",
    "  - puissance\n",
    "- des fonctions\n",
    "  - démarrer\n",
    "  - accélérer\n",
    "  - freiner\n",
    "  - tourner\n",
    "  - klaxonner\n",
    "  \n",
    "Ces qualificatifs ( **attributs** en POO ) et ces fonctions ( **méthodes en POO** ) sont connues de l'utilisateur. Les méthodes de cet objet sont accessibles à l'utilisateur via des manettes, des pédales, le volant...\n",
    "L'utilisation d'une voiture est assez simple il suffit de connaitre l'**interface** qui permet de l'utiliser ( le volant, les pédales, le levier de vitesse, les manettes... )\n",
    "\n",
    "Pourtant c'est un objet très complexe et quand l'utilisateur tourne le volant il ne se préoccupe pas de savoir que la colonne de direction sollicite le moteur électrique de la direction assistée qui opére une translation de la crémaillère de direction qui à son tour actionne les biellettes et les rotules de direction qui font tourner les roues. ( heureusement... )\n",
    "\n",
    "Utiliser la programmation objet permet de fournir à son utilisateur les fonctions ( **méthodes** ) uniquement essentielles à son utilisation.\n",
    "En revanche concevoir un programme va nécessite de coder l'ensemble des rouages internes à l'objet pour que celui-ci puisse fonctionnner correctement tout en les cachant à l'utilisateur.\n",
    "\n",
    "Par exemple l'utilisateur d'une voiture ne peut pas ( et ne doit pas ) commander l'allumage des bougies du moteur.\n",
    "\n",
    "Pour commencer à comprendre ce nouveau concept nous allons utiliser le langage Python et le but de cours / TP est d'appréhender au fur et à mesure la théorie de la POO via un exemple. Nous allons créer un objet **Fighter**.\n",
    "\n",
    "## Une première classe\n",
    "\n",
    "En POO une **classe** est une espèce de moule à partir duquel nous allons créer toutes nos **instances**.\n",
    "\n",
    "__Remarque__:\n",
    "L'analogie avec un moule a ses limites car deux objets qui sortent d'un moule sont rigoureusement identiques, ce qui n'est le cas en POO.\n",
    "\n",
    "La définition d'une classe en Python commence par le mot _class_ suivi du nom de la classe commençant par une majuscule ( convention forte ) puis \":\".\n"
   ]
  },
  {
   "cell_type": "code",
   "execution_count": 27,
   "metadata": {},
   "outputs": [],
   "source": [
    "class Fighter:\n",
    "    \"\"\"\n",
    "    La classe d'un fighter\n",
    "    \"\"\"\n",
    "    pass # pour l'instant notre classe ne fait rien de spécial\n",
    "\n",
    "# Ensuite on va créer deux fighters marcel et maurice\n",
    "\n",
    "marcel=Fighter() # marcel est une instance de la classe Fighter\n",
    "maurice=Fighter() # maurice est une instance de la classe Fighter"
   ]
  },
  {
   "cell_type": "markdown",
   "metadata": {},
   "source": [
    "**Utiliser ce code dans votre éditeur et regarder les variables marcel et maurice.**\n"
   ]
  },
  {
   "cell_type": "markdown",
   "metadata": {},
   "source": [
    "Marcel et Maurice sont donc des **instances** de la **classe** Fighter mais ils n'ont ni **attribut** ni **méthode**."
   ]
  },
  {
   "cell_type": "markdown",
   "metadata": {},
   "source": [
    "## Les attributs\n",
    "\n",
    "Nous allons ajouter à notre classe des attributs:\n",
    "\n",
    "- Un nom ( string )\n",
    "- Une description ( string )\n",
    "- Une agilité ( integer de 0 à 10 )\n",
    "- Des points de vie (integer 100)\n",
    "\n",
    "Pour effectuer cela nous allons créer une méthode \\__init__ dans la classe Fighter.\n",
    "La classe devient :"
   ]
  },
  {
   "cell_type": "code",
   "execution_count": 28,
   "metadata": {},
   "outputs": [],
   "source": [
    "class Fighter:\n",
    "    \"\"\"\n",
    "    La classe d'un fighter\n",
    "    \"\"\"\n",
    "    def __init__(self, name):\n",
    "        self.name=name\n",
    "        self.description=''\n",
    "        self.agility=5\n",
    "        self.healthPoints=100 # Lors de la création d'une instance, les points de vie valent 100.\n",
    "    \n",
    "marcel=Fighter('Marcel') # on instancie avec les variables de la méthode __init__\n",
    "maurice=Fighter('Maurice')# on instancie avec les variables de la méthode __init__\n"
   ]
  },
  {
   "cell_type": "markdown",
   "metadata": {},
   "source": [
    "Nous avons vu que marcel est une instance de la classe Fighter. Après l'instanciation de marcel, Python appelle automatiquement la méthode \\__init__\n",
    "\n",
    "Vous avez remarqué la variable **self** au début de la méthode \\__init__, cette variable est requise dans toutes les méthodes de la classe et réprésente l'instance de marcel.\n",
    "\n",
    "__Remarque__ : cette variable __doit__ se nommer **self** c'est une convention très forte en Python. Ne changer jamais le nom de cette variable!!!\n",
    "\n"
   ]
  },
  {
   "cell_type": "markdown",
   "metadata": {},
   "source": [
    "## Le principe d'encapsulation\n",
    "Nous avons vu au début de ce chapitre que lorsque l'on programme objet il faut fournir à l'utilisateur de la classe uniquement les méthodes ou les attributs dont il a besoin.\n",
    "Actuellement il est possible d'accéder et de modifier l'ensemble des attributs.\n",
    "Tester le code suivant:"
   ]
  },
  {
   "cell_type": "code",
   "execution_count": 29,
   "metadata": {},
   "outputs": [
    {
     "data": {
      "text/plain": [
       "5"
      ]
     },
     "execution_count": 29,
     "metadata": {},
     "output_type": "execute_result"
    }
   ],
   "source": [
    "marcel.agility"
   ]
  },
  {
   "cell_type": "code",
   "execution_count": 30,
   "metadata": {},
   "outputs": [
    {
     "data": {
      "text/plain": [
       "2"
      ]
     },
     "execution_count": 30,
     "metadata": {},
     "output_type": "execute_result"
    }
   ],
   "source": [
    "marcel.agility=2\n",
    "marcel.agility"
   ]
  },
  {
   "cell_type": "markdown",
   "metadata": {},
   "source": [
    "On se rend compte qu'il est possible de **lire** et **modifier** l'ensemble des attributs de nos instances de la classe Fighter.\n",
    "Posons nous la question de l'accès en lecture/écriture pour les utilisateurs de notre classe.\n",
    "\n",
    "\n",
    "|             | name        | description | agility     | healthPoints|\n",
    "|-------------|-------------|-------------|-------------|-------------|\n",
    "| Lecture     |OUI          |OUI          |OUI          |OUI          |\n",
    "| Ecriture    |NON          |OUI          |NON          |NON          |\n",
    "\n",
    "\n",
    "Dans la plupart des langages objets il existe 3 niveaux de protection pour accéder aux attributs / méthodes d'un objet.\n",
    "\n",
    "- public : l'attribut / la méthode est publique (elle fait partie de l'interface de l'objet)\n",
    "- private : l'attribut / la méthode est accessible uniquement depuis la classe (elle ne fait pas partie de l'interface de l'objet)\n",
    "- protected : l'attribut / la méthode est accessible uniquement depuis la classe et les classes héritées ( hors programme )\n",
    "\n",
    "En python, les attributs/méthodes sont toujours publiques. Passer un attribut/méthode en private repose uniquement sur une convention de nommage.\n",
    "Tout attribut/méthode privé(e) commence par un \"\\_\" ne doit pas être directement appelé. Cet attribut/methode ne fait pas partie de l'interface.\n",
    "\n",
    "Une bonne pratique consiste à passer l'ensemble des attributs d'une classe en private et a créer des méthodes (getters /setters) pour accéder/modifier les attributs qui font partie de l'interface.\n",
    "\n",
    "Nous allons donc créer nos premières **méthodes** "
   ]
  },
  {
   "cell_type": "code",
   "execution_count": 31,
   "metadata": {},
   "outputs": [],
   "source": [
    "class Fighter:\n",
    "    \"\"\"\n",
    "    La classe d'un fighter\n",
    "    \"\"\"\n",
    "    def __init__(self, name):\n",
    "        self._name=name\n",
    "        self._description=''\n",
    "        self._agility=5\n",
    "        self._healthPoints=100 # Lors de la création d'une instance, les points de vie valent 100.\n",
    "        \n",
    "    def getName(self):\n",
    "        \"\"\"\n",
    "        Retourne le nom du combattant.\n",
    "        \"\"\"\n",
    "        return self._name\n",
    "    \n",
    "    def getDescription(self):\n",
    "        \"\"\"\n",
    "        Retourne la description du combattant.\n",
    "        \"\"\"\n",
    "        return self._description\n",
    "    \n",
    "    def setDescription(self, description):\n",
    "        \"\"\"\n",
    "        Affecte la description du combattant.\n",
    "        \n",
    "        \"\"\"\n",
    "        self._description=description"
   ]
  },
  {
   "cell_type": "markdown",
   "metadata": {},
   "source": [
    "**A FAIRE** : Ajouter les getters des autres attributs et essayer votre programme.\n",
    "\n",
    "Quelles sont les méthodes qui constituent l'interface de notre combattant ?"
   ]
  },
  {
   "cell_type": "code",
   "execution_count": 32,
   "metadata": {},
   "outputs": [
    {
     "data": {
      "text/plain": [
       "['__class__',\n",
       " '__delattr__',\n",
       " '__dict__',\n",
       " '__dir__',\n",
       " '__doc__',\n",
       " '__eq__',\n",
       " '__format__',\n",
       " '__ge__',\n",
       " '__getattribute__',\n",
       " '__gt__',\n",
       " '__hash__',\n",
       " '__init__',\n",
       " '__init_subclass__',\n",
       " '__le__',\n",
       " '__lt__',\n",
       " '__module__',\n",
       " '__ne__',\n",
       " '__new__',\n",
       " '__reduce__',\n",
       " '__reduce_ex__',\n",
       " '__repr__',\n",
       " '__setattr__',\n",
       " '__sizeof__',\n",
       " '__str__',\n",
       " '__subclasshook__',\n",
       " '__weakref__',\n",
       " '_agility',\n",
       " '_description',\n",
       " '_healthPoints',\n",
       " '_name',\n",
       " 'getDescription',\n",
       " 'getName',\n",
       " 'setDescription']"
      ]
     },
     "execution_count": 32,
     "metadata": {},
     "output_type": "execute_result"
    }
   ],
   "source": [
    "marcel=Fighter('marcel')\n",
    "dir(marcel)"
   ]
  },
  {
   "cell_type": "markdown",
   "metadata": {},
   "source": [
    "**A FAIRE** : Modifier la méthode \\__init\\__ afin que :\n",
    "\n",
    "- A l'instanciation, l'agilité soit un nombre aléatoire entre 1 et 9. ( from random import randrange );\n",
    "- Fighter ait une méthode getStrenght qui vaut 10-agility"
   ]
  },
  {
   "cell_type": "markdown",
   "metadata": {},
   "source": [
    "## Premier Bilan\n",
    "\n",
    "Nous avons maintenant une classe Fighter dont l'interface est la suivante:\n",
    "\n",
    "- getName()\n",
    "- getDescription()\n",
    "- setDescription(description)\n",
    "- getAgility()\n",
    "- getStrenght()\n",
    "- getHealthPoints()"
   ]
  },
  {
   "cell_type": "markdown",
   "metadata": {},
   "source": [
    "## Amélioration de la classe\n",
    "\n",
    "Il est temps que le fighter se batte avec un autre...\n",
    "\n",
    "** A FAIRE **\n",
    "- Ajouter une méthode punch(aFighter) qui retire des points de vie à aFighter, Le calcul des points de vie est basé selon cette règle:\n",
    "  - Plus le combattant est costaud plus la perte de point de vie est importante.\n",
    "  - En revanche plus le combattu est agile plus il peut éviter les coups.\n",
    "  - A chaque coup de poing, le nombre de point de vie du combattu s'affiche.\n",
    "- Ajouter une méthode 'summary' qui affiche les caractéristiques du combattant"
   ]
  },
  {
   "cell_type": "code",
   "execution_count": null,
   "metadata": {},
   "outputs": [],
   "source": []
  }
 ],
 "metadata": {
  "kernelspec": {
   "display_name": "Python 3",
   "language": "python",
   "name": "python3"
  },
  "language_info": {
   "codemirror_mode": {
    "name": "ipython",
    "version": 3
   },
   "file_extension": ".py",
   "mimetype": "text/x-python",
   "name": "python",
   "nbconvert_exporter": "python",
   "pygments_lexer": "ipython3",
   "version": "3.7.4"
  }
 },
 "nbformat": 4,
 "nbformat_minor": 2
}
