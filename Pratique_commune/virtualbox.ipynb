{
 "cells": [
  {
   "cell_type": "markdown",
   "metadata": {},
   "source": [
    "[Retour au sommaire](../index.ipynb)"
   ]
  },
  {
   "cell_type": "markdown",
   "metadata": {},
   "source": [
    "# installer une machine virtuelle\n",
    "\n",
    "- Vous êtes sous Windows ?\n",
    "\n",
    "Ne vous inquiétez pas, ce n'est pas si grave... Vous pouvez installer une machine Linux virtuelle.\n",
    "\n",
    "## Installation de Virtualbox\n",
    "\n",
    "Virtualbox permet d'installer des machines virtuelles sur votre machine hôte.\n",
    "\n",
    "[Télécharger la dernière version de virtualbox](https://www.virtualbox.org/wiki/Downloads) et l'installer.\n",
    "\n",
    "## Installation de machines virtuelles.\n",
    "\n",
    "Pour installer des machines virtuelles, VirtualBox à besoin des fichiers d'installation en **.iso**.\n",
    "\n",
    "Vous pouvez choisir parmi les [centaines de distributions Linux](https://fr.wikipedia.org/wiki/Liste_des_distributions_GNU/Linux#/media/Fichier:Linux_Distribution_Timeline.svg), mais inutile de prendre des distributions linux gourmandes en ressources.\n",
    "\n",
    "Voici quelques distributions légères :\n",
    "\n",
    "- [Linux mint](https://linuxmint.com/download.php) : Prendre l'édition xfce.\n",
    "- [Lubuntu](https://lubuntu.fr/) : Une distribution ubuntu légère\n",
    "- [Ubuntu mate](https://ubuntu-mate.org/) : Une distribution ubuntu qui utilise mate\n",
    "- [Linux Lite](https://www.linuxliteos.com/) : Comme son nom l'indique un linux léger\n",
    "\n",
    "Vous pouvez en installer plusieurs et choisir celle qui vous plait le plus.\n",
    "\n",
    "<div class=\"alert alert-info\">Lorsque vous installerez Linux sur virtualbox, ne soyez pas effrayé lors de la procédure d'installation : L'installeur précise Linux va s'installer sur l'intégralité du disque. Il s'agit du disque virtuel de VirtualBox et pas de votre disque dur physique.</div>\n",
    "\n",
    "Il existe des centaines de tutoriels sur la façon d'installer une machine virtuelle avec virtualbox.\n",
    "Voici [un lien](https://openclassrooms.com/fr/courses/43538-reprenez-le-controle-a-laide-de-linux/37630-installez-linux-dans-une-machine-virtuelle) parmi [tant d'autres](https://www.google.com/search?q=installer+machine+virtuelle+linux+sur+virtualbox).\n",
    "\n",
    "\n",
    "\n",
    "\n"
   ]
  },
  {
   "cell_type": "markdown",
   "metadata": {},
   "source": [
    "[Retour au sommaire](../index.ipynb)"
   ]
  }
 ],
 "metadata": {
  "kernelspec": {
   "display_name": "Python 3",
   "language": "python",
   "name": "python3"
  },
  "language_info": {
   "codemirror_mode": {
    "name": "ipython",
    "version": 3
   },
   "file_extension": ".py",
   "mimetype": "text/x-python",
   "name": "python",
   "nbconvert_exporter": "python",
   "pygments_lexer": "ipython3",
   "version": "3.8.10"
  }
 },
 "nbformat": 4,
 "nbformat_minor": 4
}
