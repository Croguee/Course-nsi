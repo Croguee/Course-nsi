{
 "cells": [
  {
   "cell_type": "markdown",
   "metadata": {},
   "source": [
    "[Accueil](../../index.ipynb) > [6.3 diviser pour régner](index.ipynb)"
   ]
  },
  {
   "cell_type": "markdown",
   "metadata": {},
   "source": [
    "Comparaison des différentes implémentations de la méthode puissance\n",
    "=======\n"
   ]
  },
  {
   "cell_type": "code",
   "execution_count": null,
   "metadata": {},
   "outputs": [],
   "source": [
    "def puissanceA(x, n):\n",
    "    \"\"\"\n",
    "    Retourne x à la puissance n\n",
    "    en utilisant la récursivité basique\n",
    "    \"\"\"\n",
    "    if n==0:\n",
    "        return 1\n",
    "    else:\n",
    "        return x*puissanceA(x, n-1)\n",
    "\n",
    "puissanceA(2,6)"
   ]
  },
  {
   "cell_type": "code",
   "execution_count": null,
   "metadata": {},
   "outputs": [],
   "source": [
    "def puissanceB(x,n):\n",
    "    \"\"\"\n",
    "    Retourne x à la puissance n\n",
    "    en utilisant la méthode diviser pour régner    \n",
    "    \"\"\"\n",
    "    if n == 0:\n",
    "        return 1\n",
    "    elif n%2 == 0:\n",
    "        return puissanceB(x*x , n//2)\n",
    "    else:\n",
    "        return x * puissanceB(x , n-1)\n",
    "\n",
    "puissanceB(2,6)"
   ]
  },
  {
   "cell_type": "markdown",
   "metadata": {},
   "source": [
    "Test sur le temps d'execution."
   ]
  },
  {
   "cell_type": "code",
   "execution_count": null,
   "metadata": {},
   "outputs": [],
   "source": [
    "import timeit\n",
    "import matplotlib.pyplot as plt\n",
    "\n",
    "# faisons une liste des puissance et du pas\n",
    "puissances = [i for i in range(0, 1500, 16)]\n",
    "resultsA=[]\n",
    "resultsB=[]\n",
    "resultsC=[]\n",
    "# On teste sur ce nombre\n",
    "number=60\n",
    "for p in puissances:\n",
    "    # Cas de la puissance recursive basique\n",
    "    starttime = timeit.default_timer()\n",
    "    puissanceA(number,p)\n",
    "    diffA=timeit.default_timer() - starttime\n",
    "    resultsA.append(diffA)\n",
    "    # Cas de la puissance recursive diviser pour régner\n",
    "    starttime = timeit.default_timer()\n",
    "    puissanceB(number,p)\n",
    "    diffB=timeit.default_timer() - starttime\n",
    "    resultsB.append(diffB)\n",
    "    # Cas de la puissance système\n",
    "    starttime = timeit.default_timer()\n",
    "    number**p\n",
    "    diffC=timeit.default_timer() - starttime\n",
    "    resultsC.append(diffC)\n",
    "\n",
    "# création du graphique de points\n",
    "x = [p for p in puissances]\n",
    "yA = [r*1000 for r in resultsA]\n",
    "yB = [r*1000 for r in resultsB]\n",
    "yC = [r*1000 for r in resultsC]\n",
    "\n",
    "plt.figure(figsize=(15,10))\n",
    "plt.ylim(top=1000*max(resultsA))\n",
    "plt.scatter(x,yA, c='red', s=8, label=\"exponentielle par recursion simple\")\n",
    "plt.scatter(x,yB, c='green', s=8, label=\"exponentielle par diviser pour régner\")\n",
    "plt.scatter(x,yC, c='blue', s=8, label=\"exponentielle système\")\n",
    "plt.grid(which='both')\n",
    "plt.title(\"Comparaison d'execution\")\n",
    "plt.xlabel('puissance')\n",
    "plt.ylabel('temps en ms')\n",
    "plt.legend(loc='upper left')\n",
    "plt.show()"
   ]
  }
 ],
 "metadata": {
  "kernelspec": {
   "display_name": "Python 3",
   "language": "python",
   "name": "python3"
  },
  "language_info": {
   "codemirror_mode": {
    "name": "ipython",
    "version": 3
   },
   "file_extension": ".py",
   "mimetype": "text/x-python",
   "name": "python",
   "nbconvert_exporter": "python",
   "pygments_lexer": "ipython3",
   "version": "3.8.10"
  }
 },
 "nbformat": 4,
 "nbformat_minor": 4
}
