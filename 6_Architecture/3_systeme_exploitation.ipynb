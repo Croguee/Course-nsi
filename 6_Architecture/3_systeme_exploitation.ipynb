{
 "cells": [
  {
   "cell_type": "markdown",
   "metadata": {},
   "source": [
    "[Retour au sommaire](../index.ipynb)"
   ]
  },
  {
   "cell_type": "markdown",
   "metadata": {},
   "source": [
    "# 6.3 Système d'exploitation (OS : Operating System)\n",
    "\n",
    "Dans la partie sur le modèle séquentiel nous avons vu qu'un processeur utilise un langage machine (en binaire 0/1) pour executer des instructions.\n",
    "Nous avons également découvert l'assembleur le premier niveau au dessus du langage machine.\n",
    "\n",
    "Le système d'exploitation est également un programme chargé en mémoire au démarrage de la machine. Ses rôles sont nombreux, mais le but principal d'un OS est d'assurer une **interface** entre l'utilisateur et le matériel.\n",
    "\n",
    "Un système d'exploitation permet d'ajouter une couche d'abstraction au dessus du matériel (hardware). Parmis ces nombreuses fonctionnalités en voici quelques unes:\n",
    "\n",
    "- **Gestion du processeur** : l'ordonanceur, composant essentiel de l'OS, choisit quel processus doit être executer par le processeur. Grace à l'ordonnanceur les ordinateurs nous paraissent aujourd'hui multi-taches;\n",
    "- **Gestion de la mémoire** : c'est le système d'exploitation qui alloue la mémoire nécessaire pour les programmes;\n",
    "- **Gestion des entrées/sorties** : l'installation de pilotes (pour imprimantes, clavier, écran...) permet d'obtenir une interface unifié pour ces périphériques.\n",
    "- **Gestion des droits** : le système d'exploitation est en charge des permissions d'accès aux ressources par les programmes\n",
    "- **Gestion des fichiers** : Le système d'exploitation gére la lecture/ecriture dans le système de fichier ainsi que les autorisations d'accès des utilisateurs ou des programmes.\n",
    "\n",
    "![couches](img/3_os_layer.jpg)\n",
    "\n",
    "## Les différents OS\n",
    "\n",
    "Les différents systèmes d'exploitation aujourd'hui existants sont issus de deux familles :\n",
    "\n",
    "- [Unix](https://fr.wikipedia.org/wiki/Unix)\n",
    "  - [GNU/Linux](https://fr.wikipedia.org/wiki/Linux)\n",
    "  - [Android](https://fr.wikipedia.org/wiki/Android)\n",
    "  - [MacOS](https://fr.wikipedia.org/wiki/MacOS)\n",
    "  - [iOS](https://fr.wikipedia.org/wiki/IOS)\n",
    "  - [BSD](https://fr.wikipedia.org/wiki/Berkeley_Software_Distribution)\n",
    "- [Windows](https://fr.wikipedia.org/wiki/Microsoft_Windows)\n",
    "\n",
    "### Parts de marché\n",
    "\n",
    "- Sur les ordinateurs personnels (desktop)\n",
    "  - Windows représente 90% (car le sytème d'exploitation est fourni lors de l'achat)\n",
    "  - MasOS représente 8%\n",
    "  - GNU/Linux 2%\n",
    "- Sur les smartphones\n",
    "  - Android (85% en 2014)\n",
    "  - iOS (12%)\n",
    "  \n",
    "Dans ce cours nous allons nous intéresser à un système d'exploitation GNU/Linux [libre](https://fr.wikipedia.org/wiki/Logiciel_libre) et [open-source](https://fr.wikipedia.org/wiki/Open_source)\n",
    "\n",
    "## GNU/Linux\n",
    "\n",
    "GNU/Linux est un système d'exploitation souvent appelé Linux. \n",
    "- Linux est 'uniquement' le noyau du système (le noyau communique avec le matériel)\n",
    "- GNU est le système d'exploitation qui utilise le noyau Linux.\n",
    "\n",
    "### Les fondateurs\n",
    "\n",
    "Des miliers de hackers ont contribué à la création du système d'exploitation GNU/Linux, mais si on ne devait qu'en citer 2 les voici.\n",
    "\n",
    "#### Richard Stallman\n",
    "Né en 1953 aux Etats-Unis\n",
    "\n",
    "![Richard Stallman](img/3_richard_stallman.jpg)\n",
    "\n",
    "Richard Stallman est un programmeur et militant du logiciel libre.\n",
    "En 1983 (a 30 ans) il lance le projet **GNU** (qui signifie \"GNU is not Unix\") qui a pour objectif de créer un système d'exploitation libre.\n",
    "Il est rejoint par des centaines de hackers qui créent les différents programmes nécessaires à son élaboration.\n",
    "Au début des années 90, le système est opérationnel, il ne manque que le noyau du système. Ils décident alors d'utiliser le noyau Linux qui est opérationnel.\n",
    "\n",
    "Le symbole de GNU:\n",
    "\n",
    "![GNU](img/3_GNU.png)\n",
    "\n",
    "\n",
    "Richard Stallman a créé :\n",
    "\n",
    "- l'éditeur de texte [emacs](https://fr.wikipedia.org/wiki/Emacs)\n",
    "- le compilateur c de GNU\n",
    "- la [free software foundation](https://fr.wikipedia.org/wiki/Free_Software_Foundation) (FSF)\n",
    "- la [licence publique générale (GPL)](https://fr.wikipedia.org/wiki/Licence_publique_g%C3%A9n%C3%A9rale_GNU)\n",
    "\n",
    "#### Linux Torvalds\n",
    "Né en 1969 en Finlande\n",
    "\n",
    "![Linus Torvals](img/3_linus_torvalds.jpg)\n",
    "\n",
    "Linus Torvalds, agé de 21 ans, utilise le système minix (un mini unix à but pédagogique). Il est alors inspiré par ce système et développe un noyau de système d'exploitation.\n",
    "En 1991 il publie un article sur Usenet annonçant la naissance d'un nouvel OS et demandant de l'aide pour son développement. Ce n'est que quelques années plus tard que Linus rendit son noyau libre et qu'il fut adopté par le projet GNU.\n",
    "\n",
    "Contrairement à Richard Stallman qui a une vision politique et pilosophique du logiciel libre, Linux Torvalds est un pragmatique : il voit dans l'open source la meilleure solution pour le développement des logiciels.\n",
    "\n",
    "Richard Stallman et Linus Torvalds, bien que concepteurs du projet GNU/Linux ont des visions des différentes.\n",
    "\n",
    "Le symbole de Linux : un pingouin nommé TUX\n",
    "\n",
    "![TUX](img/3_TUX.svg.png)"
   ]
  },
  {
   "cell_type": "markdown",
   "metadata": {},
   "source": [
    "## Utilisation de GNU/Linux\n",
    "\n",
    "Nous allons principalement utiliser le terminal pour découvrir le système GNU/Linux.\n",
    "\n",
    "Pourquoi utiliser un terminal alors qu'il existe un gestionnaire de fenêtre plus pratique pour l'utilisateur ?\n",
    "\n",
    "- Connaitre les commandes permet d'automatiser les tâches\n",
    "- Beaucoup de systèmes n'ont pas d'interface graphique (serveurs, systèmes embarqués...), l'utilisation des commandes est le seul moyen de communiquer avec ces systèmes.\n",
    "\n",
    "Toutes les commandes dans GNU/Linux ont un manuel. Pour connaitre l'utilisation de la commande ls, faire \"**man ls**\"\n",
    "Il est également possible d'affichier une aide : exemple \"**ls --help**\".\n",
    "\n",
    "\n",
    "### se repérer dans le système de fichiers\n",
    "\n",
    "- Savoir où on se trouve : utiliser la commande **pwd**\n",
    "- Naviguer dans le système de fichier\n",
    "  - Afficher le contenu du dossier courant : utiliser la commande **ls**\n",
    "  - Afficher le contenu d'un dossier : utiliser la commande ls suivie du chemin. Exemple **ls /home**\n",
    "  - Changer de répertoire : utiliser la commande **cd**\n",
    "  \n",
    "Un chemin peut être spécifié de deux manières : \n",
    "\n",
    "- de manière relative (il n'y a pas de / au début) exemple : **cd Desktop/Music**\n",
    "- de manière absolue (le chemin commence par un / qui représente la racine) exemple **cd /home/yves/Documents**"
   ]
  },
  {
   "cell_type": "markdown",
   "metadata": {},
   "source": [
    "## Webographie"
   ]
  },
  {
   "cell_type": "markdown",
   "metadata": {},
   "source": [
    "[Retour au sommaire](../index.ipynb)"
   ]
  },
  {
   "cell_type": "code",
   "execution_count": null,
   "metadata": {},
   "outputs": [],
   "source": []
  }
 ],
 "metadata": {
  "kernelspec": {
   "display_name": "Python 3",
   "language": "python",
   "name": "python3"
  },
  "language_info": {
   "codemirror_mode": {
    "name": "ipython",
    "version": 3
   },
   "file_extension": ".py",
   "mimetype": "text/x-python",
   "name": "python",
   "nbconvert_exporter": "python",
   "pygments_lexer": "ipython3",
   "version": "3.7.4"
  }
 },
 "nbformat": 4,
 "nbformat_minor": 4
}
