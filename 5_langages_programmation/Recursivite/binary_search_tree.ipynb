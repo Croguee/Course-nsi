{
 "cells": [
  {
   "cell_type": "markdown",
   "metadata": {},
   "source": [
    "# Implémentation d'un arbre binaire de recherche\n",
    "\n",
    "Reprendre le fichier binarytree.py\n",
    "\n",
    "## Création une classe  BinarySearchTree qui hérite de BinaryTree\n",
    "```python\n",
    "class BinarySearchTree(BinaryTree):\n",
    "    \"\"\"A Binary Search Tree\"\"\"\n",
    "    \n",
    "    def __init__(self):\n",
    "        self._root = None\n",
    "```\n",
    "\n",
    "## Ajout d'une méthode d'insertion\n",
    "\n",
    "```python\n",
    "def insert(self, value):\n",
    "        \"\"\"Insert a value in a BST\n",
    "        paramètre : valeur à insérer\"\"\"\n",
    "        def insert_node(node, value):\n",
    "            # insère la valeur dans nd\n",
    "            # renvoie le noeud complété\n",
    "            # YOUR CODE HERE\n",
    "            raise NotImplementedError()\n",
    "        \n",
    "        self._root = insert_node(self._root, value)\n",
    "```\n",
    "Une fois que votre méthode d'insertion fonctionne, insérer cette suite bien connue dans un BST\n",
    "```python\n",
    "values=[1, 2, 3, 5, 8, 13, 21, 34, 55, 89, 144, 233, 277, 610, 987]\n",
    "```\n",
    "\n",
    "- De quel type d'arbre binaire s'agit-il ?\n",
    "- A l'aide de la méthode shuffle du module random de python, insérer ces mêmes valeurs mélangées. Que constatez vous ?\n",
    "\n",
    "## Ajout d'une méthode de recherche\n",
    "\n",
    "Implémenter une méthode search(\n",
    "\n"
   ]
  },
  {
   "cell_type": "code",
   "execution_count": null,
   "metadata": {},
   "outputs": [],
   "source": []
  }
 ],
 "metadata": {
  "kernelspec": {
   "display_name": "Python 3",
   "language": "python",
   "name": "python3"
  },
  "language_info": {
   "codemirror_mode": {
    "name": "ipython",
    "version": 3
   },
   "file_extension": ".py",
   "mimetype": "text/x-python",
   "name": "python",
   "nbconvert_exporter": "python",
   "pygments_lexer": "ipython3",
   "version": "3.7.4"
  }
 },
 "nbformat": 4,
 "nbformat_minor": 4
}
