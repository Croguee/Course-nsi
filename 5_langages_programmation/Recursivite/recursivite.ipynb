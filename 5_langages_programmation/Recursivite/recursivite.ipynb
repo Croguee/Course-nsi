{
 "cells": [
  {
   "cell_type": "markdown",
   "metadata": {},
   "source": [
    "# Récursivité\n",
    "\n",
    "**Définition**\n",
    "\n",
    "Une fonction est qualifiée de **récursive** si elle s’appelle elle-même.\n",
    "\n",
    "**Exemple 1**\n",
    "\n",
    "Nous n'allons pas être très original et prendre la fonction factorielle.\n",
    "\n",
    "$n!=n \\times\\ (n-1)!\\ si\\ n\\ \\geqslant 1\\ et\\ 0!=1$\n",
    "\n",
    "Voici l'appel de 4!\n",
    "\n",
    "$4!=4 \\times\\ 3! $\n",
    "\n",
    "$4!=4 \\times\\ 3\\times\\ 2!$\n",
    "\n",
    "$4!=4 \\times\\ 3\\times\\ 2\\times\\ 1!$\n",
    "\n",
    "$4!=4 \\times\\ 3\\times\\ 2\\times\\ 1\\times\\ 0!$\n",
    "\n",
    "$4!=4 \\times\\ 3\\times\\ 2\\times\\ 1\\times\\ 1$\n",
    "\n",
    "$4!=24$\n",
    "\n",
    "On pourrait bien évidemment implémenter cela de façon itérative."
   ]
  },
  {
   "cell_type": "code",
   "execution_count": 8,
   "metadata": {},
   "outputs": [
    {
     "data": {
      "text/plain": [
       "24"
      ]
     },
     "execution_count": 8,
     "metadata": {},
     "output_type": "execute_result"
    }
   ],
   "source": [
    "def fact(n):\n",
    "    r=1\n",
    "    while n>=1:\n",
    "        r=r*n\n",
    "        n-=1\n",
    "    return r\n",
    "\n",
    "fact(4)"
   ]
  },
  {
   "cell_type": "markdown",
   "metadata": {},
   "source": [
    "Mais la définition de la fonction factorielle s'implémente élégament de façon récursive."
   ]
  },
  {
   "cell_type": "code",
   "execution_count": 9,
   "metadata": {},
   "outputs": [
    {
     "data": {
      "text/plain": [
       "24"
      ]
     },
     "execution_count": 9,
     "metadata": {},
     "output_type": "execute_result"
    }
   ],
   "source": [
    "def rfact(n):\n",
    "    if n<=1: # situation d'arrêt\n",
    "        return 1\n",
    "    else:\n",
    "        return n*rfact(n-1) #appel récursif, la variable n décroit\n",
    "    \n",
    "rfact(4)"
   ]
  },
  {
   "cell_type": "markdown",
   "metadata": {},
   "source": [
    "## Structure d'une fonction récursive\n",
    "\n",
    "Toute fonction récursive doit avoir une **condition** qui ne l'appelle pas sinon la récursivité ne s'arrête pas.\n",
    "\n",
    "Cette condition de terminaison peut s'appeler :\n",
    "\n",
    "- situation de base\n",
    "- situation d'arrêt\n",
    "- cas de base\n",
    "- cas d'arrêt\n",
    "\n",
    "La variable doit atteindre la **situation d'arrêt** au bout d'un nombre fini d'appels récursifs pour que la récursivité se termine.\n",
    "\n",
    "**Remarque**\n",
    "\n",
    "Il existe toujours une façon itérative d'implémenter une fonction récursive, et réciproquement."
   ]
  },
  {
   "cell_type": "markdown",
   "metadata": {},
   "source": [
    "## Exercices\n",
    "\n",
    "### Flocon de von Koch\n",
    "\n",
    "En utilisant le module [turtle](https://docs.python.org/fr/3/library/turtle.html) de python vous allez générer le [flocon de von Koch](https://fr.wikipedia.org/wiki/Flocon_de_Koch).\n",
    "\n",
    "![Flocon de von Kock](img/flocon.png)\n",
    "\n",
    "\n",
    "En voici le principe:\n",
    "\n",
    "- pour n=0 ![etape 0](img/koch0.png)\n",
    "- pour n=1 ![etape 1](img/koch1.png)\n",
    "- pour n=2 ![etape 2](img/koch2.png)\n",
    "- pour n=3 ![etape 3](img/koch3.png)"
   ]
  },
  {
   "cell_type": "code",
   "execution_count": 27,
   "metadata": {},
   "outputs": [],
   "source": [
    "from turtle import *\n",
    "speed(0)\n",
    "pencolor(\"blue\")\n",
    "\n",
    "def koch (n, longueur):\n",
    "    pass\n",
    "\n",
    "koch(5,3**6)"
   ]
  },
  {
   "cell_type": "markdown",
   "metadata": {},
   "source": [
    "### Calcul du PGCD\n",
    "\n",
    "L'algorithme d'Euclide permet de trouver le PGCD de 2 nombres.\n",
    "\n",
    "En voici la définition\n",
    "\n",
    "Soient a et b deux nombres entiers avec a>b\n",
    "\n",
    "Si a est divisible par b, le pgcd de a et b vaut b,\n",
    "sinon le pgcd de a et b vaut le pgcd de b et du reste de la division euclidienne de a par b.\n",
    "\n",
    "**Exemple**\n",
    "\n",
    "PGCD(4950;1540)\n",
    "\n",
    "- 4950=1540*3+330 #le reste est non nul\n",
    "- 1540=330*4+220 #le reste est non nul\n",
    "- 330=220*1+110 #le reste est non nul\n",
    "- 220=2*110+0 # le reste est nul\n",
    "\n",
    "donc PGCD(4950;1540)=110"
   ]
  },
  {
   "cell_type": "code",
   "execution_count": null,
   "metadata": {},
   "outputs": [],
   "source": [
    "def pgcd(a, b):\n",
    "    pass\n",
    "\n",
    "pgcd(4950,1540)"
   ]
  },
  {
   "cell_type": "markdown",
   "metadata": {},
   "source": [
    "### Fonction puissance\n",
    "\n",
    "Créer la fonction puissance(a,b) qui retourne a^b de façon récursive."
   ]
  },
  {
   "cell_type": "code",
   "execution_count": null,
   "metadata": {},
   "outputs": [],
   "source": [
    "def puissance(a, b):\n",
    "    pass\n",
    "\n",
    "puissance(2,10)"
   ]
  }
 ],
 "metadata": {
  "kernelspec": {
   "display_name": "Python 3",
   "language": "python",
   "name": "python3"
  },
  "language_info": {
   "codemirror_mode": {
    "name": "ipython",
    "version": 3
   },
   "file_extension": ".py",
   "mimetype": "text/x-python",
   "name": "python",
   "nbconvert_exporter": "python",
   "pygments_lexer": "ipython3",
   "version": "3.7.5"
  }
 },
 "nbformat": 4,
 "nbformat_minor": 2
}
