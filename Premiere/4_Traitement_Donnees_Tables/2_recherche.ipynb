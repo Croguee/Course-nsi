{
 "cells": [
  {
   "cell_type": "markdown",
   "metadata": {},
   "source": [
    "[Retour au sommaire](../index.ipynb)"
   ]
  },
  {
   "cell_type": "markdown",
   "metadata": {},
   "source": [
    "# Traitement de données en tables : TP recherche\n",
    "\n",
    "Nous allons dans travailler sur les données des collèges du finistère.\n",
    "<div class = \"alert alert-info\">\n",
    "\n",
    "Ouvrir votre IDE Python (**I**ntegrated **D**evelopement **E**nvironment) et **sauvegarder en college1.py**.\n",
    "</div>\n",
    "\n",
    "- Créer un python virtuel 'TPcsv'. ([voir procédure](../../../Pratique_commune/venv.ipynb))\n",
    "- Activer le venv TPcsv\n",
    "\n",
    "## Lecture de l'ensemble des données"
   ]
  },
  {
   "cell_type": "code",
   "execution_count": null,
   "metadata": {},
   "outputs": [],
   "source": [
    "# importation des librairies nécessaires\n",
    "import requests\n",
    "import os\n",
    "import csv\n",
    "# recuperation des données depuis l'url\n",
    "url = \"https://www.data.gouv.fr/fr/datasets/r/a1075259-09ca-4c22-9e35-b2cd6bbf5c36\"\n",
    "data = requests.get(url).content\n",
    "# création d'un fichier et écriture des données\n",
    "local_file = \"college_finistere.csv\"\n",
    "with open(local_file, 'wb') as csvfile:\n",
    "    csvfile.write(data)\n",
    "# ouverture du fichier précédemment créé\n",
    "with open(local_file) as csvfile:\n",
    "    reader = csv.reader(csvfile)\n",
    "    for row in reader:\n",
    "        print(row)"
   ]
  },
  {
   "cell_type": "markdown",
   "metadata": {},
   "source": [
    "**Remarques**\n",
    "\n",
    "- Le fichier que l'on ouvre est en mode **bytes** car nous recevons les données sous forme d'un flux d'octets et non de caractères.\n",
    "- On utilise l'instruction *with* qui garantit que si une erreur se produit dans le with, le fichier sera correctement fermé. [voir l'instruction with](https://docs.python.org/fr/3/reference/compound_stmts.html#the-with-statement)\n",
    "\n",
    "**A Faire**\n",
    "\n",
    "<div class=\"alert alert-info\">\n",
    "\n",
    "- Si le fichier a déjà été téléchargé, grace au module [os](https://docs.python.org/fr/3/library/os.html), trouver une solution pour ne pas le retélécharger.\n",
    "  \n",
    "</div>\n",
    "\n",
    "- Quel est le type des lignes ?\n",
    "- Pourquoi chaque ligne ne possède qu'un élément ? (print(len(row))\n",
    "- Quel est le délimiteur de colonnes utilisé dans le fichier ?\n",
    "- Quel est l'origine du problème sur le nombre d'éléments de chaque ligne ?\n",
    "- Modifier votre code pour obtenir le nombre correct d'éléments.\n",
    "- Modifier votre code afin d'obtenir les lignes sous forme de dictionnaires. Voir La [librairie csv](https://docs.python.org/fr/3/library/csv.html).\n",
    "\n",
    "<div class=\"alert alert-info\">\n",
    "\n",
    "- Sauvegarder le fichier college1.py. Puis le sauvegarder en  **college2.py**\n",
    "  \n",
    "</div>\n",
    "\n",
    "## Filtre par lignes\n",
    "\n",
    "- Afficher uniquement les lignes dont le college se trouve à CHATEAULIN ou à PLEYBEN. (Rendre la recherche insensible à la **[casse](https://fr.wikipedia.org/wiki/Casse_(typographie))** de caractères.)\n",
    "- Afficher uniquement les collèges publics\n",
    "- Afficher les collèges privés de la métropole brestoise (Brest, Bohars, Gouesnou, Guilers, Guipavas, Le Relecq-Kerhuon, Plougastel-Daoulas, Plouzané)\n",
    "\n",
    "<div class=\"alert alert-info\">\n",
    "\n",
    "- Sauvegarder le fichier college2.py. Puis le sauvegarder en  **college3.py**\n",
    "</div>\n",
    "\n",
    "## Filtre par colonnes\n",
    "- Afficher toutes les colonnes SAUF le fax et la geolocalisation. (On partira de l'intégralité des données pour supprimer les deux colonnes)\n",
    "\n",
    "<div class=\"alert alert-info\">\n",
    "\n",
    "- Sauvegarder le fichier college3.py. Puis le sauvegarder en  **college4.py**\n",
    "</div>\n",
    "\n",
    "## Recherche de doublons\n",
    "\n",
    "Les fichiers csv peuvent parfois contenir des doublons, il est alors utile de les détecter et de les supprimer.\n",
    "\n",
    "Nous considérons qu'il ne peut y avoir deux collèges de même nom, dans une même ville.\n",
    "\n",
    "Pour les besoins de l'exercice, modifiez le fichier csv d'origine afin d'y ajouter plusieurs doublons.\n",
    "\n",
    "Vous ajouterez également un collège ayant le même nom qu'un autre mais dans une ville différente.\n",
    "\n",
    "Le but est d'écrire la liste sans les doublons dans un nouveau fichier, par exemple  *\"college_finistere_sans_doublon.csv\"*.\n",
    "\n",
    "Le principe est le suivant:\n",
    "\n",
    "- on ouvre en lecture notre fichier college_finistere.csv\n",
    "- on ouvre en écriture un fichier college_finistere_sans_doublon.csv\n",
    "- on crée une liste vide 'liste_ville_college'\n",
    "- on boucle sur les lignes de notre csv\n",
    "  - si le tuple (ville, college) n'est pas présent dans la liste 'liste_ville_college'\n",
    "     - on ajoute le tuple dans la liste\n",
    "     - on ecrit la ligne dans notre csv college_finistere_sans_doublon.csv\n",
    "\n",
    "Voici un exemple de code que vous devez adapter."
   ]
  },
  {
   "cell_type": "code",
   "execution_count": null,
   "metadata": {},
   "outputs": [],
   "source": [
    "import csv\n",
    "with open('first.csv', 'rb') as entree, open('first_edit.csv', 'wb') as sortie:\n",
    "    writer = csv.writer(sortie)\n",
    "    for row in csv.reader(entree):\n",
    "        if row[2] != \"0\":\n",
    "            writer.writerow(row)"
   ]
  },
  {
   "cell_type": "markdown",
   "metadata": {},
   "source": [
    "Evidemment, vous devez obtenir un fichier csv *college_finistere_sans_doublon.csv* qui ne possède plus les doublons que vous aviez ajoutés."
   ]
  },
  {
   "cell_type": "markdown",
   "metadata": {},
   "source": [
    "## Tests de cohérence\n",
    "<div class=\"alert alert-info\">Sauvegarder le fichier college4.py. Puis le sauvegarder en  <strong>college5.py</strong></div>\n",
    "\n",
    "Dans un fichier csv, chaque colonne doit être d'un type unique. (Chaine de caractère, entier, date....)\n",
    "\n",
    "Nous allons vérifier si l'ensemble des codes postaux sont bien des entiers compris entre 29000 et 29999.\n",
    "\n",
    "Modifier quelques codes postaux afin qu'ils ne respectent pas ces critères.\n",
    "\n",
    "Les lignes comportant des erreurs devront être copiées dans une liste et affichées à l'utilisateur du programme (vous...).\n",
    "\n"
   ]
  },
  {
   "cell_type": "markdown",
   "metadata": {},
   "source": [
    "<table style=\"width:100%\">\n",
    "    <tr>\n",
    "        <td style=\"text-align:left;\"><a href=\"1_indexation_tables.ipynb\"><< 1. Indexer des données</a></td>\n",
    "        <td style=\"text-align:right;\"><a href=\"3_tri.ipynb\">3. Trier des données >></a></td>\n",
    "    </tr>\n",
    "</table>"
   ]
  },
  {
   "cell_type": "markdown",
   "metadata": {},
   "source": [
    "[Retour au sommaire](../index.ipynb)"
   ]
  }
 ],
 "metadata": {
  "kernelspec": {
   "display_name": "Python 3",
   "language": "python",
   "name": "python3"
  },
  "language_info": {
   "codemirror_mode": {
    "name": "ipython",
    "version": 3
   },
   "file_extension": ".py",
   "mimetype": "text/x-python",
   "name": "python",
   "nbconvert_exporter": "python",
   "pygments_lexer": "ipython3",
   "version": "3.8.10"
  },
  "toc": {
   "base_numbering": 1,
   "nav_menu": {},
   "number_sections": true,
   "sideBar": true,
   "skip_h1_title": false,
   "title_cell": "Table of Contents",
   "title_sidebar": "Contents",
   "toc_cell": false,
   "toc_position": {},
   "toc_section_display": true,
   "toc_window_display": true
  }
 },
 "nbformat": 4,
 "nbformat_minor": 4
}
