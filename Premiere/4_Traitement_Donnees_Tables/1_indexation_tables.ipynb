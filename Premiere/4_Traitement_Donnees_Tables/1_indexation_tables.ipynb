{
 "cells": [
  {
   "cell_type": "markdown",
   "metadata": {},
   "source": [
    "[Accueil](../../index.ipynb) > [NSI Premiere](../index.ipynb)"
   ]
  },
  {
   "cell_type": "markdown",
   "metadata": {
    "tags": []
   },
   "source": [
    "# Traitement de données en tables : indexation"
   ]
  },
  {
   "cell_type": "markdown",
   "metadata": {},
   "source": [
    "## Le format CSV\n",
    "\n",
    "Le format csv pour \"**C**omma **S**eparated **V**alues\" (valeurs séparées par virgule) est un format de fichier texte très courant pour le **stockage de données tabulées**.\n",
    "\n",
    "Chaque ligne du fichier correspond à une ligne du tableau et les virgules sont les séparations entre les colonnes.\n",
    "\n",
    "Exemple de contenu d’un fichier csv\n",
    "```\n",
    "Sexe,Prénom,Année de naissance\n",
    "M,Alphonse,1932\n",
    "F,Béatrice,1964\n",
    "F,Charlotte,1988\n",
    "```\n",
    "<div class=\"alert alert-info\">\n",
    "Il n’existe pas vraiment de spécifications de format.\n",
    "Parfois les séparateurs sont des points virgules. (pour éviter les , qui sont utilisés comme signe de la décimale en France)\n",
    "Parfois les champs sont délimités par des guillemets.\n",
    "</div>\n",
    "\n",
    "Exemple de contenu d'un fichier csv où les données sont séparées par des ;\n",
    "\n",
    "```\n",
    "\"Michel\";\"Durand\";\"89 av. de la Ferme\";\"Chateaulin\";\"France\"\n",
    "\"Robert\";\"Dugenou\";\"2 rue des oiseaux\";\"Saint-Segal\";\"France\"\n",
    "\"Gertrude\";\"Dupond\";\"rue de la goye\";\"Muflin\";\"Groland (du bas)\"\n",
    "```\n",
    "De nombreuses données sont présentes sur le web sous cette forme :\n",
    "- [data.gouv.fr](data.gouv.fr]) : Plateforme ouverte des données publiques françaises\n",
    "- [kaggle.com](https://www.kaggle.com/datasets) : une base de données pour la science\n",
    "- [stats.nz](https://www.stats.govt.nz/large-datasets/csv-files-for-download/)  : Le site de statistiques du gouvernement néo zélandais\n",
    "- ..."
   ]
  },
  {
   "cell_type": "markdown",
   "metadata": {},
   "source": [
    "## Ouverture par un tableur\n",
    "\n",
    "- Allez sur cette url : [https://www.data.gouv.fr/fr/datasets/colleges-du-finistere/](https://www.data.gouv.fr/fr/datasets/colleges-du-finistere/)\n",
    "- Téléchargez le fichier\n",
    "- Ouvrez le avec libre office calc\n",
    "  - Précisez le bon encodage (UTF-8)\n",
    "  - Précisez le bon séparateur : les points virgules\n",
    "\n",
    "![](img/csv-libreoffice.png)\n",
    "\n",
    "Les tableurs peuvent **importer** des fichiers csv mais également **exporter** au format csv.\n",
    "\n",
    "- Quels sont les descripteurs des colonnes ?\n",
    "- Combien de lignes sont dans cette collection ?\n",
    "- Quel est le caractère pour délimiter les colonnes ?\n",
    "- Trouvez votre lycée."
   ]
  },
  {
   "cell_type": "markdown",
   "metadata": {},
   "source": [
    "## Ouverture avec un éditeur de texte\n",
    "\n",
    "Ouvrez ce même fichier avec un éditeur de texte.\n",
    "\n",
    "Vous devriez obtenir ce type de résultat.\n",
    "\n",
    "![](img/csv-editeur.png)"
   ]
  },
  {
   "cell_type": "markdown",
   "metadata": {},
   "source": [
    "## Python\n",
    "\n",
    "Lorsque nous traitons des données avec Python (listes, tuples, dictionnaires....) lorsque  le programme s'arrête les données sont perdues.\n",
    "\n",
    "Le **stockage** des données dans un **fichier csv** permet de **conserver les données de façon pérenne**.\n",
    "\n",
    "Voici les étapes que nous allons réaliser avec Python :\n",
    "\n",
    "- Téléchargement d'un fichier csv\n",
    "- Ouverture du fichier csv (les données sont alors écrites en mémoire RAM)\n",
    "- Utilisation d'une librairie Python adaptée pour le csv\n",
    "- Lecture des données\n",
    "- Modification des données\n",
    "- Fermeture du fichier\n",
    "\n",
    "Utiliser un IDE Python pour l'ensemble de ces actions."
   ]
  },
  {
   "cell_type": "markdown",
   "metadata": {},
   "source": [
    "### librairies request,  open et os\n",
    "\n",
    "Pour télécharger un fichier csv depuis une URL, nous allons utiliser la librairie [requests](https://docs.python-requests.org/en/latest/).\n",
    "Ensuite nous allons ouvir un fichier vide en mode **écriture** 'w' : voir la fonction native [open](https://docs.python.org/fr/3/library/functions.html#open)\n",
    "Puis nous allons écrire les données dans ce fichier."
   ]
  },
  {
   "cell_type": "code",
   "execution_count": null,
   "metadata": {},
   "outputs": [],
   "source": [
    "import requests\n",
    "import os\n",
    "\n",
    "url = \"https://www.data.gouv.fr/fr/datasets/r/a1075259-09ca-4c22-9e35-b2cd6bbf5c36\"\n",
    "data = requests.get(url).content\n",
    "\n",
    "\n",
    "local_file = \"college_finistere.csv\"\n",
    "with open(local_file, 'wb') as file: #on ouvre en écriture 'w' et en mode bytes 'b' le fichier nommé college_finistere.csv\n",
    "    file.write(data)\n"
   ]
  },
  {
   "cell_type": "markdown",
   "metadata": {},
   "source": [
    "**Remarques**\n",
    "\n",
    "- Le fichier que l'on ouvre est en mode bytes car nous recevons les données sous forme d'un flux d'octets et non de caractères.\n",
    "- On utilise l'instruction *with* qui garantit que si une erreur se produit dans le with, le fichier sera correctement fermé. [voir l'instruction with](https://docs.python.org/fr/3/reference/compound_stmts.html#the-with-statement)\n",
    "\n",
    "**A Faire**\n",
    "\n",
    "- Dans le module [os](https://docs.python.org/fr/3/library/os.html), trouver une solution pour ne pas télécharger l'URL et écrire dans le fichier si ce fichier est déjà présent dans le dossier courant."
   ]
  },
  {
   "cell_type": "markdown",
   "metadata": {
    "tags": []
   },
   "source": [
    "### librairie csv\n",
    "\n",
    "Python possède une librairie csv qui permet de lire et écrire des données au format csv\n",
    "\n",
    "Voir la document sur la [librairie csv](https://docs.python.org/fr/3/library/csv.html)."
   ]
  },
  {
   "cell_type": "code",
   "execution_count": null,
   "metadata": {
    "jupyter": {
     "outputs_hidden": true
    },
    "tags": []
   },
   "outputs": [],
   "source": [
    "import csv\n",
    "with open(local_file) as csvfile:\n",
    "    reader = csv.reader(csvfile)\n",
    "    for row in reader:\n",
    "        print(row)"
   ]
  },
  {
   "cell_type": "markdown",
   "metadata": {
    "jupyter": {
     "source_hidden": true
    },
    "tags": []
   },
   "source": [
    "- Quel est le type des lignes ?\n",
    "- Combien d'éléments possède chaque ligne ?\n",
    "- Quel est l'origine du problème sur le nombre d'éléments de chaque ligne ?\n",
    "- Modifier votre code pour obtenir le nombre correct d'éléments.\n",
    "- Modifier votre code afin d'obtenir les lignes sous forme de dictionnaires.\n",
    "\n",
    "La [librairie csv](https://docs.python.org/fr/3/library/csv.html) est assez complète mais pour des besoins d'apprentissage nous allons maintenant utiliser une **librairie d'analyse de données**, [la librairie pandas](https://pandas.pydata.org/) qui va nous simplifier la vie."
   ]
  },
  {
   "cell_type": "markdown",
   "metadata": {},
   "source": [
    "### La librairie pandas"
   ]
  },
  {
   "cell_type": "code",
   "execution_count": null,
   "metadata": {},
   "outputs": [],
   "source": [
    "import pandas as pd\n",
    "url=\"https://web.stanford.edu/class/archive/cs/cs109/cs109.1166/stuff/titanic.csv\"\n",
    "#url=\"https://raw.githubusercontent.com/datasciencedojo/datasets/master/titanic.csv\"\n",
    "df = pd.read_csv(url)\n",
    "df"
   ]
  },
  {
   "cell_type": "markdown",
   "metadata": {},
   "source": [
    "- La colonne **PClass** *Passenger class* signifie *La classe du passager (première, deuxième...)*.\n",
    "- La colonne **SibSp** *Sibling spouses* signifie *conjoint*.\n",
    "- La colonne **Parch** *Parent Children* signifie *Parent Enfants*.\n",
    "- La colonne **Fare** désigne le *tarif* payé pour embarquer."
   ]
  },
  {
   "cell_type": "code",
   "execution_count": null,
   "metadata": {},
   "outputs": [],
   "source": []
  }
 ],
 "metadata": {
  "kernelspec": {
   "display_name": "Python 3",
   "language": "python",
   "name": "python3"
  },
  "language_info": {
   "codemirror_mode": {
    "name": "ipython",
    "version": 3
   },
   "file_extension": ".py",
   "mimetype": "text/x-python",
   "name": "python",
   "nbconvert_exporter": "python",
   "pygments_lexer": "ipython3",
   "version": "3.8.10"
  },
  "toc": {
   "base_numbering": 1,
   "nav_menu": {},
   "number_sections": true,
   "sideBar": true,
   "skip_h1_title": false,
   "title_cell": "Table of Contents",
   "title_sidebar": "Contents",
   "toc_cell": false,
   "toc_position": {},
   "toc_section_display": true,
   "toc_window_display": false
  },
  "toc-autonumbering": true,
  "toc-showcode": true,
  "toc-showmarkdowntxt": false,
  "toc-showtags": false
 },
 "nbformat": 4,
 "nbformat_minor": 4
}
