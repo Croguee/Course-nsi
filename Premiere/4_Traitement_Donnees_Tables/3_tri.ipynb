{
 "cells": [
  {
   "cell_type": "markdown",
   "metadata": {},
   "source": [
    "[Retour au sommaire](../index.ipynb)"
   ]
  },
  {
   "cell_type": "markdown",
   "metadata": {},
   "source": [
    "# Traitement de données en tables : tri"
   ]
  },
  {
   "cell_type": "markdown",
   "metadata": {},
   "source": [
    "Cette année nous avons implémenté en Python deux types d'algorithmes de tri:\n",
    "- Le [tri par selection](../8_Algorithmique/2_tri_insertion_selection.ipynb#tri_selection)\n",
    "- Le [tri par insertion](../8_Algorithmique/2_tri_insertion_selection.ipynb#tri_insertion)\n",
    "\n",
    "Python possède évidemment sa propre implémentation native du tri. (Il en existe d'ailleurs plusieurs) "
   ]
  },
  {
   "cell_type": "markdown",
   "metadata": {},
   "source": [
    "## La méthode *sort* pour les listes\n",
    "\n",
    "Les listes possèdent leur propre méthode *sort* qui modifie directement la liste, on appelle cela un tri en place (in place)."
   ]
  },
  {
   "cell_type": "code",
   "execution_count": null,
   "metadata": {},
   "outputs": [],
   "source": [
    "liste = [8,6,4,2,0,7,5,3,1]\n",
    "liste.sort()\n",
    "liste"
   ]
  },
  {
   "cell_type": "code",
   "execution_count": null,
   "metadata": {},
   "outputs": [],
   "source": [
    "liste.sort(reverse=True)\n",
    "liste"
   ]
  },
  {
   "cell_type": "code",
   "execution_count": null,
   "metadata": {},
   "outputs": [],
   "source": [
    "help(liste.sort)"
   ]
  },
  {
   "cell_type": "markdown",
   "metadata": {},
   "source": [
    "Il est également possible de définir sa propre fonction de tri."
   ]
  },
  {
   "cell_type": "code",
   "execution_count": null,
   "metadata": {},
   "outputs": [],
   "source": [
    "# take second element for sort\n",
    "def takeSecond(elem):\n",
    "    return elem[1]\n",
    "\n",
    "# random list\n",
    "random = [(2, 2), (3, 4), (4, 1), (1, 3)]\n",
    "\n",
    "# sort list with key\n",
    "random.sort(key=takeSecond)\n",
    "\n",
    "# print list\n",
    "print('Sorted list:', random)"
   ]
  },
  {
   "cell_type": "markdown",
   "metadata": {},
   "source": [
    "## La fonction sorted\n",
    "\n",
    "Cette fonction, contrairement à la méthode *sort* qui s'applique uniquement aux listes, permet de tri tout type d'itérable:\n",
    "\n",
    "- liste\n",
    "- tuple\n",
    "- chaîne\n",
    "- dictionnaire\n",
    "- ...\n",
    "\n",
    "Contrairement à la méthode *sort*, cette fonction renvoie un nouvelle itérable et **n'affecte pas l'iterable d'origine**.\n",
    "\n",
    "Voici sa syntaxe\n",
    "\n",
    "```\n",
    "Syntaxe: sorted (iterable, key, reverse = False)\n",
    "\n",
    "Paramètres:\n",
    "Iterable: séquence (liste, tuple, chaîne) ou collection (dictionnaire, ensemble, frozenset) ou tout autre itérateur à trier.\n",
    "Clé (facultatif): une fonction qui servirait de clé ou de base de comparaison de tri.\n",
    "Inverser (facultatif): Si défini sur True, l’itérable serait trié dans l’ordre inverse (décroissant), par défaut, il est défini sur False.\n",
    "\n",
    "Type de retour : renvoie une liste triée.\n",
    "```\n",
    "\n",
    "### Un tri simple\n",
    "\n",
    "Commençons simplement avec une **liste de mots**."
   ]
  },
  {
   "cell_type": "code",
   "execution_count": null,
   "metadata": {},
   "outputs": [],
   "source": [
    "phrase = \"Bonjour, comment allez vous ?\"\n",
    "mots = phrase.split(' ')\n",
    "mots_tries = sorted(mots)\n",
    "mots_tries"
   ]
  },
  {
   "cell_type": "code",
   "execution_count": null,
   "metadata": {},
   "outputs": [],
   "source": [
    "mots # La liste d'origine est conservée."
   ]
  },
  {
   "cell_type": "markdown",
   "metadata": {},
   "source": [
    "Cette fonction s'applique également aux **clés de dictionnaires**."
   ]
  },
  {
   "cell_type": "code",
   "execution_count": null,
   "metadata": {},
   "outputs": [],
   "source": [
    "dico = {26:'Z',4:'D', 1:'A', 3:'C'}\n",
    "sorted(dico)"
   ]
  },
  {
   "cell_type": "markdown",
   "metadata": {},
   "source": [
    "### Un tri qui utilise une clef\n",
    "\n",
    "Le paramètre *key* permet de préciser une fonction qui peut être appelée sur chacun des éléments de l'itérable.\n"
   ]
  },
  {
   "cell_type": "code",
   "execution_count": null,
   "metadata": {},
   "outputs": [],
   "source": [
    "lettres = ('a','E', 'i', 'o', 'U', 'y') # ici on utilise un tuple\n",
    "lettres_triees1 = sorted(lettres) # Les lettres majuscules précèdent les lettres minuscules\n",
    "lettres_triees1"
   ]
  },
  {
   "cell_type": "code",
   "execution_count": null,
   "metadata": {},
   "outputs": [],
   "source": [
    "lettres_triees2 = sorted(lettres, key = str.lower) # Ici on précise que la fonction lower (minuscule) est prise en compte\n",
    "lettres_triees2"
   ]
  },
  {
   "cell_type": "markdown",
   "metadata": {},
   "source": [
    "Il est également possible de trier selon les fonctions *itemgetter* et *attrgetter*.\n",
    "\n",
    "Avant de faire un tri expliquons ce que sont ces fonctions. Les opérateurs standards de Python sont réportoriés dans le module [operator](https://docs.python.org/fr/3/library/operator.html#module-operator).\n",
    "Quand on effectue une opération comme 2+3 python utilise la fonction *add*."
   ]
  },
  {
   "cell_type": "code",
   "execution_count": null,
   "metadata": {},
   "outputs": [],
   "source": [
    "from operator import add\n",
    "add(2,3)"
   ]
  },
  {
   "cell_type": "markdown",
   "metadata": {},
   "source": [
    "De même, l'accès aux éléments d'un itérateur s'effectue par *itemgetter*."
   ]
  },
  {
   "cell_type": "code",
   "execution_count": null,
   "metadata": {},
   "outputs": [],
   "source": [
    "from operator import itemgetter\n",
    "\n",
    "eleves = (('Régis', '2nde1', 22),\n",
    "          ('Mathilde', '1ere2', 17),\n",
    "          ('Robert', '1ere1', 16),\n",
    "          ('Gaston', '2nde1', 16),\n",
    "          ('Maurice', '1ere3', 17))\n",
    "# Nous allons trier par classe puis par age\n",
    "eleves_tries = sorted(eleves, key=itemgetter(1,2))\n",
    "eleves_tries"
   ]
  },
  {
   "cell_type": "markdown",
   "metadata": {},
   "source": [
    "De même pour une liste de dictionnaires"
   ]
  },
  {
   "cell_type": "code",
   "execution_count": null,
   "metadata": {},
   "outputs": [],
   "source": [
    "eleves = [{'prenom':'Régis', 'classe':'2nde1', 'age':22},\n",
    "          {'prenom':'Mathilde', 'classe':'1ere2', 'age':17},\n",
    "          {'prenom':'Robert', 'classe':'1ere1', 'age':16},\n",
    "          {'prenom':'Gaston', 'classe':'2nde1', 'age':16},\n",
    "          {'prenom':'Maurice', 'classe':'1ere3', 'age':17},\n",
    "         ]\n",
    "# Nous allons trier par classe puis par age\n",
    "eleves_tries = sorted(eleves, key=itemgetter('classe','age'))\n",
    "eleves_tries"
   ]
  },
  {
   "cell_type": "markdown",
   "metadata": {},
   "source": [
    "Puis dans l'ordre inverse avec le paramètre *reverse* qui vaut True."
   ]
  },
  {
   "cell_type": "code",
   "execution_count": null,
   "metadata": {},
   "outputs": [],
   "source": [
    "# Nous allons trier par classe puis par age, le tout dans l'ordre inverse\n",
    "eleves_tries = sorted(eleves, key=itemgetter('classe','age'), reverse = True)\n",
    "eleves_tries"
   ]
  },
  {
   "cell_type": "markdown",
   "metadata": {},
   "source": [
    "Il est également possible de créer ses propres fonctions de tris, pour cela, [la documentation](https://docs.python.org/fr/3/howto/sorting.html) est là pour ça."
   ]
  },
  {
   "cell_type": "markdown",
   "metadata": {},
   "source": [
    "## Application aux données issues d'un fichier csv\n",
    "\n",
    "Dans le chapitre précédent nous avons vu comment **chercher et filtrer** nos données.\n",
    "Il est également important de savoir **trier nos données**.\n",
    "\n",
    "### En utilisant la fonction *sorted* de Python\n",
    "\n",
    " - Trier les collèges par nom de commune puis par nom d'établissement.\n",
    " - Trier les collèges par nom de commune puis par statut."
   ]
  },
  {
   "cell_type": "markdown",
   "metadata": {},
   "source": [
    "### En utilisant la librairie *[pandas](https://pandas.pydata.org/)*\n",
    "\n",
    "La librairie pandas poosède ses [propres méthodes de tri](https://pandas.pydata.org/docs/reference/api/pandas.DataFrame.sort_values.html)."
   ]
  },
  {
   "cell_type": "code",
   "execution_count": 51,
   "metadata": {},
   "outputs": [
    {
     "data": {
      "text/html": [
       "<div>\n",
       "<style scoped>\n",
       "    .dataframe tbody tr th:only-of-type {\n",
       "        vertical-align: middle;\n",
       "    }\n",
       "\n",
       "    .dataframe tbody tr th {\n",
       "        vertical-align: top;\n",
       "    }\n",
       "\n",
       "    .dataframe thead th {\n",
       "        text-align: right;\n",
       "    }\n",
       "</style>\n",
       "<table border=\"1\" class=\"dataframe\">\n",
       "  <thead>\n",
       "    <tr style=\"text-align: right;\">\n",
       "      <th></th>\n",
       "      <th>commune_et</th>\n",
       "      <th>nom_et</th>\n",
       "      <th>statut</th>\n",
       "      <th>adresse</th>\n",
       "      <th>code_postal</th>\n",
       "      <th>telephone</th>\n",
       "      <th>fax</th>\n",
       "      <th>courriel</th>\n",
       "      <th>point_geo_ban</th>\n",
       "    </tr>\n",
       "  </thead>\n",
       "  <tbody>\n",
       "    <tr>\n",
       "      <th>46</th>\n",
       "      <td>CROZON</td>\n",
       "      <td>Alain</td>\n",
       "      <td>Public</td>\n",
       "      <td>10 rue Nominoë - BP 27</td>\n",
       "      <td>29160.0</td>\n",
       "      <td>02.98.27.04.44</td>\n",
       "      <td>02 98.26.20.31</td>\n",
       "      <td>ce.0290032c@ac-rennes.fr</td>\n",
       "      <td>48.250987,-4.491672</td>\n",
       "    </tr>\n",
       "    <tr>\n",
       "      <th>91</th>\n",
       "      <td>BREST</td>\n",
       "      <td>Anna Marly</td>\n",
       "      <td>Public</td>\n",
       "      <td>8 rue Jules Lesven - BP 32049</td>\n",
       "      <td>29220.0</td>\n",
       "      <td>02.98.80.43.93</td>\n",
       "      <td>02 98 46 71 28</td>\n",
       "      <td>ce.0291661y@ac-rennes.fr</td>\n",
       "      <td>48.402453,-4.473504</td>\n",
       "    </tr>\n",
       "    <tr>\n",
       "      <th>0</th>\n",
       "      <td>BREST</td>\n",
       "      <td>Anne-Marie Javouhey (St Sauveur)</td>\n",
       "      <td>Privé</td>\n",
       "      <td>4 rue du Rempart - BP 60417</td>\n",
       "      <td>29604.0</td>\n",
       "      <td>02.98.45.17.70</td>\n",
       "      <td>02 98 05 28 11</td>\n",
       "      <td>grp29.rd-javouhey.brest@enseignement-catholiqu...</td>\n",
       "      <td>48.383137,-4.502319</td>\n",
       "    </tr>\n",
       "    <tr>\n",
       "      <th>63</th>\n",
       "      <td>ILE-DE-BATZ</td>\n",
       "      <td>Annexe Les Iles-du-Ponant</td>\n",
       "      <td>Public</td>\n",
       "      <td>NaN</td>\n",
       "      <td>NaN</td>\n",
       "      <td>NaN</td>\n",
       "      <td>NaN</td>\n",
       "      <td>NaN</td>\n",
       "      <td>48.744036,-4.01158</td>\n",
       "    </tr>\n",
       "    <tr>\n",
       "      <th>36</th>\n",
       "      <td>OUESSANT</td>\n",
       "      <td>Annexe Les Iles-du-Ponant</td>\n",
       "      <td>Public</td>\n",
       "      <td>NaN</td>\n",
       "      <td>NaN</td>\n",
       "      <td>NaN</td>\n",
       "      <td>NaN</td>\n",
       "      <td>NaN</td>\n",
       "      <td>48.457085,-5.098181</td>\n",
       "    </tr>\n",
       "    <tr>\n",
       "      <th>...</th>\n",
       "      <td>...</td>\n",
       "      <td>...</td>\n",
       "      <td>...</td>\n",
       "      <td>...</td>\n",
       "      <td>...</td>\n",
       "      <td>...</td>\n",
       "      <td>...</td>\n",
       "      <td>...</td>\n",
       "      <td>...</td>\n",
       "    </tr>\n",
       "    <tr>\n",
       "      <th>53</th>\n",
       "      <td>BREST</td>\n",
       "      <td>Sainte-Anne</td>\n",
       "      <td>Privé</td>\n",
       "      <td>20 rue Lamotte Picquet - BP 22021</td>\n",
       "      <td>29220.0</td>\n",
       "      <td>02.98.44.76.82</td>\n",
       "      <td>02 98 43 30 65</td>\n",
       "      <td>grp29.ste-anne.brest@enseignement-catholique.bzh</td>\n",
       "      <td>48.396535,-4.490385</td>\n",
       "    </tr>\n",
       "    <tr>\n",
       "      <th>68</th>\n",
       "      <td>PLOUGASTEL-DAOULAS</td>\n",
       "      <td>Sainte-Anne</td>\n",
       "      <td>Privé</td>\n",
       "      <td>9 rue Jean Corre  B.P. 11</td>\n",
       "      <td>29470.0</td>\n",
       "      <td>02.98.40.36.12</td>\n",
       "      <td>02 98 40 37 65</td>\n",
       "      <td>col29.ste-anne.plougastel@enseignement-catholi...</td>\n",
       "      <td>48.372944,-4.371936</td>\n",
       "    </tr>\n",
       "    <tr>\n",
       "      <th>21</th>\n",
       "      <td>QUIMPERLE</td>\n",
       "      <td>Théodore Hersart de La Villemarqué</td>\n",
       "      <td>Public</td>\n",
       "      <td>1 rue Jules Ferry</td>\n",
       "      <td>29391.0</td>\n",
       "      <td>02.98.96.02.54</td>\n",
       "      <td>02 98 96 09 75</td>\n",
       "      <td>ce.0290107j@ac-rennes.fr</td>\n",
       "      <td>47.869245,-3.547144</td>\n",
       "    </tr>\n",
       "    <tr>\n",
       "      <th>22</th>\n",
       "      <td>PLOUZANE</td>\n",
       "      <td>Victoire Daubié</td>\n",
       "      <td>Public</td>\n",
       "      <td>Avenue Jacques Prévert  BP 25</td>\n",
       "      <td>29280.0</td>\n",
       "      <td>02.98.45.89.30</td>\n",
       "      <td>02 98 45 07 36</td>\n",
       "      <td>ce.0291753y@ac-rennes.fr</td>\n",
       "      <td>48.381207,-4.606047</td>\n",
       "    </tr>\n",
       "    <tr>\n",
       "      <th>7</th>\n",
       "      <td>PONT-AVEN</td>\n",
       "      <td>des Abbés Tanguy</td>\n",
       "      <td>Privé</td>\n",
       "      <td>Parc-Moor   B.P. 29</td>\n",
       "      <td>29930.0</td>\n",
       "      <td>02.8.06.00.66</td>\n",
       "      <td>02 98 06 12 27</td>\n",
       "      <td>col29.abbes-tanguy.pt-aven@enseignement-cathol...</td>\n",
       "      <td>47.852108,-3.744052</td>\n",
       "    </tr>\n",
       "  </tbody>\n",
       "</table>\n",
       "<p>113 rows × 9 columns</p>\n",
       "</div>"
      ],
      "text/plain": [
       "            commune_et                              nom_et  statut  \\\n",
       "46              CROZON                               Alain  Public   \n",
       "91               BREST                          Anna Marly  Public   \n",
       "0                BREST    Anne-Marie Javouhey (St Sauveur)   Privé   \n",
       "63         ILE-DE-BATZ           Annexe Les Iles-du-Ponant  Public   \n",
       "36            OUESSANT           Annexe Les Iles-du-Ponant  Public   \n",
       "..                 ...                                 ...     ...   \n",
       "53               BREST                         Sainte-Anne   Privé   \n",
       "68  PLOUGASTEL-DAOULAS                         Sainte-Anne   Privé   \n",
       "21           QUIMPERLE  Théodore Hersart de La Villemarqué  Public   \n",
       "22            PLOUZANE                     Victoire Daubié  Public   \n",
       "7            PONT-AVEN                    des Abbés Tanguy   Privé   \n",
       "\n",
       "                              adresse  code_postal       telephone  \\\n",
       "46             10 rue Nominoë - BP 27      29160.0  02.98.27.04.44   \n",
       "91      8 rue Jules Lesven - BP 32049      29220.0  02.98.80.43.93   \n",
       "0         4 rue du Rempart - BP 60417      29604.0  02.98.45.17.70   \n",
       "63                                NaN          NaN             NaN   \n",
       "36                                NaN          NaN             NaN   \n",
       "..                                ...          ...             ...   \n",
       "53  20 rue Lamotte Picquet - BP 22021      29220.0  02.98.44.76.82   \n",
       "68          9 rue Jean Corre  B.P. 11      29470.0  02.98.40.36.12   \n",
       "21                  1 rue Jules Ferry      29391.0  02.98.96.02.54   \n",
       "22      Avenue Jacques Prévert  BP 25      29280.0  02.98.45.89.30   \n",
       "7                 Parc-Moor   B.P. 29      29930.0   02.8.06.00.66   \n",
       "\n",
       "               fax                                           courriel  \\\n",
       "46  02 98.26.20.31                           ce.0290032c@ac-rennes.fr   \n",
       "91  02 98 46 71 28                           ce.0291661y@ac-rennes.fr   \n",
       "0   02 98 05 28 11  grp29.rd-javouhey.brest@enseignement-catholiqu...   \n",
       "63             NaN                                                NaN   \n",
       "36             NaN                                                NaN   \n",
       "..             ...                                                ...   \n",
       "53  02 98 43 30 65   grp29.ste-anne.brest@enseignement-catholique.bzh   \n",
       "68  02 98 40 37 65  col29.ste-anne.plougastel@enseignement-catholi...   \n",
       "21  02 98 96 09 75                           ce.0290107j@ac-rennes.fr   \n",
       "22  02 98 45 07 36                           ce.0291753y@ac-rennes.fr   \n",
       "7   02 98 06 12 27  col29.abbes-tanguy.pt-aven@enseignement-cathol...   \n",
       "\n",
       "          point_geo_ban  \n",
       "46  48.250987,-4.491672  \n",
       "91  48.402453,-4.473504  \n",
       "0   48.383137,-4.502319  \n",
       "63   48.744036,-4.01158  \n",
       "36  48.457085,-5.098181  \n",
       "..                  ...  \n",
       "53  48.396535,-4.490385  \n",
       "68  48.372944,-4.371936  \n",
       "21  47.869245,-3.547144  \n",
       "22  48.381207,-4.606047  \n",
       "7   47.852108,-3.744052  \n",
       "\n",
       "[113 rows x 9 columns]"
      ]
     },
     "execution_count": 51,
     "metadata": {},
     "output_type": "execute_result"
    }
   ],
   "source": [
    "import pandas as pd\n",
    "colleges = pd.read_csv(\"https://www.data.gouv.fr/fr/datasets/r/a1075259-09ca-4c22-9e35-b2cd6bbf5c36\", delimiter=';')\n",
    "colleges.sort_values(by='nom_et')"
   ]
  },
  {
   "cell_type": "markdown",
   "metadata": {},
   "source": [
    "<div class=\"alert alert-infos\">Faire les tris demandés en csv avec la librairie pandas.</div>"
   ]
  },
  {
   "cell_type": "markdown",
   "metadata": {
    "tags": []
   },
   "source": [
    "<table style=\"width:100%\">\n",
    "    <tr>\n",
    "        <td style=\"text-align:left;\"><a href=\"2_recherche.ipynb\"><< 2. Rechercher des données</a></td>\n",
    "        <td style=\"text-align:right;\"><a href=\"4_fusion.ipynb\">4. Fusionner des tables >></a></td>\n",
    "    </tr>\n",
    "</table>"
   ]
  },
  {
   "cell_type": "markdown",
   "metadata": {},
   "source": [
    "[Retour au sommaire](../index.ipynb)"
   ]
  }
 ],
 "metadata": {
  "kernelspec": {
   "display_name": "Python 3",
   "language": "python",
   "name": "python3"
  },
  "language_info": {
   "codemirror_mode": {
    "name": "ipython",
    "version": 3
   },
   "file_extension": ".py",
   "mimetype": "text/x-python",
   "name": "python",
   "nbconvert_exporter": "python",
   "pygments_lexer": "ipython3",
   "version": "3.8.10"
  },
  "toc-autonumbering": true,
  "toc-showcode": false,
  "toc-showmarkdowntxt": false
 },
 "nbformat": 4,
 "nbformat_minor": 4
}
