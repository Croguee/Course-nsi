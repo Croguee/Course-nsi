{
 "cells": [
  {
   "cell_type": "markdown",
   "metadata": {},
   "source": [
    "[Retour au sommaire](../index.ipynb)"
   ]
  },
  {
   "cell_type": "markdown",
   "metadata": {},
   "source": [
    "# Une image au format bmp\n",
    "\n",
    "Voici une image de 4 pixels x 4 pixels au format bmp.\n",
    "![3x3 pixels](img/image_tp.bmp)\n",
    "\n",
    "Vous ne la voyez pas ? c'est normal elle ne fait que 4 pixels de large\n",
    "\n",
    "La voici agrandie 10 fois\n",
    "\n",
    "<img src=\"img/image_tp.bmp\" width=\"30px\"/>\n",
    "\n",
    "[Téléchargez la](img/image_tp.bmp) et enregistrez la sur votre ordinateur.\n",
    "\n",
    "L'ouvrir avec Gimp pour l'observer.\n",
    "\n",
    "Voici les quelques caractéristiques de notre image au format bmp:\n",
    "\n",
    "- Taille 4x4\n",
    "- Aucune Compression\n",
    "- 24 bits par pixel\n",
    "\n",
    "Pas le temps : TP sur Drive\n"
   ]
  },
  {
   "cell_type": "markdown",
   "metadata": {},
   "source": [
    "[Retour au sommaire](../index.ipynb)"
   ]
  }
 ],
 "metadata": {
  "kernelspec": {
   "display_name": "Python 3",
   "language": "python",
   "name": "python3"
  },
  "language_info": {
   "codemirror_mode": {
    "name": "ipython",
    "version": 3
   },
   "file_extension": ".py",
   "mimetype": "text/x-python",
   "name": "python",
   "nbconvert_exporter": "python",
   "pygments_lexer": "ipython3",
   "version": "3.8.10"
  }
 },
 "nbformat": 4,
 "nbformat_minor": 4
}
