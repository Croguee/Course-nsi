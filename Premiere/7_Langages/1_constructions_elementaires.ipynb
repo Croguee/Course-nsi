{
 "cells": [
  {
   "cell_type": "markdown",
   "metadata": {},
   "source": [
    "[Retour au sommaire](../index.ipynb)"
   ]
  },
  {
   "cell_type": "markdown",
   "metadata": {},
   "source": [
    "# 7.1 Langages - Constructions élémentaires\n",
    "\n",
    "La fonction d'un langage de programmation est de traduire un algorithme en utilisant une suite d'instructions.\n",
    "Pour traduire un algorithme (qui est indépendant du langage utilisé) tout langage de programmation doit contenir des constructions élémentaires que nous allons énumérer ici.\n",
    "\n",
    "Tout langage de programmation :\n",
    "\n",
    " - doit savoir **affecter** une valeur dans une variable;\n",
    " - doit pouvoir effectuer des instructions selon des **conditions**;\n",
    " - doit pouvoir **boucler** afin de répéter des instructions autant de fois que nécessaire.\n",
    " - peut regrouper un ensemble d'instruction dans une **fonction** afin de créer des \"composants\" réutilisables.\n",
    "\n",
    "## Variables et affectation\n",
    "\n",
    "En informatique une variable est un **symbole** qui **associe un nom à une valeur**.\n",
    "\n",
    "Pour réaliser cette association on dit qu'on **affecte** une valeur dans variable.\n",
    "\n",
    "Cette affectation, en Python, se réalise grace au symbole '='.\n",
    "\n",
    "En Python :\n",
    "\n",
    " - il est d'usage de nommer les variables en commençant par une lettre minuscule.\n",
    " - les caractères spéciaux (@$\\%.....) sont interdits à l'exception du '_'.\n",
    " - il est possible d'utiliser des chiffres, sauf au début du nom de la variable.\n",
    "\n",
    "Dans tout langage, les noms de variables doivent être judicieusement choisis afin de faciliter la lecture du code.\n"
   ]
  },
  {
   "cell_type": "code",
   "execution_count": null,
   "metadata": {},
   "outputs": [],
   "source": [
    "var1 = 7 # on associe la valeur 7 à la variable var1\n",
    "var2 = 7 # on associe la valeur 7 à la variable var2\n",
    "print(\"L'adresse en mémoire de var1 est : \",id(var1))\n",
    "print(\"L'adresse en mémoire de var2 est : \",id(var2))"
   ]
  },
  {
   "cell_type": "markdown",
   "metadata": {},
   "source": [
    "On se rend compte que var1 et var2 \"pointent\" à la même adresse en mémoire."
   ]
  },
  {
   "cell_type": "code",
   "execution_count": null,
   "metadata": {},
   "outputs": [],
   "source": [
    "var1 = var1+1 #La nouvelle valeur de var1 est égale à l'actuelle +1\n",
    "print(\"var1 vaut maintenant : \", var1)\n",
    "print(\"var1 se trouve désormais en : \", id(var1)) "
   ]
  },
  {
   "cell_type": "markdown",
   "metadata": {},
   "source": [
    "Voici la manière d'affecter dans le langage **C**:\n",
    "<pre>\n",
    "int a;\n",
    "a = 5; \n",
    "int b = a + 1;\n",
    "</pre>\n",
    "\n",
    "Le symbole d'affectation est le signe '=' également mais vous remarquez qu'il faut déclarer le type de la variable avant d'y affecter une valeur.\n",
    "On dit que le typage est **statique**.\n",
    "\n",
    "En Python le typage est **dynamique**, le type est reconnu 'à la volée' et peut évoluer au cours de la vie de la variable."
   ]
  },
  {
   "cell_type": "code",
   "execution_count": null,
   "metadata": {},
   "outputs": [],
   "source": [
    "var = 5\n",
    "print(\"Le type de la variable est \",type(var))\n",
    "var2 = 'bonjour'\n",
    "print(\"Le type de var2 est \", type(var2))"
   ]
  },
  {
   "cell_type": "markdown",
   "metadata": {},
   "source": [
    "### Les types\n",
    "\n",
    "Il existe de nombreux types de valeurs, nous allons énumérer ici les plus courants:\n",
    "\n",
    "#### Les nombres entiers \n",
    "\n",
    "Positifs ou négatifs, ils sont appelés, en anglais, des **integers**, ('int' en abbrégé)"
   ]
  },
  {
   "cell_type": "code",
   "execution_count": null,
   "metadata": {},
   "outputs": [],
   "source": [
    "mon_entier = -10\n",
    "type(mon_entier)"
   ]
  },
  {
   "cell_type": "markdown",
   "metadata": {},
   "source": [
    "#### Les nombres réels\n",
    "\n",
    "Appelés **nombres flottants** ou, en anglais, 'floating number' ('float' en abbrégé)."
   ]
  },
  {
   "cell_type": "code",
   "execution_count": null,
   "metadata": {},
   "outputs": [],
   "source": [
    "mon_flottant = 3.5\n",
    "type(mon_flottant)"
   ]
  },
  {
   "cell_type": "code",
   "execution_count": null,
   "metadata": {},
   "outputs": [],
   "source": [
    "mon_flottant2 = 4.0\n",
    "type(mon_flottant2)"
   ]
  },
  {
   "cell_type": "markdown",
   "metadata": {},
   "source": [
    "#### Les chaines de caractère\n",
    "\n",
    "En anglais, 'string' ('str' en abbrégé).\n",
    "\n",
    "En python, pour déclarer une chaine de caractère on l'entoure par des ' ou des \"."
   ]
  },
  {
   "cell_type": "code",
   "execution_count": null,
   "metadata": {},
   "outputs": [],
   "source": [
    "ma_chaine = \"Bonjour\"\n",
    "type(ma_chaine)"
   ]
  },
  {
   "cell_type": "code",
   "execution_count": null,
   "metadata": {},
   "outputs": [],
   "source": [
    "ma_chaine2 = '5'\n",
    "type(ma_chaine2)"
   ]
  },
  {
   "cell_type": "markdown",
   "metadata": {},
   "source": [
    "Une erreur courante est d'oublier les quotes ou guillemets. Dans ce cas notre chaine est évaluée comme une variable."
   ]
  },
  {
   "cell_type": "code",
   "execution_count": null,
   "metadata": {},
   "outputs": [],
   "source": [
    "ma_chaine3 = Bonjour\n",
    "type(ma_chaine3)"
   ]
  },
  {
   "cell_type": "markdown",
   "metadata": {},
   "source": [
    "#### Les booléens\n",
    "\n",
    "<div class=\"alert alert-block alert-danger\">\n",
    "Ne pas confondre l'affectation (a = 7) avec un test d'égalité ( a == 7 )  \n",
    "</div>\n",
    "\n",
    "Deux valeurs possibles **True** ou **False** (Vrai ou Faux)"
   ]
  },
  {
   "cell_type": "code",
   "execution_count": null,
   "metadata": {},
   "outputs": [],
   "source": [
    "var = 5==6 # J'affecte le test d'égalité de 5 et de 6 dans la variable var\n",
    "var"
   ]
  },
  {
   "cell_type": "code",
   "execution_count": null,
   "metadata": {},
   "outputs": [],
   "source": [
    "var2 = 3*2==6\n",
    "var2"
   ]
  },
  {
   "cell_type": "markdown",
   "metadata": {},
   "source": [
    "## Les conditions\n",
    "\n",
    "Une condition dans un langage informatique est de la forme ** si \\<test1> alors \\<instruction1> sinon \\<instructions2> **\n"
   ]
  },
  {
   "cell_type": "markdown",
   "metadata": {},
   "source": [
    "<div class=\"alert alert-block alert-danger\">\n",
    "En Python l'indentation fait partie de la syntaxe du langage\n",
    "</div>\n",
    "Le code ci-dessous est correct:"
   ]
  },
  {
   "cell_type": "code",
   "execution_count": null,
   "metadata": {},
   "outputs": [],
   "source": [
    "a = float(input(\"rentrez un nombre\"))\n",
    "if a < 0 :\n",
    "    print(\"Le nombre est négatif\")\n",
    "elif a > 0 :\n",
    "    print(\"Le nombre est positif\")\n",
    "else:\n",
    "    print(\"La nombres est nul\")"
   ]
  },
  {
   "cell_type": "markdown",
   "metadata": {},
   "source": [
    "Ce code ci ne l'est pas."
   ]
  },
  {
   "cell_type": "code",
   "execution_count": null,
   "metadata": {},
   "outputs": [],
   "source": [
    "a = float(input(\"rentrez un nombre\"))\n",
    "if a < 0 :\n",
    "print(\"Le nombre est négatif\")\n",
    "elif a > 0 :\n",
    "print(\"Le nombre est positif\")\n",
    "else:\n",
    "print(\"La nombres est nul\")"
   ]
  },
  {
   "cell_type": "markdown",
   "metadata": {},
   "source": [
    "## Les boucles\n",
    "\n",
    "Les boucles sont très souvent utilisés en langage informatique.\n",
    "On distingue deux types de boucles:\n",
    "\n",
    " * Les boucles bornées\n",
    " * Les boucles non bornées\n",
    " \n",
    "### Les bouclés bornées\n",
    "\n",
    "Les boucles bornées sont utilisées si le nombre de répétitions est connu.\n",
    "\n",
    "En Python une boucle bornée est de la forme : \n",
    "\n",
    "\n",
    "for \\<variable> in \\<iterable>:\n",
    "    \n",
    "    <instruction>\n",
    "\n",
    "\n",
    "**Exemple**"
   ]
  },
  {
   "cell_type": "code",
   "execution_count": null,
   "metadata": {},
   "outputs": [],
   "source": [
    "for l in \"Bonjour\":\n",
    "    print(l)"
   ]
  },
  {
   "cell_type": "markdown",
   "metadata": {},
   "source": [
    "**Remarque**\n",
    "\n",
    "Lorsque l'on veut boucler un certain nombre de fois on utiliser la fonction **range**"
   ]
  },
  {
   "cell_type": "code",
   "execution_count": null,
   "metadata": {},
   "outputs": [],
   "source": [
    "for i in range(5): #la fonction range va énumérer, ici, les nombres 0,1,2,3,4 (le 5 est exclu)\n",
    "    print(2*i)"
   ]
  },
  {
   "cell_type": "markdown",
   "metadata": {},
   "source": [
    "### Les boucles non bornées\n",
    "\n",
    "En Python une boucle bornée est de la forme : \n",
    "\n",
    "while \\<condition pour boucler> :\n",
    "    \\<instruction>\n",
    "    \n",
    "**exemple**"
   ]
  },
  {
   "cell_type": "code",
   "execution_count": null,
   "metadata": {},
   "outputs": [],
   "source": [
    "nombre = int(input(\"Entrez un nombre entier\"))\n",
    "nombre_a_deviner = 154\n",
    "while nombre != nombre_a_deviner: # tant que les nombres sont différents\n",
    "    if nombre < nombre_a_deviner:\n",
    "        print(\"Trop petit\")\n",
    "    elif nombre > nombre_a_deviner:\n",
    "        print(\"Trop grand\")\n",
    "    nombre = int(input(\"Nouvelle chance\")) #Je repose la question\n",
    "    \n",
    "print(\"Gagné!!!!\")  # Si j'ai quitté la boucle, c'est que j'ai gagné."
   ]
  },
  {
   "cell_type": "markdown",
   "metadata": {},
   "source": [
    "**Remarque**\n",
    "\n",
    "Lorsque les conditions d'arrêt se complexifient, il est parfois plus aisé de réfléchir à la **condition d'arrêt**.\n",
    "\n",
    "\"tant que la condition d'arrêt n'est **pas** atteinte alors ....\"\n",
    "\n",
    "En python cela s'ecrit :\n",
    "    \n",
    "*while not \\<condition arrêt> :*\n",
    "    *\\<instruction>*\n",
    "    \n",
    "Notre programme précédent devient:"
   ]
  },
  {
   "cell_type": "code",
   "execution_count": null,
   "metadata": {},
   "outputs": [],
   "source": [
    "nombre = int(input(\"Entrez un nombre entier\"))\n",
    "nombre_a_deviner = 154\n",
    "while not nombre == nombre_a_deviner: # tant que les deux nombres ne sont pas égaux\n",
    "    if nombre < nombre_a_deviner:\n",
    "        print(\"Trop petit\")\n",
    "    elif nombre > nombre_a_deviner:\n",
    "        print(\"Trop grand\")\n",
    "    nombre = int(input(\"Nouvelle chance\"))\n",
    "print(\"Gagné!!!!\")"
   ]
  },
  {
   "cell_type": "markdown",
   "metadata": {},
   "source": [
    "## Les fonctions\n",
    "\n",
    "Les fonctions sont des blocs d'instructions qui sont appelés depuis plusieurs endroits du programme.\n",
    "\n",
    "L'intêret des fonctions est de définir à un endroit un code qui est utilisé souvent (plus d'une fois...)\n",
    "\n",
    "Les fonctions peuvent recevoir des paramètres en entrée et peuvent retourner (ou pas) des résultats.\n",
    "\n",
    "En python une fonction s'écrit de la façon suivante:\n",
    "<pre>\n",
    "def ma_fonction(param1, param2....):\n",
    "    bloc d'instructions\n",
    "    return result\n",
    "</pre>\n",
    "**Exemple**"
   ]
  },
  {
   "cell_type": "code",
   "execution_count": null,
   "metadata": {},
   "outputs": [],
   "source": [
    "def presentation(prenom, nom): # définition de ma fonction\n",
    "    \"\"\"\n",
    "    nom : le nom de la personne\n",
    "    prenom : le prenom de la personne\n",
    "    retourne une présentation de la personne\n",
    "    \"\"\"\n",
    "    print(f\"Bonjour, je m'appelle {prenom} {nom}.\") #Ici elle affiche un résultat mais ne retourne rien\n",
    "\n",
    "    \n",
    "firstname = input(\"Entrer votre prénom :\")\n",
    "lastname = input(\"Entrer votre nom :\")\n",
    "    \n",
    "\n",
    "result = presentation(firstname, lastname) # appel de la fonction avec les paramètres + affectation dans result\n",
    "print(result) # On affiche ce que la fonction retourne"
   ]
  },
  {
   "cell_type": "markdown",
   "metadata": {},
   "source": [
    "[Retour au sommaire](../index.ipynb)"
   ]
  }
 ],
 "metadata": {
  "kernelspec": {
   "display_name": "Python 3",
   "language": "python",
   "name": "python3"
  },
  "language_info": {
   "codemirror_mode": {
    "name": "ipython",
    "version": 3
   },
   "file_extension": ".py",
   "mimetype": "text/x-python",
   "name": "python",
   "nbconvert_exporter": "python",
   "pygments_lexer": "ipython3",
   "version": "3.8.10"
  }
 },
 "nbformat": 4,
 "nbformat_minor": 4
}
