{
 "cells": [
  {
   "cell_type": "markdown",
   "metadata": {},
   "source": [
    "[Retour au sommaire](../index.ipynb)"
   ]
  },
  {
   "cell_type": "markdown",
   "metadata": {},
   "source": [
    "# 8.3 Algorithmique : k plus proches voisins\n",
    "\n"
   ]
  },
  {
   "cell_type": "markdown",
   "metadata": {},
   "source": [
    "[Retour au sommaire](../index.ipynb)"
   ]
  },
  {
   "cell_type": "markdown",
   "metadata": {},
   "source": [
    "## Les distances\n",
    "\n",
    "Afin que l'algorithme des plus proches voisins fonctionne pour un jeu de données particulier, il est nécessaire de choisir le **type de distance** la plus appropriée pour ce jeu de données.\n",
    "\n",
    "La **distance euclidienne** est la plus commune mais il en existe bien d'autres.\n",
    "\n",
    "### La distance de Minkowski\n",
    "\n",
    "La distance de Minkowski est une distance générale à partir de laquelle on peut obtenir deux types de distance.\n",
    "\n",
    "Soient deux points A et B de coordonnées respectives $A(a_1, a_2, a_3, ....., a_n)$ et $B(b_1, b_2, b_3, ....., b_n)$\n",
    "\n",
    "$d= (\\sum_{i=1}^{n} |{{a_i - b_i}|^p})^{\\frac{1}{p}}$\n",
    "\n",
    "Ne soyez pas effrayé par cette formule, elle en fait très simple.\n",
    "\n",
    "- si p=2, la formule devient : $d= \\sum_{i=1}^{n} {{|a_i - b_i|^2}}^{\\frac{1}{2}}$ soit $d = \\sqrt{(\\sum_{i=1}^{n} |{{a_i - b_i}|^2})}$ c'est à dire $d = \\sqrt{{(a_1 - b_1)^2+ (a_2 - b_2)^2 + ... +(a_n - b_n)^2}}$. On reconnait alors la formule de la **distance euclidienne** entre deux points.\n",
    "\n",
    "- si p=1, la formule devient : $d= (\\sum_{i=1}^{n} |{{a_i - b_i}|^1})^{\\frac{1}{1}}$ soit $d= \\sum_{i=1}^{n} |{{a_i - b_i}|}$ c'est à dire $d = |a_1 - b_1| + |a_2 - b_2| + ... + |a_n - b_n|$. Il s'agit ici de **la distance de Manhantan**.\n",
    "\n",
    "\n",
    "\n",
    "\n",
    "\n"
   ]
  },
  {
   "cell_type": "markdown",
   "metadata": {},
   "source": [
    "## Webographie\n",
    "\n",
    "- https://www.kdnuggets.com/2020/11/most-popular-distance-metrics-knn.html\n",
    "- https://towardsdatascience.com/knn-in-python-835643e2fb53\n",
    "- https://medium.com/analytics-vidhya/titanic-machine-learning-by-k-nearest-neighbors-knn-algorithm-530d8bdd8323"
   ]
  }
 ],
 "metadata": {
  "kernelspec": {
   "display_name": "Python 3",
   "language": "python",
   "name": "python3"
  },
  "language_info": {
   "codemirror_mode": {
    "name": "ipython",
    "version": 3
   },
   "file_extension": ".py",
   "mimetype": "text/x-python",
   "name": "python",
   "nbconvert_exporter": "python",
   "pygments_lexer": "ipython3",
   "version": "3.8.10"
  }
 },
 "nbformat": 4,
 "nbformat_minor": 4
}
