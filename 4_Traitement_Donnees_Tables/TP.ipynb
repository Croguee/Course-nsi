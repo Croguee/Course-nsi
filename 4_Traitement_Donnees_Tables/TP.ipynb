{
 "cells": [
  {
   "cell_type": "markdown",
   "metadata": {},
   "source": [
    "TP CSV\n",
    "==="
   ]
  },
  {
   "cell_type": "code",
   "execution_count": null,
   "metadata": {},
   "outputs": [],
   "source": [
    "import csv\n",
    "from IPython.display import HTML, display\n",
    "from operator import itemgetter, attrgetter\n",
    "\n",
    "def import_csv2(filename, types=None):\n",
    "    \"\"\"\n",
    "    ouvre un fichier et retourne une liste de dictionnaires\n",
    "    on peut préciser les types pour chaque colonne exemple types=['str','int','float','str'],\n",
    "    dans ce cas le contenu est casté (changement de type)\n",
    "    \"\"\"\n",
    "    with open(filename, newline='', encoding='utf8') as csvfile:\n",
    "        reader = csv.DictReader(csvfile, delimiter=',')\n",
    "        # Si on a précise les types\n",
    "        if types != None:\n",
    "            result=[]\n",
    "            for row in reader:\n",
    "                keys = [k for k in row.keys()]\n",
    "                values = [v for v in row.values()]\n",
    "                updates = {}\n",
    "                for i in range(len(types)):\n",
    "                    if types[i]=='int':\n",
    "                        updates[keys[i]]=int(values[i])\n",
    "                    elif types[i]=='float':\n",
    "                        updates[keys[i]]=float(values[i])\n",
    "                row.update(updates)\n",
    "                result.append(row)\n",
    "            return result\n",
    "        # Si on n'a pas précisé de type\n",
    "        else:\n",
    "            return list(reader)\n",
    "        \n",
    "def filter_colums(datas, list_of_column_names, action='keep'):\n",
    "    \"\"\"\n",
    "    Retourne les données filtrées par colonne\n",
    "    list_of_column_names : la liste des colonnes\n",
    "    action : defaut = 'keep' sinon 'remove'\n",
    "    \"\"\"\n",
    "    if datas:\n",
    "        result=[]\n",
    "        # récupérons les clés\n",
    "        keys=[k for k in datas[0].keys()]\n",
    "        for row in datas:\n",
    "            new_row = row.copy()\n",
    "            result.append(new_row)\n",
    "            for k in keys:\n",
    "                if action=='remove':\n",
    "                    if k in list_of_column_names:\n",
    "                        new_row.pop(k)\n",
    "                else:\n",
    "                    if k not in list_of_column_names:\n",
    "                        new_row.pop(k)\n",
    "        return result\n",
    "    return datas\n",
    "\n",
    "def filter_lines(datas, key, value, operator = '='):\n",
    "    \"\"\"\n",
    "    Filtre les lignes dont la valeur de la clé vaut 'value'\n",
    "    Les opérateurs peuvent être 'in', '<', '>' par défaut =\n",
    "    \"\"\"\n",
    "    if operator == 'in':\n",
    "         return [row for row in datas if value.lower() in row[key].lower()]\n",
    "    elif operator == '>':\n",
    "        if isinstance(datas[0][key], str):\n",
    "            return [row for row in datas if row[key].lower() > value.lower()]\n",
    "        else:\n",
    "            return [row for row in datas if row[key] > value]\n",
    "    elif operator == '<':\n",
    "        if isinstance(datas[0][key], str):\n",
    "            return [row for row in datas if row[key].lower() < value.lower()]\n",
    "        else:\n",
    "            return [row for row in datas if row[key] < value]\n",
    "    else:\n",
    "        if isinstance(datas[0][key], int):\n",
    "            return [row for row in datas if row[key] == int(value)]\n",
    "        elif isinstance(datas[0][key], float):\n",
    "            return [row for row in datas if row[key] == float(value)]\n",
    "        else:\n",
    "            return [row for row in datas if row[key].lower() == value.lower()]\n",
    "\n",
    "def display_table(datas):\n",
    "    \"\"\"\n",
    "    Retourne le tableau sous forme de tableau html\n",
    "    \"\"\"\n",
    "    if datas:\n",
    "        display(HTML(\n",
    "           '<table><thead><tr><th>{}</th></tr></thead><tbody><tr>{}</tr></tbody></table>'.format(\n",
    "               '</th><th>'.join([k.title() for k in datas[0].keys()]),\n",
    "               '</tr><tr>'.join(\n",
    "                   '<td>{}</td>'.format('</td><td>'.join(str(_) for _ in row.values())) for row in datas)\n",
    "               )\n",
    "        ))\n",
    "    else:\n",
    "       display(HTML('Rien a afficher')) "
   ]
  },
  {
   "cell_type": "markdown",
   "metadata": {},
   "source": [
    "Importation des données depuis le fichier 'datas.csv'\n",
    "---"
   ]
  },
  {
   "cell_type": "code",
   "execution_count": null,
   "metadata": {},
   "outputs": [],
   "source": [
    "from os import path\n",
    "if not path.exists('datas.csv'):\n",
    "    import zipfile\n",
    "    with zipfile.ZipFile('datas.zip', 'r') as zip_ref:\n",
    "    zip_ref.extractall('.')    \n",
    "\n",
    "dicos = import_csv2('datas.csv', types=['str','str','str','str','int'])"
   ]
  },
  {
   "cell_type": "markdown",
   "metadata": {},
   "source": [
    "Tous les titres de Madonna entre 2000 et 2008. Colonnes affichées Titre, artiste, année.\n",
    "---"
   ]
  },
  {
   "cell_type": "code",
   "execution_count": null,
   "metadata": {},
   "outputs": [],
   "source": [
    "f = filter_lines(dicos, 'artist_name', 'madonna')\n",
    "f = filter_lines(f, 'year', 2000, operator = '>')\n",
    "f = filter_lines(f, 'year', 2008, operator = '<')\n",
    "f = filter_colums(f, ['song_id','release'], action='remove')\n",
    "display_table(f)"
   ]
  },
  {
   "cell_type": "markdown",
   "metadata": {},
   "source": [
    "Les trier par année puis par titre"
   ]
  },
  {
   "cell_type": "code",
   "execution_count": null,
   "metadata": {},
   "outputs": [],
   "source": [
    "f = sorted(f, key=itemgetter('year','title'))\n",
    "display_table(f)"
   ]
  },
  {
   "cell_type": "markdown",
   "metadata": {},
   "source": [
    "Trouver tous les morceaux de l'artiste 'Tricky' de l'album 'blowback'.\n",
    "---"
   ]
  },
  {
   "cell_type": "code",
   "execution_count": null,
   "metadata": {},
   "outputs": [],
   "source": [
    "f = filter_lines(dicos, 'artist_name', 'tricky')\n",
    "f = filter_lines(f, 'release', 'blowback')\n",
    "display_table(f)\n"
   ]
  },
  {
   "cell_type": "markdown",
   "metadata": {},
   "source": [
    "Trouver tous les morceaux dont les artistes commencent par 'ab' et dont l'année est > à 2000\n",
    "---"
   ]
  },
  {
   "cell_type": "code",
   "execution_count": null,
   "metadata": {},
   "outputs": [],
   "source": [
    "f = filter_lines(dicos, 'artist_name', 'ab', operator='>')\n",
    "f = filter_lines(f, 'artist_name', 'ac', operator='<')\n",
    "f = filter_lines(f, 'year', 2005, operator = '>')\n",
    "display_table(f)"
   ]
  },
  {
   "cell_type": "markdown",
   "metadata": {},
   "source": [
    "les trier par nom d'artiste dans l'ordre descendant."
   ]
  },
  {
   "cell_type": "code",
   "execution_count": null,
   "metadata": {},
   "outputs": [],
   "source": [
    "f=sorted(f, key=itemgetter('artist_name'), reverse=True)\n",
    "display_table(f)"
   ]
  }
 ],
 "metadata": {
  "kernelspec": {
   "display_name": "Python 3",
   "language": "python",
   "name": "python3"
  },
  "language_info": {
   "codemirror_mode": {
    "name": "ipython",
    "version": 3
   },
   "file_extension": ".py",
   "mimetype": "text/x-python",
   "name": "python",
   "nbconvert_exporter": "python",
   "pygments_lexer": "ipython3",
   "version": "3.7.4"
  }
 },
 "nbformat": 4,
 "nbformat_minor": 2
}
