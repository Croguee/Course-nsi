{
 "cells": [
  {
   "cell_type": "markdown",
   "metadata": {},
   "source": [
    "[Retour au sommaire](../index.ipynb)"
   ]
  },
  {
   "cell_type": "markdown",
   "metadata": {},
   "source": [
    "# 3.2 Base de données - Base de données relationnelle\n",
    "\n",
    "## La redondance des données\n",
    "\n",
    "Lorsqu'une base de données est mal conçue, des anomalies peuvent survenir. La plus courante est la **redondance des données**.\n",
    "\n",
    "Voici une table:\n",
    "\n",
    "| Nom Produit | Fournisseur  | Adresse | \n",
    "| ----------- | ------------ | ------- |\n",
    "|             |              |         |\n"
   ]
  },
  {
   "cell_type": "markdown",
   "metadata": {},
   "source": [
    "[Retour au sommaire](../index.ipynb)"
   ]
  }
 ],
 "metadata": {
  "kernelspec": {
   "display_name": "Python 3",
   "language": "python",
   "name": "python3"
  },
  "language_info": {
   "codemirror_mode": {
    "name": "ipython",
    "version": 3
   },
   "file_extension": ".py",
   "mimetype": "text/x-python",
   "name": "python",
   "nbconvert_exporter": "python",
   "pygments_lexer": "ipython3",
   "version": "3.8.10"
  }
 },
 "nbformat": 4,
 "nbformat_minor": 4
}
