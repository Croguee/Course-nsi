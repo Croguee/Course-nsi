{
 "cells": [
  {
   "cell_type": "markdown",
   "metadata": {},
   "source": [
    "[Retour au sommaire](../../index.ipynb)"
   ]
  },
  {
   "cell_type": "markdown",
   "metadata": {},
   "source": [
    "# 2.4 Structure de données : les arbres\n",
    "\n",
    "En informatique les arbres sont des structures de données. Contrairement à la file et à la pile, cette structure n'est pas linéaire mais **hiérarchique**.\n",
    "Ces structures sont omniprésentes car elles permettent de représenter une organisation hiérarchique.\n",
    "\n",
    "## Quelques exemples\n",
    "\n",
    "- Le DOM (Document object Model) représente la structure hiérarchique d'une page html\n",
    "- Les systèmes de fichiers\n",
    "- Un arbre généalogique\n",
    "- Un tournoi\n",
    "- [L'évolution de la distribution Debian](https://upload.wikimedia.org/wikipedia/commons/1/1b/Linux_Distribution_Timeline.svg)\n",
    "- la classification des espèces\n",
    "- etc etc...\n",
    "\n",
    "<figure>\n",
    "    <img src=\"img/linux_tree.gv.svg\" title=\"Arborescence type Unix\">\n",
    "    <figcaption>Arborescence type Unix</figcaption>\n",
    "</figure>\n",
    "\n",
    "## Composition d'un arbre\n",
    "\n",
    "- Chaque élément de l'arbre est appelé **noeud**. Dans l'exemple ci-dessous A, B, C, D..., G sont des **noeuds** de l'arbre.\n",
    "- Une **arête**, ou **arc**, relie deux noeuds.\n",
    "- Le noeud initial est appelé **racine** (ici A).\n",
    "- Le **chemin** d'un noeud est la suite de noeuds qu'il faut passer pour aller de la racine à ce noeud. Le chemin de E est (A, B, E).\n",
    "- Il faut cependant ajouter comme contrainte qu'**il ne peut y avoir de cycle dans un arbre**, sinon on obtient un graphe.\n",
    "\n",
    "Un arbre peut être conçu **récursivement** comme étant un **noeud** dont les **arêtes** sont reliées à zéro ou plusieurs **arbres**.\n",
    "\n",
    "![un arbre](img/tree.gv.svg)"
   ]
  },
  {
   "cell_type": "markdown",
   "metadata": {
    "toc-hr-collapsed": true,
    "toc-nb-collapsed": true
   },
   "source": [
    "### Généalogie\n",
    "- Les noeuds B, C et D sont les **enfants**, ou **fils**, du noeud A, ou le noeud A est le **parent** de B, C et D.\n",
    "- Un noeud sans fils est un **noeud externe** ou **feuille**. Ici E, F, G et D sont des **feuilles** de l'arbre.\n",
    "- Un **noeud interne** est un noeud ayant au moins un enfant.\n",
    "- Des noeuds ayant le même parent sont des **frères**. B, C et D sont des frères.\n",
    "- Un **sous-arbre** est la partie de l'arbre contenant un noeud et tous ces descendants.\n",
    "\n",
    "![un sous-arbre](img/sub-tree.gv.svg)\n",
    "\n",
    "## Quelques mesures\n",
    "- La **taille d'un arbre** est le nombre de noeuds de l'arbre.\n",
    "- La **profondeur d'un noeud** est le nombre d'arêtes que l'on traverse depuis la racine à ce noeud.\n",
    "  - La profondeur du noeud G est 2\n",
    "  - La profondeur de la racine est 0\n",
    "- La **hauteur de l'arbre** est la profondeur maximale des feuilles de l'arbre.\n",
    "- La **hauteur d'un noeud** est la hauteur de l'arbre - la profondeur du noeud.\n",
    "\n",
    "<div class=\"alert alert-info\">Pour n'importe quel noeud N de l'arbre A, on a toujours : P(N)+H(N)=H(A) </div>\n",
    "\n",
    "<div class=\"alert alert-warning\">Il existe plusieurs conventions pour la profondeur d'un noeud. Parfois la profondeur du noeud racine commence à 1. Dans ce cours nous considérons que la profondeur du noeud racine est 0.</div>\n",
    "\n",
    "![hauteur profondeur](img/heigh_depth.gv.svg)\n",
    "\n",
    "- L'**arité** d'un noeud est le nombre d'enfants de ce noeud\n",
    "- L'**arité** d'un arbre est le maximum de l'arité des noeuds de l'arbre."
   ]
  },
  {
   "cell_type": "markdown",
   "metadata": {},
   "source": [
    "## Etiquettes\n",
    "\n",
    "Afin de 'porter' des données, chaque noeud peut être identifié par une **étiquette**. Souvent l'étiquette réprésente la valeur du noeud.\n",
    "\n",
    "Un arbre dont tous les noeuds sont nommées est dit **étiqueté**."
   ]
  },
  {
   "cell_type": "markdown",
   "metadata": {},
   "source": [
    "# Les arbres binaires\n",
    "\n",
    "Un **arbre binaire** est un arbre dont les noeuds possèdent au maximum deux enfants.\n",
    "\n",
    "On distingue le **fils gauche** d'un noeud et le **fils droit** d'un noeud."
   ]
  },
  {
   "cell_type": "markdown",
   "metadata": {},
   "source": [
    "## Quelques exemples d'arbres binaires\n",
    "\n",
    "- L'arbre généalogique de vos ascendants\n",
    "- Un tournoi de pétanque\n",
    "- Une expression mathématiques"
   ]
  },
  {
   "cell_type": "markdown",
   "metadata": {},
   "source": [
    "## Quelques types particuliers d'arbres binaires\n",
    "Un arbre binaire **strict** (ou localement complet) est un arbre dont tous les noeuds possèdent 0 ou 2 fils.\n",
    "\n",
    "<figure>\n",
    "    <img src=\"img/full_binary_tree.gv.svg\" title=\"Un arbre binaire strict\">\n",
    "    <figcaption>Un arbre binaire strict</figcaption>\n",
    "</figure>\n",
    "\n",
    "Un arbre binaire **parfait** est un arbre binaire dans lequel tous les niveaux sont remplis. Autrement dit toutes les feuilles sont à la même profondeur.\n",
    "\n",
    "<figure>\n",
    "    <img src=\"img/perfect_binary_tree.gv.svg\" title=\"Un arbre binaire parfait\">\n",
    "    <figcaption>Un arbre binaire parfait</figcaption>\n",
    "</figure>\n",
    "\n",
    "Un arbre binaire **dégénéré** (ou peigne) est un arbre binaire dans lequel chaque noeud parent a un seul enfant. Autrement dit l'arbre ne possède qu'une feuille.\n",
    "Un arbre dégénéré équivaut donc à une liste chaînée.\n",
    "\n",
    "<figure>\n",
    "    <img src=\"img/degenerated_binary_tree.gv.svg\" title=\"Un arbre binaire dégénéré\">\n",
    "    <figcaption>Un arbre binaire dégénéré</figcaption>\n",
    "</figure>"
   ]
  },
  {
   "cell_type": "markdown",
   "metadata": {},
   "source": [
    "## Encadrement de la taille\n",
    "\n",
    "Si un arbre à une hauteur $h$:\n",
    "\n",
    "- sa taille maximale est celle d'un arbre dégénéré, soit $h+1$.\n",
    "- sa taille minimale est celle d'un arbre parfait soit 1+2+4+8+....c'est donc la somme d'une suite géométrique de raison 2.\n",
    "\n",
    "On a donc $n=\\frac{2^{h+1}-1}{2-1} \\Leftrightarrow n = 2^{h+1} -1 $\n",
    "\n",
    "Un encadrement de la taille $n$ est donc :\n",
    "<div class=\"alert alert-info\">\n",
    "  $2^{h+1} -1\\geqslant n\\geqslant h+1$  \n",
    "</div>\n",
    "\n",
    "## Encadrement de la hauteur\n",
    "\n",
    "Réciproquement, si on connait la taille $n$,\n",
    "\n",
    "La hauteur d'un arbre dégénéré de taille $n$ est égale à n-1.\n",
    "\n",
    "- En Physique/Chimie pour se 'débarasser' d'une puissance de 10 on utilise le $\\log_{10}$. **exemple** : $10^n = 3$ donc $n = \\log_{10}(3)$\n",
    "- En Maths, pour se 'débarasser' de exponentielle, on utilise le logarithme népérien. **exemple** : $e^x = 3$ donc $x = \\ln(3)$\n",
    "- En informatique, les puissances de 2 sont monnaies courantes. On utilise donc le logarithme de 2\n",
    "\n",
    "$n = 2^{h+1}-1\\Leftrightarrow 2^{h+1}= n+1 \\Leftrightarrow h+1=\\log{2}(n+1) \\Leftrightarrow h = \\log{2}(n+1)-1$\n",
    "\n",
    "Un encadrement de la hauteur $h$ est donc :\n",
    "<div class=\"alert alert-info\">\n",
    "$\\log_{2}(n+1)-1\\leqslant h\\leqslant n-1$.\n",
    "</div>\n",
    "\n",
    "### Exemples\n",
    "\n",
    "- Donner un encadrement de la hauteur d'un arbre de taille 255."
   ]
  },
  {
   "cell_type": "code",
   "execution_count": null,
   "metadata": {},
   "outputs": [],
   "source": [
    "from math import log2\n",
    "min = log2(255+1)\n",
    "min"
   ]
  },
  {
   "cell_type": "markdown",
   "metadata": {},
   "source": [
    "On obtient donc $8\\leqslant h\\leqslant 254$\n",
    "\n",
    "- Donner un encadrement de la hauteur d'un arbre de taille 4095."
   ]
  },
  {
   "cell_type": "markdown",
   "metadata": {
    "toc-hr-collapsed": true,
    "toc-nb-collapsed": true
   },
   "source": [
    "## Exercices\n",
    "\n",
    "### Arbre de calcul\n",
    "\n",
    "Soit l'expression mathématique suivante : $A=(2+x)\\times3-4x+1$\n",
    "\n",
    "La construction d'un arbre à partir de cette expression est la suivante : on repère l'opération de **moins forte priorité** (celle qui sera faite en dernier) ce sera la racine.\n",
    "On réitère l'opération avec l'expression restante de gauche et l'expression restante de droite.\n",
    "Lorsqu'il n'y a plus d'opération, les opérandes représentent les feuilles de l'arbre et la construction s'arrête.\n",
    "\n",
    "On obtient donc l'arbre binaire suivant:\n",
    "<figure>\n",
    "    <img src=\"img/math_expression_tree.gv.svg\" title=\"Un arbre binaire étiqueté\">\n",
    "    <figcaption>Un arbre binaire étiqueté</figcaption>\n",
    "</figure>\n",
    "\n",
    "Questions:\n",
    "\n",
    "1. Quelle est la taille de cet arbre?\n",
    "2. Quelle est la hauteur de l'arbre?\n",
    "3. Quelle est la hauteur du noeud $3$ ? \n",
    "4. Quelle est sa profondeur du noeud $3$ ?\n",
    "5. Quel est le chemin du noeud $3$ ?\n",
    "6. Qui sont les ancêtres de $4$?\n",
    "7. Quel est le type de cet arbre binaire?\n",
    "\n",
    "Construire l'arbre binaire de calcul de cette expression mathématique $B=3-2e^x+max(4;x)$\n",
    "\n",
    "### Un peu de réflexion\n",
    "\n",
    "- Combien d'arêtes comporte un arbre binaire de taille t ?\n",
    "- Combien de feuilles, au minimum, comporte un arbre de hauteur h? et au maximum ?"
   ]
  },
  {
   "cell_type": "markdown",
   "metadata": {},
   "source": [
    "# Parcours d'arbre\n",
    "\n",
    "## Parcours d'arbre en profondeur\n",
    "\n",
    "![parcours d'arbre](img/1024px-Sorted_binary_tree_ALL.svg.png)\n",
    "\n",
    "Nous allons découvrir 3 parcours en profondeur d'un arbre.\n",
    "\n",
    "### Le parcours préfixe (Pre-order : NLR)\n",
    "Dans ce parcours chaque noeud est affiché puis chacun de ces fils (en rouge sur le schéma).\n",
    "\n",
    "Ce parcours permet d'obtenir une liste triée de façon topologique, en effet chaque parent apparait avant ses enfants.\n",
    "\n",
    "Ce parcours peut être utilisé pour la copie d'un arbre.\n",
    "\n",
    "### Le parcours postfixe (Post-order : LRN)\n",
    "Dans ce parcours chaque fils est affiché puis le noeud (en vert sur le schéma).\n",
    "\n",
    "Ce parcours peut être utilisé pour supprimer un arbre (on supprime les enfants avec le parent)\n",
    "\n",
    "### Le parcours infixe (In-order : LNR)\n",
    "Dans ce parcours le fils gauche est affiché puis le noeud puis le fils droit (en jaune sur le schéma).\n",
    "\n",
    "Ce parcours est utilisé dans les arbres binaires de recherche (Binary Search Tree : BST)\n",
    "\n",
    "## TP\n",
    "\n",
    "- [Implémentation d'un arbre binaire en POO en utilisant la récursivité](../../6_Algorithmique/6.1_BT_BST/binary_tree.ipynb)"
   ]
  },
  {
   "cell_type": "markdown",
   "metadata": {},
   "source": [
    "# Les arbres binaires de recherche\n",
    "\n",
    "**Définition**\n",
    "Un arbre binaire de recherche est un arbre binaire dans lequel toutes les valeurs dans le sous-arbre gauche d'un noeud sont inférieures à la valeur du noeud et toutes les valeurs dans le sous arbre droit sont supérieures et la valeur du noeud.\n",
    "\n",
    "Les arbres binaires de recherche sont souvent nommées ABR (BST en anglais).\n",
    "\n",
    "**Utilisation**\n",
    "Les BST sont utilisés pour rechercher la présence d'un élement dans une liste.\n",
    "\n",
    "## Exemples et contre-exemples\n",
    " Indiquer quels sont les arbres binaires de recherche.\n",
    " \n",
    " ![3 arbres binaires 1](img/abr-or-not-1.png)\n",
    " ![3 arbres binaires 2](img/abr-or-not-2.png)\n",
    " \n",
    "## Questions\n",
    "\n",
    "- Dans quel nœud d’un arbre binaire de recherche se trouve la plus petite étiquette ? La plus grande ?\n",
    "- Lequel des parcours d’arbres binaires permet de visiter les nœuds d’un ABR dans l’ordre des étiquettes ?\n",
    "\n",
    "## Implémentation\n",
    "\n",
    "- [Implémentation d'un BST](../../6_Algorithmique/6.1_BT_BST/binary_search_tree.ipynb)\n",
    "\n",
    "Une implémentation complète d'un ABR nécessite les méthodes\n",
    "\n",
    "- de création d'un ABR\n",
    "- de recherche d'une valeur\n",
    "- d'insertion d'une valeur\n",
    "- de suppression d'une valeur\n",
    "- de réquilibrage ( hors programme, voir les [AVL](https://fr.wikipedia.org/wiki/Arbre_AVL) )\n",
    "\n",
    "## Coûts des opérations\n",
    "\n",
    "La recherche, l'ajout et la suppression ont le même coût.\n",
    "\n",
    "Chacun des 3 algorithmes nécessite, au pire, de parcourir l'arbre de sa racine jusqu'à une feuille en comparant l'étiquette de chaque noeud avec une valeur. Le nombre de comparaisons est, au pire, égal à la hauteur de l'arbre.\n",
    "\n",
    "Dans le meilleur des cas, si l'ABR de taille n est équilibré, sa hauteur est log2(n), **le coût des opérations est donc logarithmique**.\n",
    "\n",
    "Dans le pire des cas, si l'ABR de taille n est dégénéré, sa hauteur est n-1, le **coût des opérations est donc linéaire**.\n",
    "\n",
    "**A retenir**\n",
    "\n",
    "La complexité des algorithmes de recherche, insertion, et suppression d’une valeur dans un arbre binaire de recherche est\n",
    "\n",
    "- en moyenne logarithmique,\n",
    "- au pire linéaire.\n",
    "\n",
    "Le coût de ces opérations est au pire logarithmique dans le cas d’**arbres de recherche équilibrés**."
   ]
  },
  {
   "cell_type": "markdown",
   "metadata": {},
   "source": [
    "# Algorithme de Huffman\n",
    "\n",
    "[activité débranchée](./marmottes.ipynb)\n",
    "\n",
    "[Voir la vidéo](https://www.youtube.com/watch?v=oqMx1cuw6mo&feature=youtu.be&list=PLWvGMqXvyJAPSMFgCiy6qVHW9bAPu93X5)"
   ]
  },
  {
   "cell_type": "markdown",
   "metadata": {},
   "source": [
    "[Retour au sommaire](../../index.ipynb)"
   ]
  }
 ],
 "metadata": {
  "kernelspec": {
   "display_name": "Python 3",
   "language": "python",
   "name": "python3"
  },
  "language_info": {
   "codemirror_mode": {
    "name": "ipython",
    "version": 3
   },
   "file_extension": ".py",
   "mimetype": "text/x-python",
   "name": "python",
   "nbconvert_exporter": "python",
   "pygments_lexer": "ipython3",
   "version": "3.8.10"
  }
 },
 "nbformat": 4,
 "nbformat_minor": 4
}
