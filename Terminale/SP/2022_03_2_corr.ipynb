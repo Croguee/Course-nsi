{
 "cells": [
  {
   "cell_type": "markdown",
   "metadata": {},
   "source": [
    "[Accueil](../../index.ipynb) > [Sommaire](../index.ipynb) > [Sujets Pratiques 2022](2022.ipynb) > [Sujet 3 Exercice2](2022_03_2.ipynb)"
   ]
  },
  {
   "cell_type": "markdown",
   "metadata": {},
   "source": [
    "# Sujet 3 - Exercice 2 : Un corrigé\n",
    "\n",
    "<div class=\"alert alert-danger\">\n",
    "Je n'ai pas réussi à passer les assert en me basant sur le code à compléter.\n",
    "    \n",
    "Voici différentes façons qui fonctionnent.\n",
    "\n",
    "</div>"
   ]
  },
  {
   "cell_type": "code",
   "execution_count": 51,
   "metadata": {},
   "outputs": [],
   "source": [
    "class Noeud:\n",
    "    def __init__(self, g, v, d):\n",
    "        self.gauche = g\n",
    "        self.valeur = v\n",
    "        self.droit = d\n",
    "    \n",
    "    def __str__(self):\n",
    "        return str(self.valeur)\n",
    "    \n",
    "    def est_une_feuille(self):\n",
    "        '''Renvoie True si et seulement si le noeud est une feuille'''\n",
    "        return self.gauche is None and self.droit is None\n",
    "\n",
    "\n",
    "def expression_infixe1(e):\n",
    "    s = str(e.valeur)\n",
    "    if e.gauche is not None:\n",
    "        s = '(' + expression_infixe1(e.gauche) + s \n",
    "    if e.droit is not None:\n",
    "        s = s + expression_infixe1(e.droit) + ')'\n",
    "    return s\n",
    "\n",
    "\n",
    "### On a deux cas, soit c'est une feuille, soit il a deux enfants.\n",
    "def expression_infixe2(e):\n",
    "    s = str(e.valeur)\n",
    "    if not e.est_une_feuille():\n",
    "        s = '(' + expression_infixe2(e.gauche) + s + expression_infixe2(e.droit) + ')'\n",
    "    return s\n",
    "\n",
    "e = Noeud(Noeud(None, 3, None), '+', Noeud(None, 1, None))\n",
    "assert (expression_infixe1(e) == '(3+1)')    \n",
    "assert (expression_infixe2(e) == '(3+1)')    \n",
    "\n",
    "e = Noeud(Noeud(Noeud(None, 3, None), '*', Noeud(Noeud(None, 8, None),'+', Noeud(None, 7, None))), '-', Noeud(Noeud(None, 2, None), '+',Noeud(None, 1, None)))\n",
    "assert (expression_infixe1(e) == '((3*(8+7))-(2+1))' ) \n",
    "assert (expression_infixe2(e) == '((3*(8+7))-(2+1))' ) \n"
   ]
  }
 ],
 "metadata": {
  "kernelspec": {
   "display_name": "Python 3",
   "language": "python",
   "name": "python3"
  },
  "language_info": {
   "codemirror_mode": {
    "name": "ipython",
    "version": 3
   },
   "file_extension": ".py",
   "mimetype": "text/x-python",
   "name": "python",
   "nbconvert_exporter": "python",
   "pygments_lexer": "ipython3",
   "version": "3.8.10"
  }
 },
 "nbformat": 4,
 "nbformat_minor": 4
}
