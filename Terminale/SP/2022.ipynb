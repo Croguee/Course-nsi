{
 "cells": [
  {
   "cell_type": "markdown",
   "metadata": {},
   "source": [
    "[Accueil](../../index.ipynb) > [Sommaire](../index.ipynb)"
   ]
  },
  {
   "cell_type": "markdown",
   "metadata": {},
   "source": [
    "# Sujets Pratiques 2022\n",
    "\n",
    "- la liste des [sujets 2022 en ligne](https://eduscol.education.fr/2661/banque-des-epreuves-pratiques-de-specialite-nsi).\n",
    "- le [site d'un collègue](https://sebhoa.gitlab.io/nsi/BNS_2022/)\n",
    "- le [site d'un autre collègue](https://fabricenativel.github.io/NSITerminale/Annales/2022/EP/)\n",
    "\n",
    "## Consignes pour l'exercice 1\n",
    "\n",
    "1. Ecrire la signature de la fonction (nom + paramètres);\n",
    "2. Ecrire les docstrings (Paramètres d'entrées, description et sortie);\n",
    "3. Ajouter des asserts sur les postconditions (sorties) en prenant les exemples donnés;\n",
    "4. Ecrire votre fonction en pseudo-code (avec des commentaires);\n",
    "5. Implémenter le code en Python;\n",
    "6. Ajouter d'autres postconditions 'limites' (Modifier la docstring si nécessaire);\n",
    "7. Ajouter des préconditions.\n",
    "\n",
    "## Consignes pour l'exercice 2\n",
    "\n",
    "1. Le code sera disponible en version numérique, inutile de le recopier;\n",
    "2. L'exercice 2 fournit toujours au moins un exemple, **ajouter cet exemple en assert**;\n",
    "3. Si cela n'est pas trop ardu, ajouter de **nouvelles assertions**;\n",
    "4. Si l'algorithme vous parait compliqué, essayer de le **dérouler à la main**:\n",
    "5. Codez.\n",
    "\n",
    "## Liste des sujets\n",
    "\n",
    "- Sujet 1 : [Nombre d'occurrences dans un mot](2022_01_1.ipynb) et [Algorithme glouton récursif](2022_01_2.ipynb).\n",
    "- Sujet 2 : [Moyenne pondérée](2022_02_1.ipynb) et [Triangle de Pascal](2022_02_2.ipynb).\n",
    "- <strike>Sujet 3 : [Codage par différence](2022_03_1.ipynb) et <span style=\"color:red\"> /!\\\\ </span> [Expression arithmique dans un arbre binaire (récursif)](2022_03_2.ipynb) <span style=\"color:red\"> /!\\\\ </span>.</strike>\n",
    "- Sujet 4 : [Recherche de couples d'entiers consécutifs](2022_04_1.ipynb) et [Changement pixels d'une composante](2022_04_2.ipynb).\n",
    "- Sujet 5 : [Recherche du mini et du maxi dans une liste](2022_05_1.ipynb) et [Création d'un paquet de cartes](2022_05_2.ipynb).\n",
    "- Sujet 6 : [Recherche du maxi dans une liste](2022_06_1.ipynb) et [Création d'un motif dans un texte](2022_06_2.ipynb).\n",
    "- Sujet 7 : [Ecriture d'un nombre en binaire](2022_07_1.ipynb) et [Tri par bulles](2022_07_2.ipynb).\n",
    "- Sujet 8 : [Recherche d'un élément dans une liste](2022_08_1.ipynb) et [Insertion d'un élément dans une liste](2022_08_2.ipynb).\n",
    "- Sujet 9 : [Syracuse](2022_09_1.ipynb) et [Mot parfait](2022_09_2.ipynb).\n",
    "- \n",
    "- Sujet 39 : [Moyenne d'une liste](2022_39_1.ipynb) et [Affichage d'une image (ASCII)](2022_39_2.ipynb).\n",
    "- Sujet 40 : [Recherche d'un élément dans une liste](2022_40_1.ipynb) et [Moyenne à partir d'un dictionnaire](2022_40_2.ipynb).\n"
   ]
  },
  {
   "cell_type": "code",
   "execution_count": null,
   "metadata": {},
   "outputs": [],
   "source": []
  }
 ],
 "metadata": {
  "kernelspec": {
   "display_name": "Python 3",
   "language": "python",
   "name": "python3"
  },
  "language_info": {
   "codemirror_mode": {
    "name": "ipython",
    "version": 3
   },
   "file_extension": ".py",
   "mimetype": "text/x-python",
   "name": "python",
   "nbconvert_exporter": "python",
   "pygments_lexer": "ipython3",
   "version": "3.8.10"
  }
 },
 "nbformat": 4,
 "nbformat_minor": 4
}
