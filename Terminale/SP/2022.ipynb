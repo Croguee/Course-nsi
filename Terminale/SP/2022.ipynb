{
 "cells": [
  {
   "cell_type": "markdown",
   "metadata": {},
   "source": [
    "[Accueil](../../index.ipynb) > [Sommaire](../index.ipynb)"
   ]
  },
  {
   "cell_type": "markdown",
   "metadata": {},
   "source": [
    "# Sujets Pratiques 2022\n",
    "\n",
    "## Consignes pour l'exercice 1\n",
    "\n",
    "1. Ecrire la signature de la fonction (nom + paramètres);\n",
    "2. Ecrire les docstrings (Paramètres d'entrées, description et sortie);\n",
    "3. Ajouter des asserts sur les postconditions (sorties) en prenant les exemples donnés;\n",
    "4. Ecrire votre fonction en pseudo-code (avec des commentaires);\n",
    "5. Implémenter le code en Python;\n",
    "6. Ajouter d'autres postconditions 'limites' (Modifier la docstring si nécessaire);\n",
    "7. Ajouter des préconditions.\n",
    "\n",
    "\n",
    "- Sujet 1 : [Nombre d'occurrences dans un mot](2022_01_1.ipynb) et [Algorithme glouton récursif](2022_01_2.ipynb)."
   ]
  },
  {
   "cell_type": "code",
   "execution_count": null,
   "metadata": {},
   "outputs": [],
   "source": []
  }
 ],
 "metadata": {
  "kernelspec": {
   "display_name": "Python 3",
   "language": "python",
   "name": "python3"
  },
  "language_info": {
   "codemirror_mode": {
    "name": "ipython",
    "version": 3
   },
   "file_extension": ".py",
   "mimetype": "text/x-python",
   "name": "python",
   "nbconvert_exporter": "python",
   "pygments_lexer": "ipython3",
   "version": "3.8.10"
  }
 },
 "nbformat": 4,
 "nbformat_minor": 4
}
