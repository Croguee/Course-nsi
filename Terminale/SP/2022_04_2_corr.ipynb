{
 "cells": [
  {
   "cell_type": "markdown",
   "metadata": {},
   "source": [
    "[Accueil](../../index.ipynb) > [Sommaire](../index.ipynb) > [Sujets Pratiques 2022](2022.ipynb) > [Sujet 2 Exercice2](2022_02_2.ipynb)"
   ]
  },
  {
   "cell_type": "markdown",
   "metadata": {},
   "source": [
    "# Sujet 4 - Exercice 2 : Un corrigé\n",
    "\n",
    "<div class=\"alert alert-info\">Exercice très facile par mimétisme des 4 conditions</div>"
   ]
  },
  {
   "cell_type": "code",
   "execution_count": 9,
   "metadata": {},
   "outputs": [],
   "source": [
    "def propager(M, i, j, val):\n",
    "    # Ajout du or pour éviter le plantage\n",
    "    if M[i][j]== 0 or val == 1:\n",
    "        return\n",
    "    \n",
    "    # l'affectation de val dans la case évite le maximum recursion depth (si val!=1....)\n",
    "    M[i][j]=val\n",
    "\n",
    "    # l'élément en haut fait partie de la composante\n",
    "    if ((i-1) >= 0 and M[i-1][j] == 1):\n",
    "        propager(M, i-1, j, val)\n",
    "\n",
    "    # l'élément en bas fait partie de la composante\n",
    "    if ((i+1) < len(M) and M[i+1][j] == 1):\n",
    "        propager(M, i+1, j, val)\n",
    "\n",
    "    # l'élément à gauche fait partie de la composante\n",
    "    if ((j-1) >= 0 and M[i][j-1] == 1):\n",
    "        propager(M, i, j-1, val)\n",
    "\n",
    "    # l'élément à droite fait partie de la composante\n",
    "    if ((j+1) < len(M) and M[i][j+1] == 1):\n",
    "        propager(M, i, j+1, val)\n",
    "\n",
    "        \n",
    "M = [[0,0,1,0],[0,1,0,1],[1,1,1,0],[0,1,1,0]]\n",
    "propager(M,2,1,3)\n",
    "assert (M == [[0, 0, 1, 0], [0, 3, 0, 1], [3, 3, 3, 0], [0, 3, 3, 0]])\n",
    "\n",
    "# vérification si la case contient un 0\n",
    "M = [[0,0,1,0],[0,1,0,1],[1,1,1,0],[0,1,1,0]]\n",
    "propager(M,0,0,3)\n",
    "# aucun changement\n",
    "assert(M == [[0,0,1,0],[0,1,0,1],[1,1,1,0],[0,1,1,0]])\n",
    "\n",
    "# vérification si la valeur val=1\n",
    "M = [[0,0,1,0],[0,1,0,1],[1,1,1,0],[0,1,1,0]]\n",
    "propager(M,2,1,1)\n",
    "assert(M == [[0,0,1,0],[0,1,0,1],[1,1,1,0],[0,1,1,0]])\n"
   ]
  },
  {
   "cell_type": "markdown",
   "metadata": {},
   "source": []
  }
 ],
 "metadata": {
  "kernelspec": {
   "display_name": "Python 3",
   "language": "python",
   "name": "python3"
  },
  "language_info": {
   "codemirror_mode": {
    "name": "ipython",
    "version": 3
   },
   "file_extension": ".py",
   "mimetype": "text/x-python",
   "name": "python",
   "nbconvert_exporter": "python",
   "pygments_lexer": "ipython3",
   "version": "3.8.10"
  }
 },
 "nbformat": 4,
 "nbformat_minor": 4
}
