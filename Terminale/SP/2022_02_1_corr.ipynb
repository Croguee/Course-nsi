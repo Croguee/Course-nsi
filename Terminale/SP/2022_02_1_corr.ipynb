{
 "cells": [
  {
   "cell_type": "markdown",
   "metadata": {},
   "source": [
    "[Accueil](../../index.ipynb) > [Sommaire](../index.ipynb) > [Sujets Pratiques 2022](2022.ipynb) > [Sujet 2 Exercice1](2022_02_1.ipynb)"
   ]
  },
  {
   "cell_type": "markdown",
   "metadata": {},
   "source": [
    "# Sujet 2 - Exercice 1 : Un corrigé"
   ]
  },
  {
   "cell_type": "code",
   "execution_count": 9,
   "metadata": {},
   "outputs": [],
   "source": [
    "def moyenne(notes):\n",
    "    \"\"\"\n",
    "    Entrée\n",
    "    notes : une liste de tuples composés d'un float entre 0 et 20 et d'un entier positif\n",
    "    Retourne la moyenne pondérée des notes\n",
    "    Sortie:\n",
    "    la moyenne pondérée : float\n",
    "    \"\"\"\n",
    "    # Pré-conditions\n",
    "    assert len(notes) >= 1\n",
    "    for note, coef in notes:\n",
    "        assert( note >=0 and note <= 20 )\n",
    "        assert( isinstance(coef, int) )\n",
    "        assert( coef > 0 )\n",
    "    # Initialisation des variables\n",
    "    total_coef = 0\n",
    "    total_point = 0.0\n",
    "    # On boucle sur chaque tuple de la liste\n",
    "    for note, coef in notes:\n",
    "        total_coef += coef\n",
    "        total_point += note*coef\n",
    "    return total_point/total_coef\n",
    "\n",
    "\n",
    "# Postconditions\n",
    "assert moyenne([(15,2),(9,1),(12,3)]) == 12.5\n",
    "# d'autres assertions\n",
    "assert moyenne([(0,2)]) == 0.0\n",
    "assert moyenne([(0,1),(20,1)]) == 10.0\n",
    "# /!\\ Attention lors de tests d'égalité de flottants\n",
    "#assert moyenne([(0.1,1),(0.2,1)]) == 0.15"
   ]
  },
  {
   "cell_type": "markdown",
   "metadata": {},
   "source": [
    "Rappels:\n",
    "\n",
    "- [réprésentation des flottants](../../Premiere/2_Representation_Donnees_Base/3_Representation_nombres_reels.ipynb)\n",
    "- Technique du [pack et unpack](https://levelup.gitconnected.com/improve-your-python-coding-tuple-packing-and-unpacking-44bd92daab31) en Python."
   ]
  },
  {
   "cell_type": "code",
   "execution_count": null,
   "metadata": {},
   "outputs": [],
   "source": []
  }
 ],
 "metadata": {
  "kernelspec": {
   "display_name": "Python 3",
   "language": "python",
   "name": "python3"
  },
  "language_info": {
   "codemirror_mode": {
    "name": "ipython",
    "version": 3
   },
   "file_extension": ".py",
   "mimetype": "text/x-python",
   "name": "python",
   "nbconvert_exporter": "python",
   "pygments_lexer": "ipython3",
   "version": "3.8.10"
  }
 },
 "nbformat": 4,
 "nbformat_minor": 4
}
