{
 "cells": [
  {
   "cell_type": "markdown",
   "metadata": {},
   "source": [
    "[Accueil](../../index.ipynb) > [Sommaire](../index.ipynb) > [Sujets Pratiques 2022](2022.ipynb) > [Sujet 2 Exercice2](2022_02_2.ipynb)"
   ]
  },
  {
   "cell_type": "markdown",
   "metadata": {},
   "source": [
    "# Sujet 2 - Exercice 2 : Un corrigé\n",
    "\n",
    "Il est plus facile de trouver les indices en utilisant ce type de triangle:\n",
    "\n",
    "```\n",
    "k=0   1\n",
    "k=1   1 1\n",
    "k=2   1 2 1\n",
    "k=3   1 3 3 1\n",
    "k=4   1 4 6 1 1\n",
    "...\n",
    "\n",
    "k=n\n",
    "```"
   ]
  },
  {
   "cell_type": "code",
   "execution_count": 11,
   "metadata": {},
   "outputs": [
    {
     "name": "stdout",
     "output_type": "stream",
     "text": [
      "[[1], [1, 1], [1, 2, 1], [1, 3, 3, 1], [1, 4, 6, 4, 1], [1, 5, 10, 10, 5, 1], [1, 6, 15, 20, 15, 6, 1], [1, 7, 21, 35, 35, 21, 7, 1], [1, 8, 28, 56, 70, 56, 28, 8, 1], [1, 9, 36, 84, 126, 126, 84, 36, 9, 1], [1, 10, 45, 120, 210, 252, 210, 120, 45, 10, 1]]\n"
     ]
    }
   ],
   "source": [
    "def pascal(n):\n",
    "    C = [[1]]\n",
    "    for k in range(1,n+1):# Attention, le n+1 est exclu, on va donc jusqu'à n\n",
    "        Ck = [1]\n",
    "        for i in range(1,k):\n",
    "            # On ajoute celui du dessus à gauche + celui du dessus\n",
    "            Ck.append(C[k-1][i-1]+C[k-1][i] )\n",
    "        # Fin de boucle, j'ajoute 1\n",
    "        Ck.append(1)\n",
    "        # J'ajoute la ligne Ck à C\n",
    "        C.append(Ck)\n",
    "    return C\n",
    "\n",
    "print(pascal(10))\n",
    "assert (pascal(4) == [[1], [1, 1], [1, 2, 1], [1, 3, 3, 1], [1, 4, 6, 4, 1]])\n",
    "assert (pascal(5) == [[1], [1, 1], [1, 2, 1], [1, 3, 3, 1], [1, 4, 6, 4, 1], [1, 5, 10, 10, 5, 1]])\n",
    "assert (pascal(0) == [[1],])"
   ]
  },
  {
   "cell_type": "code",
   "execution_count": null,
   "metadata": {},
   "outputs": [],
   "source": []
  }
 ],
 "metadata": {
  "kernelspec": {
   "display_name": "Python 3",
   "language": "python",
   "name": "python3"
  },
  "language_info": {
   "codemirror_mode": {
    "name": "ipython",
    "version": 3
   },
   "file_extension": ".py",
   "mimetype": "text/x-python",
   "name": "python",
   "nbconvert_exporter": "python",
   "pygments_lexer": "ipython3",
   "version": "3.8.10"
  }
 },
 "nbformat": 4,
 "nbformat_minor": 4
}
