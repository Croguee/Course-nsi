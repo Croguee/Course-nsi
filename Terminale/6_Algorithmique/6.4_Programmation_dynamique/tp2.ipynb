{
 "cells": [
  {
   "cell_type": "markdown",
   "metadata": {},
   "source": [
    "[Accueil](../../../index.ipynb) > [Sommaire](../../index.ipynb) > [6.4 Programmation dynamique](index.ipynb)"
   ]
  },
  {
   "cell_type": "markdown",
   "metadata": {},
   "source": [
    "# TP Pyramide de nombres\n",
    "\n",
    "TP **très fortement inspiré** de [cette source](http://hmalherbe.fr/thalesm/gestclasse/documents/Terminale_NSI/2020-2021/TP/TP_Term_NSI_programmation_dynamique/TP_Term_NSI_programmation_dynamique.html)."
   ]
  },
  {
   "cell_type": "markdown",
   "metadata": {},
   "source": [
    "## Présentation du problème\n",
    "\n",
    "Voici une pyramide de nombres. En partant du sommet et en se dirigeant vers le bas, **il faut maximiser la somme des nombres**. Depuis un nombre, on ne peut accèder qu'aux deux éléments adjacents de l'étage inférieur.\n",
    "\n",
    "```\n",
    "   3\n",
    "  7 4\n",
    " 2 4 6\n",
    "8 5 9 3\n",
    "```\n",
    "\n",
    "Dans cet exemple, la somme est maximisée en empruntant le chemin 3 -> 7 -> 4 -> 9."
   ]
  },
  {
   "cell_type": "markdown",
   "metadata": {},
   "source": [
    "## Choix de la structure de données\n",
    "\n",
    "Nous allons utiliser **une liste de listes**.\n",
    "\n",
    "L'exemple précédent est modélise par:"
   ]
  },
  {
   "cell_type": "code",
   "execution_count": 34,
   "metadata": {},
   "outputs": [],
   "source": [
    "pyramide_exemple = [[3], [7, 4], [2, 4, 6], [8, 5, 9, 3]]"
   ]
  },
  {
   "cell_type": "markdown",
   "metadata": {},
   "source": [
    "## Quelques fonctions préliminaires\n",
    "\n",
    "<div class=\"alert alert-info\">\n",
    "\n",
    "**A Faire**:\n",
    "\n",
    "Ecrire une fonction *generer_pyramide* qui génère une pyramide de hauteur *h* d'entiers aléatoires compris entre 1 et 9\n",
    "</div>\n",
    "    "
   ]
  },
  {
   "cell_type": "code",
   "execution_count": 35,
   "metadata": {},
   "outputs": [
    {
     "data": {
      "text/plain": [
       "[[2], [8, 2], [7, 6, 2], [9, 3, 5, 8]]"
      ]
     },
     "execution_count": 35,
     "metadata": {},
     "output_type": "execute_result"
    }
   ],
   "source": [
    "import random\n",
    "\n",
    "def generer_pyramide(h):\n",
    "    \"\"\"\n",
    "    Retourne une pyramide de hauteur h contenant des nombres aléatoires entre 1 et 9\n",
    "    \"\"\"\n",
    "    result = []\n",
    "    for i in range(h):\n",
    "        result.append([random.randint(1,9) for _ in range(i+1)])\n",
    "    return result\n",
    "\n",
    "p = generer_pyramide(4)\n",
    "p"
   ]
  },
  {
   "cell_type": "markdown",
   "metadata": {},
   "source": [
    "<div class=\"alert alert-info\">\n",
    "\n",
    "**A Faire**:\n",
    "\n",
    "Ecrire une fonction *afficher_pyramide* qui affiche une pyramide passée en paramètre.\n",
    "</div>"
   ]
  },
  {
   "cell_type": "code",
   "execution_count": 36,
   "metadata": {},
   "outputs": [
    {
     "name": "stdout",
     "output_type": "stream",
     "text": [
      "    2\n",
      "   8 2\n",
      "  7 6 2\n",
      " 9 3 5 8\n"
     ]
    }
   ],
   "source": [
    "def afficher_pyramide(p):\n",
    "    \"\"\"\n",
    "    Affiche la pyramide p\n",
    "    \"\"\"\n",
    "    for i in range(len(p)):\n",
    "        # Je mets un espace entre chaque nombre de la ligne\n",
    "        line = ' '.join([str(e) for e in p[i]])\n",
    "        # Je calcule l'espace nécessaire à insérer avant\n",
    "        spaces = (len(p)-i)*' '\n",
    "        print(spaces+line)\n",
    "\n",
    "afficher_pyramide(p)"
   ]
  },
  {
   "cell_type": "markdown",
   "metadata": {},
   "source": [
    "<div class=\"alert alert-info\">\n",
    "\n",
    "**A Faire**:\n",
    "\n",
    "Ecrire deux fonctions:\n",
    "\n",
    "1. *sous_pyramide_gauche* qui retourne la sous-pyramide de gauche.\n",
    "2. *sous_pyramide_droite* qui retourne la sous-pyramide de droite.\n",
    "\n",
    "</div>"
   ]
  },
  {
   "cell_type": "code",
   "execution_count": 37,
   "metadata": {},
   "outputs": [
    {
     "name": "stdout",
     "output_type": "stream",
     "text": [
      "    2\n",
      "   8 2\n",
      "  7 6 2\n",
      " 9 3 5 8\n",
      "   8\n",
      "  7 6\n",
      " 9 3 5\n",
      "   2\n",
      "  6 2\n",
      " 3 5 8\n"
     ]
    }
   ],
   "source": [
    "def sous_pyramide_gauche(p):\n",
    "    return [line[:-1] for line in p if len(line) > 1]\n",
    "\n",
    "def sous_pyramide_droite(p):\n",
    "    return [line[1:] for line in p  if len(line) > 1]\n",
    "\n",
    "afficher_pyramide(p)\n",
    "\n",
    "afficher_pyramide(sous_pyramide_gauche(p))\n",
    "\n",
    "\n",
    "afficher_pyramide(sous_pyramide_droite(p))"
   ]
  },
  {
   "cell_type": "markdown",
   "metadata": {},
   "source": [
    "## Première méthode : brute force\n",
    "\n",
    "Ecriture de la relation récursive\n",
    "\n",
    "- Si la hauteur de ma pyramide est 1 alors, la somme maximale est égale au sommet de la pyramide (cas d'arrêt)\n",
    "- Sinon, la somme du chemin est l'élement du sommet + le maximum entre le chemin optimal de  pyramide gauche et le chemin optimal de la pyramide droite.\n",
    "\n",
    "Reprenons cette pyramide\n",
    "\n",
    "```\n",
    "   3\n",
    "  7 4\n",
    " 2 4 6\n",
    "8 5 9 3\n",
    "```\n",
    "\n",
    "Le chemin optimal vaut :\n",
    "<code>\n",
    "             7        4\n",
    "3 + max(    2 4  ,   4 6  )\n",
    "           8 5 9    5 9 3\n",
    "</code>\n",
    "\n",
    "<div class=\"alert alert-info\">\n",
    "\n",
    "**A Faire**:\n",
    "\n",
    "Ecrire une fonction *recherche_max_brute* la somme maximale parmis tous les chemins possibles.\n",
    "</div>"
   ]
  },
  {
   "cell_type": "code",
   "execution_count": 55,
   "metadata": {},
   "outputs": [
    {
     "data": {
      "text/plain": [
       "23"
      ]
     },
     "execution_count": 55,
     "metadata": {},
     "output_type": "execute_result"
    }
   ],
   "source": [
    "\n",
    "def recherche_max_brute(p):\n",
    "    sommet = p[0][0]\n",
    "    if len(p)==1:\n",
    "        return sommet\n",
    "    else:\n",
    "        gauche = sous_pyramide_gauche(p)\n",
    "        droite = sous_pyramide_droite(p)\n",
    "        return sommet + max(recherche_max_brute(gauche), recherche_max_brute(droite))\n",
    "\n",
    "recherche_max_brute(pyramide_exemple)    "
   ]
  },
  {
   "cell_type": "markdown",
   "metadata": {},
   "source": [
    "### Complexité temporelle\n",
    "\n",
    "Voici un tableau donnant le nombre de chemins possibles en fonction de la hauteur h.\n",
    "\n",
    "Ajouter un étage correspond à ajouter deux sous pyramides de taille équivalente + un sommet, il y a donc 2 fois plus de chemins qu'avant.\n",
    "\n",
    "Le nombre de chemins $n$ pour une hauteur $h$ est $n=2^h$.\n",
    "\n",
    "**La complexité temporelle est donc exponentielle.**\n",
    "\n",
    "**Exemples**\n",
    "\n",
    "- Si h=20, le nombre de chemins à évaluer est $2^{20}=1048576$.\n",
    "- Si h=50, on arrive à $2^{50}=1125 899 906 842 624$ chemins possibles, soit environ $10^{15}$ chemins (1 million de milliards de chemins).\n",
    "\n",
    "Traiter le cas de la pyramide ci-dessous. Vous devez trouver 67"
   ]
  },
  {
   "cell_type": "markdown",
   "metadata": {},
   "source": [
    "## Deuxième méthode : la programmation dynamique\n",
    "\n",
    "examinons cette pyramide ainsi que ces deux sous-pyramides."
   ]
  },
  {
   "cell_type": "code",
   "execution_count": 60,
   "metadata": {
    "tags": []
   },
   "outputs": [
    {
     "name": "stdout",
     "output_type": "stream",
     "text": [
      "     8\n",
      "    8 2\n",
      "   1 8 6\n",
      "  7 8 2 5\n",
      " 3 4 3 6 4\n"
     ]
    }
   ],
   "source": [
    "p5 = [[8], [8, 2], [1, 8, 6], [7, 8, 2, 5], [3, 4, 3, 6, 4]]\n",
    "afficher_pyramide(p5)"
   ]
  },
  {
   "cell_type": "markdown",
   "metadata": {},
   "source": [
    "Il est visuellement évident que les sous-pyramide gauche et droite se recouvrent et que par conséquent de nombreux chemins sont traités plusieurs fois.\n",
    "\n",
    "A continuer voir http://hmalherbe.fr/thalesm/gestclasse/documents/Terminale_NSI/2020-2021/TP/TP_Term_NSI_programmation_dynamique/TP_Term_NSI_programmation_dynamique.html \n",
    "\n",
    "http://sdz.tdct.org/sdz/introduction-a-la-programmation-dynamique.html"
   ]
  }
 ],
 "metadata": {
  "kernelspec": {
   "display_name": "Python 3",
   "language": "python",
   "name": "python3"
  },
  "language_info": {
   "codemirror_mode": {
    "name": "ipython",
    "version": 3
   },
   "file_extension": ".py",
   "mimetype": "text/x-python",
   "name": "python",
   "nbconvert_exporter": "python",
   "pygments_lexer": "ipython3",
   "version": "3.8.10"
  }
 },
 "nbformat": 4,
 "nbformat_minor": 4
}
