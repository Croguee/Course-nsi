{
 "cells": [
  {
   "cell_type": "markdown",
   "metadata": {},
   "source": [
    "[Accueil](../../../index.ipynb) > [NSI Terminale](../../index.ipynb)"
   ]
  },
  {
   "cell_type": "markdown",
   "metadata": {},
   "source": [
    "# Algorithmes sur les graphes"
   ]
  },
  {
   "cell_type": "markdown",
   "metadata": {},
   "source": [
    "## Parcours de graphes"
   ]
  },
  {
   "cell_type": "markdown",
   "metadata": {},
   "source": [
    "### BFS (Breadth First Search)\n",
    "\n",
    "A faire\n"
   ]
  },
  {
   "cell_type": "markdown",
   "metadata": {},
   "source": [
    "### DFS (Depth First Search)\n",
    "\n",
    "A faire"
   ]
  },
  {
   "cell_type": "markdown",
   "metadata": {},
   "source": [
    "## Recherche de cycles\n",
    "\n",
    "A faire"
   ]
  },
  {
   "cell_type": "markdown",
   "metadata": {},
   "source": [
    "## Algorithme de Dijkstra"
   ]
  },
  {
   "cell_type": "code",
   "execution_count": 2,
   "metadata": {},
   "outputs": [
    {
     "name": "stdout",
     "output_type": "stream",
     "text": [
      "On visite le sommet A\n",
      "Met à jour le sommet B avec la distance : 15\n",
      "Met à jour le sommet C avec la distance : 4\n",
      "On visite le sommet B\n",
      "Met à jour le sommet E avec la distance : 20\n",
      "On visite le sommet C\n",
      "Met à jour le sommet E avec la distance : 15\n",
      "Met à jour le sommet D avec la distance : 6\n",
      "On visite le sommet E\n",
      "On visite le sommet E\n",
      "On visite le sommet D\n",
      "Met à jour le sommet E avec la distance : 9\n",
      "On visite le sommet E\n",
      "Distances{'A': 0, 'B': 15, 'C': 4, 'E': 9, 'D': 6}\n"
     ]
    }
   ],
   "source": [
    "from collections import deque\n",
    "def dijkstra(graph, vertex):\n",
    "    queue = deque([vertex])\n",
    "    distance = {vertex: 0}\n",
    "    while queue:\n",
    "        t = queue.popleft()\n",
    "        print(\"On visite le sommet \" + str(t))\n",
    "        for voisin in graph[t]:\n",
    "                queue.append(voisin)\n",
    "                nouvelle_distance = distance[t] + graph[t][voisin]\n",
    "                if(voisin not in distance or nouvelle_distance < distance[voisin]):\n",
    "                    distance[voisin] = nouvelle_distance\n",
    "                    print(\"Met à jour le sommet \" + str(voisin) + \" avec la distance : \" + str(nouvelle_distance))\n",
    "                    \n",
    "    return distance\n",
    "#Liste d'ajacence du graphe\n",
    "graph = {'A':{'B':15,'C':4},'B':{'E':5},'C':{'E':11,'D':2},'D':{'E':3},'E':{}}\n",
    "distance = dijkstra(graph,'A')\n",
    "print(\"Distances\" + str(distance))"
   ]
  },
  {
   "cell_type": "code",
   "execution_count": null,
   "metadata": {},
   "outputs": [],
   "source": []
  }
 ],
 "metadata": {
  "kernelspec": {
   "display_name": "Python 3",
   "language": "python",
   "name": "python3"
  },
  "language_info": {
   "codemirror_mode": {
    "name": "ipython",
    "version": 3
   },
   "file_extension": ".py",
   "mimetype": "text/x-python",
   "name": "python",
   "nbconvert_exporter": "python",
   "pygments_lexer": "ipython3",
   "version": "3.8.10"
  },
  "toc": {
   "base_numbering": 1,
   "nav_menu": {},
   "number_sections": true,
   "sideBar": true,
   "skip_h1_title": false,
   "title_cell": "Table of Contents",
   "title_sidebar": "Contents",
   "toc_cell": false,
   "toc_position": {},
   "toc_section_display": true,
   "toc_window_display": true
  }
 },
 "nbformat": 4,
 "nbformat_minor": 4
}
