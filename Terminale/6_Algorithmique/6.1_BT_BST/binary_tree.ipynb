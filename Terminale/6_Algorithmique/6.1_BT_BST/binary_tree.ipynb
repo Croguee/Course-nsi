{
 "cells": [
  {
   "cell_type": "markdown",
   "metadata": {},
   "source": [
    "[Retour au sommaire](../../index.ipynb)"
   ]
  },
  {
   "cell_type": "markdown",
   "metadata": {},
   "source": [
    "<div class=\"alert alert-info\">Les algorithmes sur les arbres binaires nécéssitent une connaissance de la récursivité et, dans notre cas, de la programmation orientée objet.</div>"
   ]
  },
  {
   "cell_type": "markdown",
   "metadata": {},
   "source": [
    "# 6.1 Algorithmes sur les arbres binaires\n",
    "\n",
    "\n",
    "Python ne possède pas nativement la structure arbre binaire. Il existe la librairie [binarytree](https://pypi.org/project/binarytree/) qui peut être installée, mais pour les besoins pédagogiques nous allons implémenter **notre propre solution** en utilisant la POO.\n",
    "\n",
    "\n",
    "\n",
    "Le module binarytree que vous allez créer possède deux classes :\n",
    "\n",
    "1. une classe **Node** qui représente un noeud de l'arbre. Un noeud possède comme attribut sa valeur (\\_value ), le noeud gauche (\\_left) et le noeud droit (\\_right).\n",
    "2. une classe **BinaryTree** dont la racine (\\_root) est une instance de la classe Node.\n",
    "\n",
    "On obtient donc le diagramme de classes suivant:\n",
    "\n",
    "![Diagramme de classe d'un arbre binaire](img/binary_tree.drawio.png)"
   ]
  },
  {
   "cell_type": "markdown",
   "metadata": {},
   "source": [
    "## Création d'un projet git\n",
    "\n",
    "### Importation d'un modèle de projet existant\n",
    "\n",
    "Nous n'allons pas partir de zéro. Vous allez commencer par un projet existant : sl29.structures.binarytree.\n",
    "Voici la démarche:\n",
    "\n",
    "- Vous allez télécharger un projet existant\n",
    "- Vous allez supprimer le dossier .git afin que ce projet ne soit plus un git;\n",
    "- Puis, localement vous initialisez votre projet git;\n",
    "- Vous ajoutez tous les fichiers qui existent;\n",
    "- Vous le poussez sur votre compte github.\n",
    "\n",
    "Maintenant à vous\n",
    "\n",
    "- Allez sur [la release 1.0 du projet](https://github.com/saintlouis29/sl29.structures.binarytree/releases/tag/1.0)\n",
    "- Enregistrer le fichier d'extension .tar.gz (c'est une archive compressée) dans le dossier de vos projets.\n",
    "\n",
    "Ensuite tout se fait via des commandes. Bien évidemment adaptez les...\n",
    "\n",
    "```\n",
    "cd votre/dossier/projets\n",
    "tar xfz sl29.structures.binarytree-1.0.tar.gz\n",
    "cd sl29.structures.binarytree-1.0\n",
    "git init\n",
    "git add .\n",
    "git commit -m \"Initial commit\"\n",
    "git remote add origin user@github.com:/sl29.structures.binarytree.git\n",
    "git push origin master\n",
    "```"
   ]
  },
  {
   "cell_type": "markdown",
   "metadata": {},
   "source": [
    "### Création d'un python virtuel et installation du paquet\n",
    "\n",
    "- Créez votre python virtuel, activez le;\n",
    "- Configurez votre IDE;\n",
    "- Installez le paquet et generez la documentation.\n",
    "\n",
    "```\n",
    "pip3 install sphinx pytest-cov\n",
    "pip3 develop setup.py\n",
    "python3 setup.py build_sphinx\n",
    "```\n",
    "\n",
    "Ca y est, on peut commencer."
   ]
  },
  {
   "cell_type": "markdown",
   "metadata": {},
   "source": [
    "## Découverte de la documentation du projet\n",
    "\n",
    "Ouvrir le fichier qui se trouve dans docs/index.html avec un navigateur web."
   ]
  },
  {
   "cell_type": "markdown",
   "metadata": {},
   "source": [
    "## Implémentation d'une méthode de la classe Node.\n",
    "\n",
    "Dans votre IDE, ouvrez le fichier **binarytree.py** ainsi que le fichier **test_node.py**.\n",
    "\n",
    "Dans la classe **Node**, vous devez implémenter la méthode **is_leaf** qui retourne Vrai si le noeud est une feuille Faux sinon.\n",
    "\n",
    "Aidez vous des tests unitaires.\n",
    "\n",
    "Lancer les tests unitaires avec la commande suivante:\n",
    "\n",
    "```\n",
    "pytest --cov\n",
    "```"
   ]
  },
  {
   "cell_type": "markdown",
   "metadata": {},
   "source": [
    "## Taille d'un arbre\n",
    "\n",
    "<div class=\"alert alert-info\">\n",
    "    <b>Rappel</b><br/>\n",
    "    La taille d'un arbre est son nombre de noeuds.\n",
    "</div>\n",
    "\n",
    "Nous allons, dans la classe BinaryTree, implémenter la méthode **size()** en utilisant une méthode récursive.\n",
    "\n",
    "Quel est le cas d'arrêt ?\n",
    "Quel est le cas général ?\n",
    "\n",
    "A l'aide des tests, implémentez la méthode size()."
   ]
  },
  {
   "cell_type": "markdown",
   "metadata": {},
   "source": [
    "## Hauteur d'un arbre\n",
    "\n",
    "<div class=\"alert alert-info\">\n",
    "    <b>Rappel</b><br/>\n",
    "    La hauteur de l'arbre est la profondeur maximale des feuilles de l'arbre.\n",
    "    Pour un arbre possédant un seul noeud racine, la hauteur est 0.\n",
    "    Pour un arbre nul, la hauteur est -1.\n",
    "</div>\n",
    "\n",
    "- Commencez par créer vos tests unitaires (inutile de vouloir être exhaustif, ce n'est pas possible)\n",
    "- Implémentez la méthode **height** en vous basant sur vos tests."
   ]
  },
  {
   "cell_type": "markdown",
   "metadata": {},
   "source": [
    "## Parcours d'arbre\n",
    "\n",
    "- Commencez par créer vos tests unitaires (inutile de vouloir être exhaustif, ce n'est pas possible)\n",
    "- Implémentez les 3 méthodes de parcours d'arbre.\n",
    "\n",
    "### Parcours préfixe\n",
    "\n",
    "1. Analysez le sens de parcours en profondeur préfixe;\n",
    "2. Quel est le parcours préfixe du sous-arbre gauche ? celui du sous-arbre droit ?\n",
    "3. Comment est construit le parcours de l'arbre en fonction de ses deux sous-arbres ?\n",
    "\n",
    "### Parcours postfixe (suffixe)\n",
    "\n",
    "1. Analysez le sens de parcours en profondeur postfixe;\n",
    "2. Quel est le parcours postfixe du sous-arbre gauche ? celui du sous-arbre droit ?\n",
    "3. Comment est construit le parcours de l'arbre en fonction de ses deux sous-arbres ?\n",
    "\n",
    "### Parcours infixe\n",
    "\n",
    "1. Analysez le sens de parcours en profondeur infixe;\n",
    "2. Quel est le parcours infixe du sous-arbre gauche ? celui du sous-arbre droit ?\n",
    "3. Comment est construit le parcours de l'arbre en fonction de ses deux sous-arbres ?\n",
    "\n",
    "### Parcours en largeur ( BFS : Breadth First Search for Tree)\n",
    "\n",
    "1. Regardez l'algorithme dans [cette vidéo](https://www.youtube.com/watch?v=4-TE4Avkmec);\n",
    "2. Créez quelques tests;\n",
    "3. Implémentez l'algorithme."
   ]
  },
  {
   "cell_type": "markdown",
   "metadata": {},
   "source": [
    "[Retour au sommaire](../../index.ipynb)"
   ]
  }
 ],
 "metadata": {
  "kernelspec": {
   "display_name": "Python 3",
   "language": "python",
   "name": "python3"
  },
  "language_info": {
   "codemirror_mode": {
    "name": "ipython",
    "version": 3
   },
   "file_extension": ".py",
   "mimetype": "text/x-python",
   "name": "python",
   "nbconvert_exporter": "python",
   "pygments_lexer": "ipython3",
   "version": "3.8.10"
  }
 },
 "nbformat": 4,
 "nbformat_minor": 4
}
