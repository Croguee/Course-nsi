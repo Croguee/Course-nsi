{
 "cells": [
  {
   "cell_type": "markdown",
   "metadata": {},
   "source": [
    "[Retour au sommaire](../../index.ipynb)"
   ]
  },
  {
   "cell_type": "markdown",
   "metadata": {},
   "source": [
    "# 6.1 Algorithme sur les arbres binaires de recherche\n",
    "\n",
    "Suite des [algorithmes sur les arbres binaires](binary_tree.ipynb).\n",
    "\n",
    "Un ABR se distingue d'un arbre binaire par la propriété suivante : \n",
    "\n",
    "- l'étiquette de la racine est \n",
    "  - supérieure aux étiquettes du sous-arbre gauche\n",
    "  - inférieure aux étiquettes du sous-arbre droit\n",
    "- les sous-arbres gauche et droit sont aussi des ABR.\n",
    "\n",
    "Au niveau de l'implémentation en Python notre classe BinarySearchTree va **hériter** de la classe BinaryTree.\n",
    "\n",
    "\n",
    "## Création de la classe  BinarySearchTree\n",
    "\n",
    "L'héritage n'est pas au programme nous ne attarderons donc pas sur ce bout de code.\n",
    "\n",
    "```python\n",
    "class BinarySearchTree(BinaryTree):\n",
    "    \"\"\"A Binary Search Tree\"\"\"\n",
    "    \n",
    "    def __init__(self, node = None):\n",
    "        super().__init__(node = node)\n",
    "```\n",
    "\n",
    "- Ajoutez ce code à la fin de votre module binarytree\n",
    "- Modifiez votre fichier \\_\\_init\\_\\_.py de votre package en y ajoutant 'BinarySearchTree'\n",
    "- Modifiez la documentation afin qu'elle prenne en compte l'ajout de cette nouvelle classe.\n"
   ]
  },
  {
   "cell_type": "markdown",
   "metadata": {},
   "source": [
    "## Principe des algorithmes\n",
    "\n",
    "Une unique comparaison avec l'étiquette de l'arbre permet d'aiguiller le traitement vers :\n",
    "\n",
    "- soit le sous-arbre gauche\n",
    "- soit le sous-arbre droit\n",
    "\n",
    "Ce principe est très efficace car il permet, si l'ABR est bien équilibré, de diviser par 2 le nombre de valeurs à chaque aiguillage. Ce principe est donc très proche de la **dichotomie**."
   ]
  },
  {
   "cell_type": "markdown",
   "metadata": {},
   "source": [
    "### Ajout d'une méthode d'insertion\n",
    "\n",
    "La fonction d'ajout possède 2 cas :\n",
    "\n",
    "1. Soit l'élément est présent : dans ce cas il n'y a rien à faire\n",
    "2. Soit l'élement est absent : dans ce cas on ajoute notre élément comme nouvelle feuille.\n",
    "\n",
    "La signature de la fonction est :\n",
    "\n",
    "- paramètre d'entrée : une valeur\n",
    "- retourne : l'arbre binaire de recherche\n",
    "\n",
    "Voici le pseudo-code:\n",
    "\n",
    "```\n",
    "add(value)\n",
    "    si la racine est non vide:\n",
    "        si value < valeur de la racine:\n",
    "            on ajoute la valeur dans le sous-arbre gauche\n",
    "        si value > valeur de la racine:\n",
    "            on ajoute la valeur dans le sous-arbre droit\n",
    "    si la racine est vide:\n",
    "        je créé un noeud ayant comme valeur value\n",
    "```            \n",
    "Voici le brouillon de l'implémentation en python.        \n",
    "            \n",
    "```python\n",
    "def add(self, value):\n",
    "    \"\"\"\n",
    "    Add a value in the BST\n",
    "    :param value: the value to add.\n",
    "    :return: an instance of :class:`sl29.structures.BinarySearchTree`\n",
    "    :rtype: :class:`sl29.structures.BinarySearchTree`\n",
    "    \"\"\"\n",
    "    def _add(self.root(), value):\n",
    "        # YOUR CODE HERE\n",
    "        raise NotImplementedError()\n",
    "\n",
    "    return self\n",
    "```\n",
    "Une fois que votre méthode d'insertion fonctionne, ajouter cette fonction pour insérer les éléments dans un arbre binaire de recherche"
   ]
  },
  {
   "cell_type": "code",
   "execution_count": 9,
   "metadata": {},
   "outputs": [
    {
     "data": {
      "text/plain": [
       "[0, 1, 1, 2, 3, 5, 8, 13, 21, 34, 55, 89, 144, 233, 377, 610, 987]"
      ]
     },
     "execution_count": 9,
     "metadata": {},
     "output_type": "execute_result"
    }
   ],
   "source": [
    "def fibo(n):\n",
    "    n1 = 0\n",
    "    n2 = 1\n",
    "    result = [n1, n2]\n",
    "    for _ in range(2, n):\n",
    "        suivant = n1 + n2\n",
    "        result.append(suivant)\n",
    "        n1 = n2\n",
    "        n2 = suivant\n",
    "    return result\n",
    "\n",
    "fibo(17)"
   ]
  },
  {
   "cell_type": "markdown",
   "metadata": {},
   "source": [
    "Afficher l'arbre binaire de recherche obtenu.\n",
    "\n",
    "- De quel type d'arbre binaire s'agit-il ?\n",
    "- A l'aide de la méthode **shuffle** du module **random** de python, insérer ces mêmes valeurs mélangées. Que constatez vous ?\n",
    "- Appeler la méthode infixe sur cet arbre. que constatez vous ?\n",
    "\n",
    "\n",
    "Les arbres binaires de recherche doivent être le plus équilibré possible.\n",
    "\n",
    "Il faut éviter que les arbres binaires soient déséquilibrés.\n",
    "\n",
    "D'autres implémentations permettent de **rééquilibrer** l'arbre au fur et à mesure des insertions ou des suppression de valeurs. Mais ceci n'est pas au programme, il s'agit :\n",
    "\n",
    "- des [AVL](https://fr.wikipedia.org/wiki/Arbre_AVL), inventés par Georgii **A**delson-**V**elsky et Evguenii **L**andis en 1962.\n",
    "- des [arbres rouge-noir](https://fr.wikipedia.org/wiki/Arbre_bicolore) (ou B-Tree), inventés par Rudolf Bayer en 1972"
   ]
  },
  {
   "cell_type": "markdown",
   "metadata": {},
   "source": [
    "### Ajout d'une méthode de recherche\n",
    "\n",
    "Implémenter une méthode **search** qui prend en paramètre une valeur et renvoie :\n",
    "- soit le noeud qui possède la valeur;\n",
    "- rien, si la valeur n'est pas trouvée.\n",
    "\n",
    "```\n",
    "search(value)\n",
    "  si l'arbre a une racine:\n",
    "      - si valeur recherchée = valeur de la racine :\n",
    "            on retourne la racine\n",
    "      - sinon si la valeur recherchée est < à celle de la racine :\n",
    "            recherche sur le sous-arbre gauche\n",
    "      - sinon\n",
    "            recherche sur le sous-arbre droit\n",
    "```\n",
    "\n",
    "#### calcul de la complexité logarithmique\n",
    "\n",
    "##### Dans le cas d'un arbre **équilibré**\n",
    "\n",
    "Dans le cas d'un arbre **équilibré** de taille $n$, dans le pire des cas, la valeur recherchée est une feuille (ou n'est pas présente).\n",
    "\n",
    "A chaque appel récursif le nombre de valeurs est divisé par 2.\n",
    "\n",
    "$n \\rightarrow \\frac{n}{2}\\rightarrow \\frac{n}{2^2}\\rightarrow \\frac{n}{2^3}\\rightarrow....\\rightarrow \\frac{n}{2^p}$ jusqu'à n'avoir plus qu'un élément soit $1 = \\frac{n}{2^p}$\n",
    "\n",
    "Il aura donc fallu $p$ comparaisons pour trouver (ou non) la valeur. $1 = \\frac{n}{2^p} \\Leftrightarrow n=2^p \\Leftrightarrow p=\\log_{2}(n) $\n",
    "\n",
    "<div class=\"alert alert-info\">\n",
    "    <b>Le temps d'exécution est donc logarithmique. $O(\\log n)$</b>\n",
    "</div>\n",
    "\n",
    "**quelques exemples**\n",
    "\n",
    "- Pour trouver (ou non) une valeur parmi 1000 il faudra $\\log_2(1000) \\approx 10$ comparaisons\n",
    "- Pour trouver (ou non) une valeur parmi 100000 il faudra $\\log_2(100000) \\approx 17$ comparaisons\n",
    "- Si on plaçait les 70 millions de français dans un arbre binaire de recherche **équilibré** dont les clés seraient les numéros de sécurité sociale, combien faudrait-il de comparaisons, dans le pire des cas, pour trouver (ou non) une valeur parmi les 70 millions ?\n",
    "\n",
    "##### Dans le cas d'un arbre **dégénéré**\n",
    "\n",
    "Dans le cas d'un arbre **dégénéré** de taille $n$, dans le pire des cas, la valeur recherchée est une feuille (ou n'est pas présente).\n",
    "\n",
    "Dans le pire des cas, il faudra donc n comparaisons pour n valeurs.\n",
    "\n",
    "<div class=\"alert alert-info\">\n",
    "    <b>Le temps d'exécution est donc linéaire. $O(n)$</b>\n",
    "</div>\n",
    "\n",
    "\n",
    "<div class=\"alert alert-danger\">\n",
    "Il y a donc intérêt à ce qu'un arbre binaire de recherche soit le <b>plus équilibré possible</b>.\n",
    "</div>\n",
    "\n",
    "Implémenter cette méthode en Python."
   ]
  },
  {
   "cell_type": "markdown",
   "metadata": {},
   "source": [
    "### Ajout d'une méthode de suppression\n",
    "\n",
    "Cette méthode est plus compliquée car il y a 4 cas à considérer:\n",
    "1. Le noeud à enlever est une feuille : cas facile on retire la feuille\n",
    "2. Le noeud à enlever a un arbre droit mais pas d'arbre gauche\n",
    "3. Le noeud à enlever a un arbre gauche mais pas d'arbre droit\n",
    "3. Le noeud à enlever a deux sous-arbres : cas le plus compliqué à traiter.\n",
    "\n",
    "Nous n'implémenterons donc pas cette méthode dans notre programme.\n",
    "\n",
    "Pour votre information personnelle et si vous voulez l'implémenter, voici une [vidéo](https://www.youtube.com/watch?v=8K7EO7s_iFE) qui explique l'algorithme."
   ]
  },
  {
   "cell_type": "markdown",
   "metadata": {},
   "source": [
    "[Retour sur le cours des arbres](../../2_Structures_de_donnees/Arbre/arbre.ipynb)"
   ]
  },
  {
   "cell_type": "markdown",
   "metadata": {},
   "source": [
    "[Retour au sommaire](../../index.ipynb)"
   ]
  }
 ],
 "metadata": {
  "kernelspec": {
   "display_name": "Python 3",
   "language": "python",
   "name": "python3"
  },
  "language_info": {
   "codemirror_mode": {
    "name": "ipython",
    "version": 3
   },
   "file_extension": ".py",
   "mimetype": "text/x-python",
   "name": "python",
   "nbconvert_exporter": "python",
   "pygments_lexer": "ipython3",
   "version": "3.8.10"
  }
 },
 "nbformat": 4,
 "nbformat_minor": 4
}
