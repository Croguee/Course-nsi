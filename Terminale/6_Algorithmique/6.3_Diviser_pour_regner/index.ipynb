{
 "cells": [
  {
   "cell_type": "markdown",
   "metadata": {},
   "source": [
    "##### [Accueil](../../index.ipynb)"
   ]
  },
  {
   "cell_type": "markdown",
   "metadata": {},
   "source": [
    "# 6.3 Diviser pour régner\n",
    "\n",
    "Le “diviser pour régner” (divide and conquer) est une méthode algorithmique basée sur le principe suivant:\n",
    "\n",
    "On prend un problème (généralement complexe à résoudre), on divise ce problème en une multitude de petits problèmes, l'idée étant que les \"petits problèmes\" seront plus simples à résoudre que le problème original. Une fois les petits problèmes résolus, on recombine les \"petits problèmes résolus\" afin d'obtenir la solution du problème de départ.\n",
    "\n",
    "La méthode se décompose en trois étapes :\n",
    "\n",
    "1. Diviser : on divise l'instance de départ en de plus petites.\n",
    "2. Régner : on résout l'algorithme sur les \"petites\" instances précédentes.\n",
    "3. On fusionne les résultats précédents pour obtenir le résultat final.\n",
    "\n",
    "Les algorithmes basés sur le paradigme \"diviser pour régner\" sont très souvent des algorithmes **récursifs**.\n",
    "\n",
    "- [Comparaison de complexité sur la fonction puissance](exp_time_comparaison.ipynb)\n",
    "- [Le tri fusion](tri_fusion.ipynb)\n",
    "- la recherche dichotomique, vue dans le [programme de première NSI](../../../Premiere/8_Algorithmique/4_recherche_dichotomique.ipynb)\n"
   ]
  },
  {
   "cell_type": "markdown",
   "metadata": {},
   "source": [
    "## Exemple sur la puissance d'un nombre\n",
    "\n",
    "\n",
    "\n",
    "### Approche récursive\n",
    "\n",
    "Lors de l’utilisation de la récursivité, nous avions vu l’exemple du calcul de la puissance d’un nombre qui \n",
    "utilisait cette définition récursive:\n",
    "\n",
    "$$\n",
    "\\left\\{\n",
    "    \\begin{array}{ll}\n",
    "        x^0 = 1\\\\\n",
    "        x^{n+1} = x \\times x^n\n",
    "    \\end{array}\n",
    "\\right.\n",
    "$$\n",
    "\n",
    "Ce qui s'implémente en Python de la façon suivante:"
   ]
  },
  {
   "cell_type": "code",
   "execution_count": 1,
   "metadata": {},
   "outputs": [],
   "source": [
    "def puissance(x, n):\n",
    "    \"\"\"\n",
    "    Retourne x à la puissance n\n",
    "    \"\"\"\n",
    "    if n==0:\n",
    "        return 1\n",
    "    else:\n",
    "        return x*puissance(x, n-1)"
   ]
  },
  {
   "cell_type": "markdown",
   "metadata": {},
   "source": [
    "Calculons la complexité temporelle T(n) de cet algorithme.\n",
    "La complexité se détermine par le **nombre de multiplications nécessaires**.\n",
    "\n",
    "$T(x^0) = 0$ et $T(x^n) = 1+T(x^{n-1})$ soit $\\boxed{T(x^0) = 0}$ et $\\boxed{T(x^n) -  T(x^{n-1}) = 1}$\n",
    "\n",
    "On a donc: \n",
    "\n",
    "- $T(x^0) = 0$\n",
    "- ${T(x^1) -  T(x^{0}) = 1}$\n",
    "- ${T(x^2) -  T(x^{1}) = 1}$\n",
    "- ${T(x^3) -  T(x^{2}) = 1}$\n",
    "- ...\n",
    "\n",
    "- ${T(x^n) -  T(x^{n-1}) = 1}$\n",
    "\n",
    "En sommant toutes ces équations on obtient $T(x^0) + T(x^n) = n$ soit $\\boxed{T(x^n) = n}$\n",
    "\n",
    "<div class=\"alert alert-info\">\n",
    "\n",
    "**La complexité de algorithme est donc linéaire.**\n",
    "\n",
    "=> Pour calculer 2^100 il faut effectuer 100 multiplications.\n",
    "\n",
    "</div>\n"
   ]
  },
  {
   "cell_type": "markdown",
   "metadata": {},
   "source": [
    "### Approche diviser pour régner\n",
    "\n",
    "Voici une nouvelle approche : calculons $x^n$.\n",
    "\n",
    "$$\n",
    "\\left\\{\n",
    "    \\begin{array}{ll}\n",
    "        x^0 = 1\\\\\n",
    "        x^1 = x~evite~un~calcul\\\\\n",
    "        si~n~est~pair~(n=2k)~alors~x^{2k} = x^{k} \\times x^{k}\\\\\n",
    "        si~n~est~impair~(n=2k+1)~alors~x^{2k+1} = x \\times x^{2k}\n",
    "    \\end{array}\n",
    "\\right.\n",
    "$$\n",
    "\n",
    "Calculons la complexité temporelle de la méthode diviser pour régner.\n",
    "\n",
    "$$\n",
    "\\left\\{\n",
    "    \\begin{array}{ll}\n",
    "        T(x^0) = 0\\\\\n",
    "        T(x^1) = 0\\\\\n",
    "        si~n~est~pair~(n=2k)~alors~T(x^{2k}) = 1 + T(x^{k})\\\\\n",
    "        si~n~est~impair~(n=2k+1)~alors~T(x^{2k+1}) = 1 + T(x^{2k})\n",
    "    \\end{array}\n",
    "\\right.\n",
    "$$\n",
    "\n",
    "Ici la complexité est plus dure à calculer car elle dépend de la parité des puissances, par exemple:\n",
    "- 15\t=>14\t=>7\t=>6\t=>3\t=>2\t=>1\t=>0\t(7 transitions)\n",
    "- 16\t=>8\t=>4\t=>2\t=>1\t=>0\t\t\t(5 transitions)\n",
    "\n",
    "Simplifions le problème en supposant que l’exposant est une puissance de 2 (4, 8, 16….).\n",
    "\n",
    "Prenons l’exemple de $x^{64}$\n",
    "$$ T(x^{64})=1+T(x^{32})=2+T(x^{16}=3+T(x^8)=4+CT(x^4)=5+T(x^2)=6+T(x^1)=6 $$\n",
    "\n",
    "On remarque que $2^6=64$.\n",
    "\n",
    "Pour une puissance de n, on peut approximer que la complexité est k avec $\\boxed{2^k = n}$.\n",
    "\n",
    "Comment extraire k de cette équation ? En utilisant le logarithme de base 2.\n",
    "\n",
    "Ainsi $\\boxed{T(n)=log_2(n)}$\n",
    "\n",
    "<div class=\"alert alert-info\">\n",
    "\n",
    "La complexité temporelle en utilisant le type d'algorithme diviser pour régner est ici **logarithmique**.\n",
    "    \n",
    "Ainsi pour trouver un élément par $2^{20} \\approx 1.000.000$ il faudra uniquement 20 itérations\n",
    "\n",
    "</div>"
   ]
  },
  {
   "cell_type": "markdown",
   "metadata": {},
   "source": [
    "### Comparaison des deux approches\n",
    "\n",
    "<table>\n",
    "    <thead><td>nombre d'éléments</td><td>complexité séquentielle</td><td>complexité diviser pour régner</td></thead>\n",
    "    <tbody>\n",
    "        <tr><td>16</td><td>16</td><td>4</td></tr>\n",
    "        <tr><td>128</td><td>128</td><td>7</td></tr>\n",
    "        <tr><td>1024</td><td>1024</td><td>10</td></tr>\n",
    "        <tr><td>$2^{20}=1048576$</td><td>$1048576$</td><td>20</td></tr>\n",
    "    </tbody>\n",
    "</table>\n",
    "\n",
    "<div class=\"alert alert-danger\">Implémenter la fonction puissance avec les deux méthodes et comparer les temps de résolutions grace à un nuage de points.</div>"
   ]
  },
  {
   "cell_type": "code",
   "execution_count": 2,
   "metadata": {},
   "outputs": [
    {
     "data": {
      "text/plain": [
       "64"
      ]
     },
     "execution_count": 2,
     "metadata": {},
     "output_type": "execute_result"
    }
   ],
   "source": [
    "def puissanceA(x, n):\n",
    "    \"\"\"\n",
    "    Retourne x à la puissance n\n",
    "    en utilisant la récursivité basique\n",
    "    \"\"\"\n",
    "    pass\n",
    "\n",
    "puissanceA(2,6)"
   ]
  },
  {
   "cell_type": "code",
   "execution_count": 18,
   "metadata": {},
   "outputs": [],
   "source": [
    "def puissanceB(x,n):\n",
    "    \"\"\"\n",
    "    Retourne x à la puissance n\n",
    "    en utilisant la méthode diviser pour régner    \n",
    "    \"\"\"\n",
    "    pass\n",
    "\n",
    "puissanceB(2,6)"
   ]
  },
  {
   "cell_type": "code",
   "execution_count": 19,
   "metadata": {},
   "outputs": [
    {
     "data": {
      "image/png": "[encoded data removed]",
      "text/plain": [
       "<Figure size 1080x720 with 1 Axes>"
      ]
     },
     "metadata": {
      "needs_background": "light"
     },
     "output_type": "display_data"
    }
   ],
   "source": [
    "import timeit\n",
    "import matplotlib.pyplot as plt\n",
    "\n",
    "# faisons une liste des puissance et du pas\n",
    "puissances = [i for i in range(0, 1024, 16)]\n",
    "resultsA=[]\n",
    "resultsB=[]\n",
    "resultsC=[]\n",
    "# On teste sur ce nombre\n",
    "number=60\n",
    "for p in puissances:\n",
    "    # Cas de la puissance recursive basique\n",
    "    starttime = timeit.default_timer()\n",
    "    puissanceA(number,p)\n",
    "    diffA=timeit.default_timer() - starttime\n",
    "    resultsA.append(diffA)\n",
    "    # Cas de la puissance recursive diviser pour régner\n",
    "    starttime = timeit.default_timer()\n",
    "    puissanceB(number,p)\n",
    "    diffB=timeit.default_timer() - starttime\n",
    "    resultsB.append(diffB)\n",
    "    # Cas de la puissance système\n",
    "    starttime = timeit.default_timer()\n",
    "    number**p\n",
    "    diffC=timeit.default_timer() - starttime\n",
    "    resultsC.append(diffC)\n",
    "\n",
    "# création du graphique de points\n",
    "x = [p for p in puissances]\n",
    "yA = [r*1000 for r in resultsA]\n",
    "yB = [r*1000 for r in resultsB]\n",
    "yC = [r*1000 for r in resultsC]\n",
    "\n",
    "plt.figure(figsize=(15,10))\n",
    "plt.ylim(top=1000*max(resultsA))\n",
    "plt.scatter(x,yA, c='red', s=8, label=\"exponentielle par recursion simple\")\n",
    "plt.scatter(x,yB, c='green', s=8, label=\"exponentielle par diviser pour régner\")\n",
    "plt.scatter(x,yC, c='blue', s=8, label=\"exponentielle système\")\n",
    "plt.grid(which='both')\n",
    "plt.title(\"Comparaison d'execution\")\n",
    "plt.xlabel('puissance')\n",
    "plt.ylabel('temps en ms')\n",
    "plt.legend(loc='upper left')\n",
    "plt.show()"
   ]
  },
  {
   "cell_type": "markdown",
   "metadata": {},
   "source": [
    "## Le tri fusion\n",
    "\n",
    "[voir la chorégraphie en musique](https://www.youtube.com/watch?v=dENca26N6V4)\n",
    "\n",
    " [une vidéo explicative](https://www.youtube.com/watch?v=OEmlVnH3aUg)\n",
    "\n",
    "La recherche dichotomique d’un élément dans une liste triée, vue en première, consiste à séparer la liste triée en 2 sous listes, puis à réitérer l’opération en se ramenant à un seul élément.\n",
    "\n",
    "Exemple : 10 est-il dans [0, 2, 5, 8, 12, 15, 20]?\n",
    "\n",
    "- On coupe la liste est deux  en  2 : [0, 2, 5] et [8, 12, 15, 20] on cherche uniquement à droite;\n",
    "- On coupe la liste est deux  en  2 : [8, 12] et [15, 20] on cherche uniquement à gauche;\n",
    "- On coupe la liste est deux  en  2 : [8] et [12].\n",
    "=> Non\n",
    "\n",
    "On remarque que la résolution d’un des deux sous-problèmes consiste ici à ne rien faire.\n",
    "\n",
    "Le tri fusion s’appuie sur ce mécanisme de **dichotomie** et s’implémente de façon **récursive**.\n",
    "\n",
    "### Histoire\n",
    "\n",
    "Le tri fusion a été inventé en 1945 par un des pères de l'informatique, [John von Neumann](../../../Premiere/6_Architecture/1_modele_architecture.ipynb#von_neumann)\n",
    "\n",
    "### Principe\n",
    "Comme tout algorithme de tri, le principe consiste à partir d’une liste désordonnée et à obtenir une liste triée dans l’ordre croissant.\n",
    "Voici la décomposition du principe:\n",
    "- On partitionne la liste en deux parts;\n",
    "- On fusionne l’ensemble des parties.\n",
    "\n",
    "La principale difficulté provient de l’aspect **récursif** de l’implémentation.\n",
    "\n",
    "**Exemples**\n",
    "Voici la représentation du résultat pour la liste [4, 3, 2, 1]\n",
    "Dans le cas d’une longueur de liste qui est une puissance de 2, le graphe est symétrique.\n",
    "\n",
    "![](graphe1.png)\n",
    "\n",
    "Et le voici pour la liste [5, 4, 3, 2, 1]\n",
    "![](graphe2.png)\n",
    "\n",
    "Explication du tri de la liste [4, 2, 8, 6, 0, 5, 1, 7, 3, 9] en danse et musique.\n",
    "![](graphe3.png)\n",
    "\n",
    "### Implémentation en Python\n",
    "\n",
    "La fusion\n",
    "\n",
    "Nous allons commencer par implémenter la fusion de 2 listes triées.\n",
    "Voici la signature de la fonction:\n",
    "\n",
    "\n",
    "\n"
   ]
  },
  {
   "cell_type": "code",
   "execution_count": 1,
   "metadata": {},
   "outputs": [
    {
     "name": "stdout",
     "output_type": "stream",
     "text": [
      "[]\n",
      "[]\n"
     ]
    }
   ],
   "source": [
    "def fusion(T1, T2):\n",
    "    \"\"\"\n",
    "    T1 : une liste triée\n",
    "    T2 : une liste triée\n",
    "    Retourne la fusion des 2 listes triée\n",
    "    \"\"\"\n",
    "    result=[]\n",
    "    i1 = i2 = 0\n",
    "    \n",
    "    # TODO\n",
    "    \n",
    "    return result\n",
    "\n",
    "\n",
    "print(fusion([1,3,4,7], [2,5,6,9,10,11,12]))\n",
    "print(fusion([2], [1]))"
   ]
  },
  {
   "cell_type": "markdown",
   "metadata": {},
   "source": [
    "### Le tri fusion\n",
    "\n",
    "Implémenter, de manière récursive, la division en deux parties, d’une liste non triée. Puis inclure la fonction **fusion** dans votre fonction\n",
    "Voici la signature de la fonction:\n"
   ]
  },
  {
   "cell_type": "code",
   "execution_count": 6,
   "metadata": {},
   "outputs": [],
   "source": [
    "def tri_fusion(tableau):\n",
    "    \"\"\"\n",
    "    tableau : une liste d'entiers ou de flottant\n",
    "    Retourne le tableau trié dans l'ordre croissant\n",
    "    \"\"\"\n",
    "    # TODO"
   ]
  },
  {
   "cell_type": "markdown",
   "metadata": {},
   "source": [
    "La complexité d’un [tri par insertion](../../../Premiere/8_Algorithmique/2_tri_insertion_selection.ipynb) est quadratique : $\\boxed{T_{insertion}(n)=n^2}$\n",
    "\n",
    "\n",
    "Le calcul de la complexité temporelle de l’algorithme du tri fusion n’est pas au programme mais on peut “sentir” que pour une liste qui contient $2^k$ éléments, il faudra k étapes diviser ces $2^k$ éléments pour se ramener à des listes uniques. La complexité pour la **division** est donc **logarithmique**.\n",
    "\n",
    "Ensuite, pour la **fusion**, prend également k étapes, mais la complexité dépend de la longueur des listes à fusionner qui double à chaque étape, on se ramène donc à du **linéaire**.\n",
    "\n",
    "<div class=\"alert alert-info\">\n",
    "\n",
    "On admettra que la complexité pour trier une liste de n éléments est :\n",
    "\n",
    "$\\boxed{T_{fusion}(n)=n\\times log_2(n)}$ on di que la complexité du tri fusion est **linearithmique**.\n",
    "    \n",
    "</div>"
   ]
  },
  {
   "cell_type": "code",
   "execution_count": 23,
   "metadata": {},
   "outputs": [
    {
     "data": {
      "image/png": "[encoded data removed]",
      "text/plain": [
       "<Figure size 720x720 with 1 Axes>"
      ]
     },
     "metadata": {
      "needs_background": "light"
     },
     "output_type": "display_data"
    }
   ],
   "source": [
    "import matplotlib.pyplot as plt\n",
    "from math import log, factorial\n",
    "\n",
    "plt.figure(figsize=(10, 10))\n",
    "x = range(3,11)\n",
    "y1 = [i for i in x]\n",
    "y3 = [i**2 for i in x]\n",
    "y5 = [i*log(i) for i in x]\n",
    "plt.plot(x, y1, label='linéaire')\n",
    "plt.plot(x, y5, label='linéarithmique')\n",
    "plt.plot(x, y3, label='quadratique')\n",
    "plt.legend()\n",
    "plt.title('Comparaisons de 3 différentes complexités')\n",
    "plt.grid(True)\n",
    "plt.show()"
   ]
  },
  {
   "cell_type": "markdown",
   "metadata": {},
   "source": [
    "## Conclusion\n",
    "\n",
    "Le principe de la méthode diviser pour régner est:\n",
    "- découper le problème en sous-problèmes qui s’énoncent de la même manière;\n",
    "- résoudre les cas limites;\n",
    "- combiner les solutions.\n",
    "\n",
    "Nous avons observé que dans certains cas (calcul de puissance et tri fusion), le gain de temps est considérable par rapport à une approche plus “naïve”.\n",
    "\n",
    "Cette méthode peut se révéler parfois efficace parfois non, tout dépend du type de problème à résoudre.\n",
    "\n",
    "Le calcul de la complexité peut donner un ordre d’idée du comportement mais il est souvent difficile à solutionner car il faut expliciter une suite mathématique."
   ]
  },
  {
   "cell_type": "markdown",
   "metadata": {},
   "source": [
    "##### [Retour à l'accueil](../../index.ipynb)"
   ]
  },
  {
   "cell_type": "code",
   "execution_count": null,
   "metadata": {},
   "outputs": [],
   "source": []
  }
 ],
 "metadata": {
  "kernelspec": {
   "display_name": "Python 3",
   "language": "python",
   "name": "python3"
  },
  "language_info": {
   "codemirror_mode": {
    "name": "ipython",
    "version": 3
   },
   "file_extension": ".py",
   "mimetype": "text/x-python",
   "name": "python",
   "nbconvert_exporter": "python",
   "pygments_lexer": "ipython3",
   "version": "3.8.10"
  }
 },
 "nbformat": 4,
 "nbformat_minor": 4
}
