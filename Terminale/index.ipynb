{
 "cells": [
  {
   "cell_type": "markdown",
   "metadata": {},
   "source": [
    "[Retour à l'accueil](../index.ipynb)"
   ]
  },
  {
   "cell_type": "markdown",
   "metadata": {},
   "source": [
    "# NSI - Terminale\n",
    "\n",
    "## Sommaire\n",
    "\n",
    "- 1 Histoire\n",
    "- 2 Structures de données\n",
    "  - 2.1 Interface et implémentation\n",
    "  - 2.2 [Programmation objet](2_Structures_de_donnees/Langage_Objet/Le_langage_objet.ipynb)\n",
    "  - 2.3 [Listes](2_Structures_de_donnees/List/List.ipynb), [piles et files](2_Structures_de_donnees/Pile_et_File/Pile_et_File.ipynb). Dictionnaires, index et clé\n",
    " - 2.4 [Arbres, Arbres binaires](2_Structures_de_donnees/Arbre/arbre.ipynb)\n",
    " - 2.5 Graphes\n",
    "- 3 Base de données\n",
    "  - 3.1 Modèle relationnel\n",
    "  - 3.2 Base de données relationnelle\n",
    "  - 3.3 Système de gestion de bases de données relationnelles\n",
    "  - 3.4 Langage SQL\n",
    "- 4 Architecture matérielle et système d'exploitation\n",
    "  - 4.1 [Composants intégrés d'un système sur puce](4_Archi_Reseau/4.1_soc/4.1_soc.ipynb)\n",
    "  - 4.2 [Gestion des processus par l'OS](4_Archi_Reseau/4.2_processus/4.2_processus.ipynb)\n",
    "  - 4.3 Protocole de routage\n",
    "  - 4.4 Sécurisation des communications\n",
    "- 5 Langages et programmation\n",
    "  - 5.1 Programme en tant que donnée, calculabilité, décidabilité\n",
    "  - 5.2 [Récursivité](5_langages_programmation/Recursivite/recursivite.ipynb)\n",
    "  - 5.3 Modularité\n",
    "  - 5.4 Paradigmes\n",
    "  - 5.5 Mise au point des programmes, gestion des bugs\n",
    "- 6 Algorithmique\n",
    "  - 6.1 Algorithme sur les [arbres binaires](6_Algorithmique/6.1_BT_BST/binary_tree.ipynb) et les [BST](6_Algorithmique/6.1_BT_BST/binary_search_tree.ipynb)\n",
    "  - 6.2 Algorithme sur les graphes.\n",
    "  - 6.3 [Diviser pour régner](6_Algorithmique/6.3_Diviser_pour_regner/index.ipynb)\n",
    "  - 6.4 Programmation dynamique\n",
    "  - 6.5 [Recherche textuelle](6_Algorithmique/6.5_Recherche_textuelle/boyer_moore.ipynb)"
   ]
  },
  {
   "cell_type": "markdown",
   "metadata": {},
   "source": [
    "[Retour à l'accueil](../index.ipynb)"
   ]
  }
 ],
 "metadata": {
  "kernelspec": {
   "display_name": "Python 3",
   "language": "python",
   "name": "python3"
  },
  "language_info": {
   "codemirror_mode": {
    "name": "ipython",
    "version": 3
   },
   "file_extension": ".py",
   "mimetype": "text/x-python",
   "name": "python",
   "nbconvert_exporter": "python",
   "pygments_lexer": "ipython3",
   "version": "3.8.10"
  }
 },
 "nbformat": 4,
 "nbformat_minor": 4
}
